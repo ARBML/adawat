{
  "cells": [
    {
      "cell_type": "markdown",
      "metadata": {
        "id": "view-in-github",
        "colab_type": "text"
      },
      "source": [
        "<a href=\"https://colab.research.google.com/github/ARBML/adawat/blob/main/notebooks/turjuman.ipynb\" target=\"_parent\"><img src=\"https://colab.research.google.com/assets/colab-badge.svg\" alt=\"Open In Colab\"/></a>"
      ]
    },
    {
      "cell_type": "markdown",
      "metadata": {
        "id": "A_kDLcjaRErP"
      },
      "source": [
        "#TURJUMAN\n",
        "Turjuman is a neural machine translation toolkit. It translates from 20 languages into Modern Standard Arabic (MSA). Turjuman is described in this paper: [**TURJUMAN: A Public Toolkit for Neural Arabic Machine Translation**](https://arxiv.org/abs/2206.03933). Turjuman exploits our [AraT5 model](https://github.com/UBC-NLP/araT5). This endows Turjuman with a powerful ability to decode into Arabic. The toolkit offers the possibility of employing a number of diverse decoding methods, making it suited for acquiring paraphrases for the MSA translations as an added value.\n",
        "\n",
        "---\n",
        "\n",
        "\n",
        "https://github.com/UBC-NLP/turjuman"
      ]
    },
    {
      "cell_type": "markdown",
      "metadata": {
        "id": "K4wxJ06TSRad"
      },
      "source": [
        "##Install requirments"
      ]
    },
    {
      "cell_type": "code",
      "execution_count": null,
      "metadata": {
        "colab": {
          "base_uri": "https://localhost:8080/"
        },
        "id": "YH2WCTBYSasB",
        "outputId": "bea800c2-53bf-4fa0-a48a-b75638ea8935"
      },
      "outputs": [
        {
          "name": "stdout",
          "output_type": "stream",
          "text": [
            "\u001b[K     |████████████████████████████████| 1.2 MB 3.2 MB/s \n",
            "\u001b[K     |████████████████████████████████| 4.2 MB 36.4 MB/s \n",
            "\u001b[K     |████████████████████████████████| 90 kB 5.9 MB/s \n",
            "\u001b[K     |████████████████████████████████| 114 kB 47.4 MB/s \n",
            "\u001b[K     |████████████████████████████████| 342 kB 37.1 MB/s \n",
            "\u001b[K     |████████████████████████████████| 1.1 MB 43.2 MB/s \n",
            "\u001b[K     |████████████████████████████████| 136 kB 50.6 MB/s \n",
            "\u001b[K     |████████████████████████████████| 84 kB 2.7 MB/s \n",
            "\u001b[K     |████████████████████████████████| 212 kB 50.4 MB/s \n",
            "\u001b[K     |████████████████████████████████| 127 kB 13.2 MB/s \n",
            "\u001b[K     |████████████████████████████████| 271 kB 43.0 MB/s \n",
            "\u001b[K     |████████████████████████████████| 144 kB 38.2 MB/s \n",
            "\u001b[K     |████████████████████████████████| 94 kB 2.0 MB/s \n",
            "\u001b[K     |████████████████████████████████| 6.6 MB 37.4 MB/s \n",
            "\u001b[K     |████████████████████████████████| 596 kB 50.3 MB/s \n",
            "\u001b[?25h  Building wheel for turjuman (setup.py) ... \u001b[?25l\u001b[?25hdone\n",
            "\u001b[31mERROR: pip's dependency resolver does not currently take into account all the packages that are installed. This behaviour is the source of the following dependency conflicts.\n",
            "datascience 0.10.6 requires folium==0.2.1, but you have folium 0.8.3 which is incompatible.\u001b[0m\n"
          ]
        }
      ],
      "source": [
        "!pip install git+https://github.com/UBC-NLP/turjuman.git --q"
      ]
    },
    {
      "cell_type": "code",
      "execution_count": null,
      "metadata": {
        "id": "6f1s8sbBzFRE"
      },
      "outputs": [],
      "source": [
        "import pandas as pd\n",
        "pd.set_option('display.max_columns', None)  \n",
        "pd.set_option('display.max_colwidth', None)"
      ]
    },
    {
      "cell_type": "markdown",
      "metadata": {
        "id": "yIEH75xsSa9R"
      },
      "source": [
        "##Turjuman Command Line Interface (CLI)\n",
        "Turjuman cli support two types of inputs:\n",
        "- **-t** or **--text**: Write you input text directly on the command line. The translation will display directly on the terminal.\n",
        "- **-f** or **--input_file**: import the text from file. The translation will saved on the JSON format file."
      ]
    },
    {
      "cell_type": "markdown",
      "metadata": {
        "id": "rgMZ6MN10hHt"
      },
      "source": [
        "### (1) Usage and Arguments\n"
      ]
    },
    {
      "cell_type": "code",
      "execution_count": null,
      "metadata": {
        "colab": {
          "base_uri": "https://localhost:8080/"
        },
        "id": "fmf8WadmzvxR",
        "outputId": "891adf64-7a9a-429f-bbbb-a5bbc652c01d"
      },
      "outputs": [
        {
          "name": "stdout",
          "output_type": "stream",
          "text": [
            "usage: turjuman_translate [-h] [-t TEXT] [-f INPUT_FILE] [-m SEARCH_METHOD]\n",
            "                          [-s SEQ_LENGTH] [-o MAX_OUTPUTS] [-b NUM_BEAMS]\n",
            "                          [-n NO_REPEAT_NGRAM_SIZE] [-k TOP_K] [-p TOP_P]\n",
            "                          [-c CACHE_DIR] [-l LOGGING_FILE] [-bs BATCH_SIZE]\n",
            "\n",
            "Turjuman Translate Command Line Interface (CLI)\n",
            "\n",
            "optional arguments:\n",
            "  -h, --help            show this help message and exit\n",
            "  -t TEXT, --text TEXT  Translate the input text\n",
            "  -f INPUT_FILE, --input_file INPUT_FILE\n",
            "                        Translate the input file\n",
            "  -m SEARCH_METHOD, --search_method SEARCH_METHOD\n",
            "                        Turjuman translation search method should be one of\n",
            "                        the follows ['greedy', 'beam', 'sampling'], default\n",
            "                        value is beam search\n",
            "  -s SEQ_LENGTH, --seq_length SEQ_LENGTH\n",
            "                        The maximum sequence length value, default vlaue is\n",
            "                        300\n",
            "  -o MAX_OUTPUTS, --max_outputs MAX_OUTPUTS\n",
            "                        The maxmuim of the output tanslations, default vlaue\n",
            "                        is 1\n",
            "  -b NUM_BEAMS, --num_beams NUM_BEAMS\n",
            "                        Number of beams, default vlaue is 5\n",
            "  -n NO_REPEAT_NGRAM_SIZE, --no_repeat_ngram_size NO_REPEAT_NGRAM_SIZE\n",
            "                        Number of n-gram that doesn't appears twice, default\n",
            "                        vlaue is 2\n",
            "  -k TOP_K, --top_k TOP_K\n",
            "                        Sample from top K likely next words instead of all\n",
            "                        words, default vlaue is 50\n",
            "  -p TOP_P, --top_p TOP_P\n",
            "                        Sample from the smallest set whose cumulative\n",
            "                        probability mass exceeds p for next words, default\n",
            "                        vlaue is 0.95\n",
            "  -c CACHE_DIR, --cache_dir CACHE_DIR\n",
            "                        The cache directory path, default vlaue is\n",
            "                        turjuman_cache directory\n",
            "  -l LOGGING_FILE, --logging_file LOGGING_FILE\n",
            "                        The logging file path, default vlaue is None\n",
            "  -bs BATCH_SIZE, --batch_size BATCH_SIZE\n",
            "                        The maximum number of source examples utilized in one\n",
            "                        iteration\n"
          ]
        }
      ],
      "source": [
        " !turjuman_translate -h"
      ]
    },
    {
      "cell_type": "markdown",
      "metadata": {
        "id": "9Vmrkr9azIXZ"
      },
      "source": [
        "## (2) Translate using beam search (default)\n",
        "- **Beam search** is the *default* generation method on Turjuman\n",
        "- Beam search default setting:\n",
        "  - **-s** or **--seq_length**: The maximum sequence length value, *default value is 300*\n",
        "  - **-o** or **--max_outputs**: The maximum of the output tanslations (*default value is 1*)\n",
        "  - **-b** or **--num_beams NUM_BEAMS**: Number of beams (*default value is 1*)\n",
        "  - **-n** or **--no_repeat_ngram_size**: Number of n-gram that doesn't appears twice (*default value is 2*)"
      ]
    },
    {
      "cell_type": "code",
      "execution_count": null,
      "metadata": {
        "colab": {
          "base_uri": "https://localhost:8080/"
        },
        "id": "J5mTVnmey1ZF",
        "outputId": "678d68c6-2d81-49ce-9ffa-705d71cf9b4c"
      },
      "outputs": [
        {
          "name": "stdout",
          "output_type": "stream",
          "text": [
            "2022-05-18 00:00:27 | INFO | turjuman.translate_cli | Turjuman Translate Command Line Interface\n",
            "2022-05-18 00:00:27 | INFO | turjuman.translate_cli | Translate from input sentence\n",
            "2022-05-18 00:00:27 | INFO | turjuman.translate_cli | Loading model from UBC-NLP/turjuman\n",
            "Downloading: 100% 1.85k/1.85k [00:00<00:00, 1.71MB/s]\n",
            "Downloading: 100% 565/565 [00:00<00:00, 460kB/s]\n",
            "Downloading: 100% 2.32M/2.32M [00:00<00:00, 12.4MB/s]\n",
            "Downloading: 100% 1.74k/1.74k [00:00<00:00, 1.54MB/s]\n",
            "Downloading: 100% 565/565 [00:00<00:00, 455kB/s]\n",
            "Downloading: 100% 1.05G/1.05G [00:22<00:00, 51.3MB/s]\n",
            "2022-05-18 00:00:57 | INFO | turjuman.translate_cli | Using beam search\n",
            "2022-05-18 00:01:01 | ERROR | turjuman.translate_cli | extract outputs\n",
            "target: وبينما تصل الولايات المتحدة إلى مليون حالة وفاة من فيروس كوفيد-19 ، كيف يتعامل الأمريكيون مع ذلك ؟\n"
          ]
        }
      ],
      "source": [
        " # Beam search is the default generation method on Turjuman\n",
        " !turjuman_translate --text \"As US reaches one million COVID deaths, how are Americans coping?\""
      ]
    },
    {
      "cell_type": "markdown",
      "metadata": {
        "id": "IxXNAdmEGApC"
      },
      "source": [
        "## (3) Translate using greedy search\n",
        "- Greedy search default setting:\n",
        "  - **-s** or **--seq_length**: The maximum sequence length value, *default vlaue is 300*"
      ]
    },
    {
      "cell_type": "code",
      "execution_count": null,
      "metadata": {
        "colab": {
          "base_uri": "https://localhost:8080/"
        },
        "id": "Ilx8hd44CXYS",
        "outputId": "65741732-fe6e-431d-d5b0-3727ca9c073e"
      },
      "outputs": [
        {
          "name": "stdout",
          "output_type": "stream",
          "text": [
            "2022-05-18 00:01:07 | INFO | turjuman.translate_cli | Turjuman Translate Command Line Interface\n",
            "2022-05-18 00:01:07 | INFO | turjuman.translate_cli | Translate from input sentence\n",
            "2022-05-18 00:01:07 | INFO | turjuman.translate_cli | Loading model from UBC-NLP/turjuman\n",
            "2022-05-18 00:01:14 | INFO | turjuman.translate_cli | Using greedy search\n",
            "2022-05-18 00:01:16 | ERROR | turjuman.translate_cli | extract outputs\n",
            "target: وبما أن الولايات المتحدة تصل إلى مليون حالة وفاة من فيروس كوفيد-19 ، كيف يمكن للولايات المتحدة أن تتصدى لهذا ؟\n"
          ]
        }
      ],
      "source": [
        "!turjuman_translate --search_method greedy --text \"As US reaches one million COVID deaths, how are Americans coping?\""
      ]
    },
    {
      "cell_type": "markdown",
      "metadata": {
        "id": "cNDGxEorGcM5"
      },
      "source": [
        "## (4) Translate using sampling search\n",
        "- Sampling search default setting:\n",
        "  - **-s** or **--seq_length**: The maximum sequence length value, *default value is 300*\n",
        "  - **-o** or **--max_outputs**: The maximum of the output tanslations (*default value is 1*)\n",
        "  - **-k** or **--top_k**: Sample from top K likely next words instead of all words (*default value is 50*)\n",
        "  - **-p** or **--top_p**: Sample from the smallest set whose cumulative probability mass exceeds p for next words (*default value is 0.95*)"
      ]
    },
    {
      "cell_type": "code",
      "execution_count": null,
      "metadata": {
        "colab": {
          "base_uri": "https://localhost:8080/"
        },
        "id": "xvW56rEiCgnf",
        "outputId": "badd2cb5-c8ce-4e83-f8fb-995386c533f9"
      },
      "outputs": [
        {
          "name": "stdout",
          "output_type": "stream",
          "text": [
            "2022-05-18 00:01:38 | INFO | turjuman.translate_cli | Turjuman Translate Command Line Interface\n",
            "2022-05-18 00:01:38 | INFO | turjuman.translate_cli | Translate from input sentence\n",
            "2022-05-18 00:01:38 | INFO | turjuman.translate_cli | Loading model from UBC-NLP/turjuman\n",
            "2022-05-18 00:01:44 | INFO | turjuman.translate_cli | Using sampling search\n",
            "2022-05-18 00:01:47 | ERROR | turjuman.translate_cli | extract outputs\n",
            "target: وبوصول الولايات المتحدة الأمريكية إلى مليون حالة وفاة بسبب كوفيد-19 ، كيف يمكن الأميركيين أن يتعاملوا مع ذلك ؟\n"
          ]
        }
      ],
      "source": [
        "!turjuman_translate --search_method sampling --text \"As US reaches one million COVID deaths, how are Americans coping?\""
      ]
    },
    {
      "cell_type": "markdown",
      "metadata": {
        "id": "sTGSrBa9JWdL"
      },
      "source": [
        "## (5) Read and translate text from file\n",
        "- **-f** or **--input_file**: import the text from file. The translation will saved on the JSON format file\n",
        "- **-bs** or **--batch_size**: The maximum number of source examples utilized in one iteration (default value is 25)"
      ]
    },
    {
      "cell_type": "code",
      "execution_count": null,
      "metadata": {
        "colab": {
          "base_uri": "https://localhost:8080/"
        },
        "id": "JJ_-w_y8JyGt",
        "outputId": "09f1caea-ab4e-441e-97ff-3f3180babd5b"
      },
      "outputs": [
        {
          "name": "stdout",
          "output_type": "stream",
          "text": [
            "--2022-05-18 00:01:54--  https://raw.githubusercontent.com/UBC-NLP/turjuman/main/examples/samples.txt\n",
            "Resolving raw.githubusercontent.com (raw.githubusercontent.com)... 185.199.108.133, 185.199.109.133, 185.199.110.133, ...\n",
            "Connecting to raw.githubusercontent.com (raw.githubusercontent.com)|185.199.108.133|:443... connected.\n",
            "HTTP request sent, awaiting response... 200 OK\n",
            "Length: 732 [text/plain]\n",
            "Saving to: ‘samples.txt’\n",
            "\n",
            "\rsamples.txt           0%[                    ]       0  --.-KB/s               \rsamples.txt         100%[===================>]     732  --.-KB/s    in 0s      \n",
            "\n",
            "2022-05-18 00:01:54 (34.3 MB/s) - ‘samples.txt’ saved [732/732]\n",
            "\n"
          ]
        }
      ],
      "source": [
        "!wget https://raw.githubusercontent.com/UBC-NLP/turjuman/main/examples/samples.txt"
      ]
    },
    {
      "cell_type": "code",
      "execution_count": null,
      "metadata": {
        "colab": {
          "base_uri": "https://localhost:8080/"
        },
        "id": "S0TI6W24HGk9",
        "outputId": "5aa783b7-f8ed-43c3-a75b-dada20996083"
      },
      "outputs": [
        {
          "name": "stdout",
          "output_type": "stream",
          "text": [
            "2022-05-18 00:02:08 | INFO | turjuman.translate_cli | Turjuman Translate Command Line Interface\n",
            "2022-05-18 00:02:08 | INFO | turjuman.translate_cli | Translate from input file samples.txt\n",
            "2022-05-18 00:02:08 | INFO | turjuman.translate_cli | Loading model from UBC-NLP/turjuman\n",
            "2022-05-18 00:02:14 | INFO | turjuman.translate_cli | Using beam search\n",
            "2022-05-18 00:02:14 | INFO | turjuman.translate_cli | Loading source text from file (samples.txt)\n",
            "2022-05-18 00:02:14 | WARNING | datasets.builder | Using custom data configuration default-9c05233ea5cb76ef\n",
            "Downloading and preparing dataset text/default to ./turjuman_cache/text/default-9c05233ea5cb76ef/0.0.0/4b86d314f7236db91f0a0f5cda32d4375445e64c5eda2692655dd99c2dac68e8...\n",
            "Downloading data files: 100% 1/1 [00:00<00:00, 5419.00it/s]\n",
            "Extracting data files: 100% 1/1 [00:00<00:00, 1024.25it/s]\n",
            "Dataset text downloaded and prepared to ./turjuman_cache/text/default-9c05233ea5cb76ef/0.0.0/4b86d314f7236db91f0a0f5cda32d4375445e64c5eda2692655dd99c2dac68e8. Subsequent calls will reuse this data.\n",
            "100% 1/1 [00:00<00:00, 161.41it/s]\n",
            "2022-05-18 00:02:14 | INFO | turjuman.translate_cli | Running tokenizer on source text\n",
            "tcmalloc: large alloc 1290076160 bytes == 0x12513e000 @  0x7f01deea1615 0x592b76 0x4df71e 0x593605 0x515244 0x593dd7 0x548ae9 0x51566f 0x593dd7 0x5118f8 0x549576 0x593fce 0x5118f8 0x593dd7 0x5118f8 0x549576 0x593fce 0x5118f8 0x549576 0x4bca8a 0x59c019 0x595ef6 0x5134a6 0x549576 0x593fce 0x5118f8 0x593dd7 0x5118f8 0x549576 0x593fce 0x5118f8\n",
            "100% 1/1 [00:00<00:00, 71.95ba/s]\n",
            "translate:   0% 0/1 [00:00<?, ?it/s]2022-05-18 00:02:20 | INFO | turjuman.translate_cli | Translating with batch_size 25 and #batches = 1\n",
            "translate: 100% 1/1 [00:18<00:00, 18.90s/it]\n",
            "2022-05-18 00:02:38 | ERROR | turjuman.translate_cli | extract outputs\n",
            "2022-05-18 00:02:38 | INFO | turjuman.translate_cli | The translation are saved on samples_Turjuman_translate.json\n"
          ]
        }
      ],
      "source": [
        " # translate sentences that imported from file using default Beam search\n",
        " !turjuman_translate --input_file samples.txt"
      ]
    },
    {
      "cell_type": "code",
      "execution_count": null,
      "metadata": {
        "colab": {
          "base_uri": "https://localhost:8080/",
          "height": 301
        },
        "id": "eqwIswDDKjeB",
        "outputId": "3bfa293a-c2d7-4b7f-ef6b-c8e8b3e94bdc"
      },
      "outputs": [
        {
          "data": {
            "text/html": [
              "\n",
              "  <div id=\"df-28ed9e30-9788-4776-b9af-e6c5db65642e\">\n",
              "    <div class=\"colab-df-container\">\n",
              "      <div>\n",
              "<style scoped>\n",
              "    .dataframe tbody tr th:only-of-type {\n",
              "        vertical-align: middle;\n",
              "    }\n",
              "\n",
              "    .dataframe tbody tr th {\n",
              "        vertical-align: top;\n",
              "    }\n",
              "\n",
              "    .dataframe thead th {\n",
              "        text-align: right;\n",
              "    }\n",
              "</style>\n",
              "<table border=\"1\" class=\"dataframe\">\n",
              "  <thead>\n",
              "    <tr style=\"text-align: right;\">\n",
              "      <th></th>\n",
              "      <th>source</th>\n",
              "      <th>target</th>\n",
              "    </tr>\n",
              "  </thead>\n",
              "  <tbody>\n",
              "    <tr>\n",
              "      <th>0</th>\n",
              "      <td>As US reaches one million COVID deaths, how are Americans coping?</td>\n",
              "      <td>وبينما تصل الولايات المتحدة إلى مليون حالة وفاة من فيروس كوفيد-19 ، كيف يتعامل الأمريكيون مع ذلك ؟</td>\n",
              "    </tr>\n",
              "    <tr>\n",
              "      <th>1</th>\n",
              "      <td>Here is what you need to know.</td>\n",
              "      <td>إليكم ما تحتاجون إلى معرفته.</td>\n",
              "    </tr>\n",
              "    <tr>\n",
              "      <th>2</th>\n",
              "      <td>Это список суверенных государств и зависимых территорий в Азии .</td>\n",
              "      <td>هذه قائمة الدول ذات السيادة والأقاليم التابعة في آسيا.</td>\n",
              "    </tr>\n",
              "    <tr>\n",
              "      <th>3</th>\n",
              "      <td>U-901 è un sottomarino tedesco .</td>\n",
              "      <td>يو-901 هي غواصة ألمانية.</td>\n",
              "    </tr>\n",
              "    <tr>\n",
              "      <th>4</th>\n",
              "      <td>Όλες οι πτήσεις προς τα Νησιά Ανταμάν και Νικομπάρ διεξάγονται στο Διεθνές Αεροδρόμιο Βιρ Σαβαρκάρ .</td>\n",
              "      <td>جميع الرحلات إلى جزر عدن و نيكبار تتم عبر مطار فير سافاركار الدولي.</td>\n",
              "    </tr>\n",
              "    <tr>\n",
              "      <th>5</th>\n",
              "      <td>Bir tür sözel olmayan iletişim biçimidir ve sosyal davranış üzerinde büyük etkisi olduğu düşünülmektedir .</td>\n",
              "      <td>وهو نوع من التواصل غير الرسمي ، ويعتقد أنه له تأثير كبير على السلوك الاجتماعي.</td>\n",
              "    </tr>\n",
              "    <tr>\n",
              "      <th>6</th>\n",
              "      <td>Jeg kan betale for din datters behandling .</td>\n",
              "      <td>يمكنني أن أدفع ثمن علاج ابنتك</td>\n",
              "    </tr>\n",
              "    <tr>\n",
              "      <th>7</th>\n",
              "      <td>Strefa przemysłowa dla inwestycji zagranicznych .</td>\n",
              "      <td>قطاع الصناعات التحويلية للاستثمار الأجنبي.</td>\n",
              "    </tr>\n",
              "    <tr>\n",
              "      <th>8</th>\n",
              "      <td>क्या तुम्हें यकीन है कि वही है ?</td>\n",
              "      <td>هل أنت واثق من ذلك ؟</td>\n",
              "    </tr>\n",
              "  </tbody>\n",
              "</table>\n",
              "</div>\n",
              "      <button class=\"colab-df-convert\" onclick=\"convertToInteractive('df-28ed9e30-9788-4776-b9af-e6c5db65642e')\"\n",
              "              title=\"Convert this dataframe to an interactive table.\"\n",
              "              style=\"display:none;\">\n",
              "        \n",
              "  <svg xmlns=\"http://www.w3.org/2000/svg\" height=\"24px\"viewBox=\"0 0 24 24\"\n",
              "       width=\"24px\">\n",
              "    <path d=\"M0 0h24v24H0V0z\" fill=\"none\"/>\n",
              "    <path d=\"M18.56 5.44l.94 2.06.94-2.06 2.06-.94-2.06-.94-.94-2.06-.94 2.06-2.06.94zm-11 1L8.5 8.5l.94-2.06 2.06-.94-2.06-.94L8.5 2.5l-.94 2.06-2.06.94zm10 10l.94 2.06.94-2.06 2.06-.94-2.06-.94-.94-2.06-.94 2.06-2.06.94z\"/><path d=\"M17.41 7.96l-1.37-1.37c-.4-.4-.92-.59-1.43-.59-.52 0-1.04.2-1.43.59L10.3 9.45l-7.72 7.72c-.78.78-.78 2.05 0 2.83L4 21.41c.39.39.9.59 1.41.59.51 0 1.02-.2 1.41-.59l7.78-7.78 2.81-2.81c.8-.78.8-2.07 0-2.86zM5.41 20L4 18.59l7.72-7.72 1.47 1.35L5.41 20z\"/>\n",
              "  </svg>\n",
              "      </button>\n",
              "      \n",
              "  <style>\n",
              "    .colab-df-container {\n",
              "      display:flex;\n",
              "      flex-wrap:wrap;\n",
              "      gap: 12px;\n",
              "    }\n",
              "\n",
              "    .colab-df-convert {\n",
              "      background-color: #E8F0FE;\n",
              "      border: none;\n",
              "      border-radius: 50%;\n",
              "      cursor: pointer;\n",
              "      display: none;\n",
              "      fill: #1967D2;\n",
              "      height: 32px;\n",
              "      padding: 0 0 0 0;\n",
              "      width: 32px;\n",
              "    }\n",
              "\n",
              "    .colab-df-convert:hover {\n",
              "      background-color: #E2EBFA;\n",
              "      box-shadow: 0px 1px 2px rgba(60, 64, 67, 0.3), 0px 1px 3px 1px rgba(60, 64, 67, 0.15);\n",
              "      fill: #174EA6;\n",
              "    }\n",
              "\n",
              "    [theme=dark] .colab-df-convert {\n",
              "      background-color: #3B4455;\n",
              "      fill: #D2E3FC;\n",
              "    }\n",
              "\n",
              "    [theme=dark] .colab-df-convert:hover {\n",
              "      background-color: #434B5C;\n",
              "      box-shadow: 0px 1px 3px 1px rgba(0, 0, 0, 0.15);\n",
              "      filter: drop-shadow(0px 1px 2px rgba(0, 0, 0, 0.3));\n",
              "      fill: #FFFFFF;\n",
              "    }\n",
              "  </style>\n",
              "\n",
              "      <script>\n",
              "        const buttonEl =\n",
              "          document.querySelector('#df-28ed9e30-9788-4776-b9af-e6c5db65642e button.colab-df-convert');\n",
              "        buttonEl.style.display =\n",
              "          google.colab.kernel.accessAllowed ? 'block' : 'none';\n",
              "\n",
              "        async function convertToInteractive(key) {\n",
              "          const element = document.querySelector('#df-28ed9e30-9788-4776-b9af-e6c5db65642e');\n",
              "          const dataTable =\n",
              "            await google.colab.kernel.invokeFunction('convertToInteractive',\n",
              "                                                     [key], {});\n",
              "          if (!dataTable) return;\n",
              "\n",
              "          const docLinkHtml = 'Like what you see? Visit the ' +\n",
              "            '<a target=\"_blank\" href=https://colab.research.google.com/notebooks/data_table.ipynb>data table notebook</a>'\n",
              "            + ' to learn more about interactive tables.';\n",
              "          element.innerHTML = '';\n",
              "          dataTable['output_type'] = 'display_data';\n",
              "          await google.colab.output.renderOutput(dataTable, element);\n",
              "          const docLink = document.createElement('div');\n",
              "          docLink.innerHTML = docLinkHtml;\n",
              "          element.appendChild(docLink);\n",
              "        }\n",
              "      </script>\n",
              "    </div>\n",
              "  </div>\n",
              "  "
            ],
            "text/plain": [
              "                                                                                                       source  \\\n",
              "0                                           As US reaches one million COVID deaths, how are Americans coping?   \n",
              "1                                                                              Here is what you need to know.   \n",
              "2                                            Это список суверенных государств и зависимых территорий в Азии .   \n",
              "3                                                                            U-901 è un sottomarino tedesco .   \n",
              "4        Όλες οι πτήσεις προς τα Νησιά Ανταμάν και Νικομπάρ διεξάγονται στο Διεθνές Αεροδρόμιο Βιρ Σαβαρκάρ .   \n",
              "5  Bir tür sözel olmayan iletişim biçimidir ve sosyal davranış üzerinde büyük etkisi olduğu düşünülmektedir .   \n",
              "6                                                                 Jeg kan betale for din datters behandling .   \n",
              "7                                                           Strefa przemysłowa dla inwestycji zagranicznych .   \n",
              "8                                                                            क्या तुम्हें यकीन है कि वही है ?   \n",
              "\n",
              "                                                                                               target  \n",
              "0  وبينما تصل الولايات المتحدة إلى مليون حالة وفاة من فيروس كوفيد-19 ، كيف يتعامل الأمريكيون مع ذلك ؟  \n",
              "1                                                                        إليكم ما تحتاجون إلى معرفته.  \n",
              "2                                              هذه قائمة الدول ذات السيادة والأقاليم التابعة في آسيا.  \n",
              "3                                                                            يو-901 هي غواصة ألمانية.  \n",
              "4                                 جميع الرحلات إلى جزر عدن و نيكبار تتم عبر مطار فير سافاركار الدولي.  \n",
              "5                      وهو نوع من التواصل غير الرسمي ، ويعتقد أنه له تأثير كبير على السلوك الاجتماعي.  \n",
              "6                                                                       يمكنني أن أدفع ثمن علاج ابنتك  \n",
              "7                                                          قطاع الصناعات التحويلية للاستثمار الأجنبي.  \n",
              "8                                                                                هل أنت واثق من ذلك ؟  "
            ]
          },
          "execution_count": 10,
          "metadata": {},
          "output_type": "execute_result"
        }
      ],
      "source": [
        "#read the output file\n",
        "df = pd.read_json(\"samples_Turjuman_translate.json\", orient='records', lines=True)\n",
        "df"
      ]
    },
    {
      "cell_type": "code",
      "execution_count": null,
      "metadata": {
        "colab": {
          "base_uri": "https://localhost:8080/"
        },
        "id": "F9DuSxLuKpwz",
        "outputId": "1eafa331-a110-44a5-e19c-e1d650f5d2f9"
      },
      "outputs": [
        {
          "name": "stdout",
          "output_type": "stream",
          "text": [
            "2022-05-18 00:03:17 | INFO | turjuman.translate_cli | Turjuman Translate Command Line Interface\n",
            "2022-05-18 00:03:17 | INFO | turjuman.translate_cli | Translate from input file samples.txt\n",
            "2022-05-18 00:03:17 | INFO | turjuman.translate_cli | Loading model from UBC-NLP/turjuman\n",
            "2022-05-18 00:03:24 | INFO | turjuman.translate_cli | Using beam search\n",
            "2022-05-18 00:03:24 | INFO | turjuman.translate_cli | Loading source text from file (samples.txt)\n",
            "2022-05-18 00:03:24 | WARNING | datasets.builder | Using custom data configuration default-9c05233ea5cb76ef\n",
            "2022-05-18 00:03:24 | WARNING | datasets.builder | Reusing dataset text (./turjuman_cache/text/default-9c05233ea5cb76ef/0.0.0/4b86d314f7236db91f0a0f5cda32d4375445e64c5eda2692655dd99c2dac68e8)\n",
            "100% 1/1 [00:00<00:00, 756.00it/s]\n",
            "2022-05-18 00:03:24 | INFO | turjuman.translate_cli | Running tokenizer on source text\n",
            "tcmalloc: large alloc 1290076160 bytes == 0x125500000 @  0x7fbff3483615 0x592b76 0x4df71e 0x593605 0x515244 0x593dd7 0x548ae9 0x51566f 0x593dd7 0x5118f8 0x549576 0x593fce 0x5118f8 0x593dd7 0x5118f8 0x549576 0x593fce 0x5118f8 0x549576 0x4bca8a 0x59c019 0x595ef6 0x5134a6 0x549576 0x593fce 0x5118f8 0x593dd7 0x5118f8 0x549576 0x593fce 0x5118f8\n",
            "100% 1/1 [00:00<00:00, 129.90ba/s]\n",
            "translate:   0% 0/1 [00:00<?, ?it/s]2022-05-18 00:03:29 | INFO | turjuman.translate_cli | Translating with batch_size 25 and #batches = 1\n",
            "translate: 100% 1/1 [00:19<00:00, 19.38s/it]\n",
            "2022-05-18 00:03:48 | ERROR | turjuman.translate_cli | extract outputs\n",
            "2022-05-18 00:03:48 | INFO | turjuman.translate_cli | The translation are saved on samples_Turjuman_translate.json\n"
          ]
        }
      ],
      "source": [
        " # translate sentences that imported from file usinf default Beam search\n",
        " !turjuman_translate --input_file samples.txt --max_outputs 3"
      ]
    },
    {
      "cell_type": "code",
      "execution_count": null,
      "metadata": {
        "colab": {
          "base_uri": "https://localhost:8080/",
          "height": 428
        },
        "id": "aza_GVRt2-r_",
        "outputId": "f05c91bd-99e6-4a07-f724-c9c3ef3b0d50"
      },
      "outputs": [
        {
          "data": {
            "text/html": [
              "\n",
              "  <div id=\"df-abcf3d33-1a72-46ae-a986-01d9087921a5\">\n",
              "    <div class=\"colab-df-container\">\n",
              "      <div>\n",
              "<style scoped>\n",
              "    .dataframe tbody tr th:only-of-type {\n",
              "        vertical-align: middle;\n",
              "    }\n",
              "\n",
              "    .dataframe tbody tr th {\n",
              "        vertical-align: top;\n",
              "    }\n",
              "\n",
              "    .dataframe thead th {\n",
              "        text-align: right;\n",
              "    }\n",
              "</style>\n",
              "<table border=\"1\" class=\"dataframe\">\n",
              "  <thead>\n",
              "    <tr style=\"text-align: right;\">\n",
              "      <th></th>\n",
              "      <th>source</th>\n",
              "      <th>3_targets</th>\n",
              "    </tr>\n",
              "  </thead>\n",
              "  <tbody>\n",
              "    <tr>\n",
              "      <th>0</th>\n",
              "      <td>As US reaches one million COVID deaths, how are Americans coping?</td>\n",
              "      <td>[وبينما تصل الولايات المتحدة إلى مليون حالة وفاة من فيروس كوفيد-19 ، كيف يتعامل الأمريكيون مع ذلك ؟, وبما أن الولايات المتحدة تصل إلى مليون حالة وفاة من فيروس كوفيد-19 ، فكيف يتعامل الأمريكيون مع ذلك ؟, وبما أن الولايات المتحدة تصل إلى مليون حالة وفاة من فيروس كوفيد-19 ، كيف يتعامل الأمريكيون مع ذلك ؟]</td>\n",
              "    </tr>\n",
              "    <tr>\n",
              "      <th>1</th>\n",
              "      <td>Here is what you need to know.</td>\n",
              "      <td>[إليكم ما تحتاجون إلى معرفته., إليكم ما تحتاجون معرفته., إليك ما تحتاج إلى معرفته.]</td>\n",
              "    </tr>\n",
              "    <tr>\n",
              "      <th>2</th>\n",
              "      <td>Это список суверенных государств и зависимых территорий в Азии .</td>\n",
              "      <td>[هذه قائمة الدول ذات السيادة والأقاليم التابعة في آسيا., هذه قائمة بالدول ذات السيادة والأقاليم التابعة في آسيا., هذه قائمة بالدول ذات السيادة والأقاليم التابعة لها في آسيا.]</td>\n",
              "    </tr>\n",
              "    <tr>\n",
              "      <th>3</th>\n",
              "      <td>U-901 è un sottomarino tedesco .</td>\n",
              "      <td>[يو-901 هي غواصة ألمانية., يو-901 هو غواصة ألمانية., يو-901 هي غواصة ألمانية من فئة الغواصات.]</td>\n",
              "    </tr>\n",
              "    <tr>\n",
              "      <th>4</th>\n",
              "      <td>Όλες οι πτήσεις προς τα Νησιά Ανταμάν και Νικομπάρ διεξάγονται στο Διεθνές Αεροδρόμιο Βιρ Σαβαρκάρ .</td>\n",
              "      <td>[جميع الرحلات إلى جزر عدن و نيكبار تتم عبر مطار فير سافاركار الدولي., كل الرحلات إلى جزر عدن و نيكبار تتم عبر مطار فير سافاركار الدولي., جميع الرحلات إلى جزر عدن و نيكبار تتم عبر مطار فير ساكار الدولي.]</td>\n",
              "    </tr>\n",
              "    <tr>\n",
              "      <th>5</th>\n",
              "      <td>Bir tür sözel olmayan iletişim biçimidir ve sosyal davranış üzerinde büyük etkisi olduğu düşünülmektedir .</td>\n",
              "      <td>[وهو نوع من التواصل غير الرسمي ، ويعتقد أنه له تأثير كبير على السلوك الاجتماعي., وهو نوع من التواصل غير الرسمي ، ويعتقد أن له تأثير كبير على السلوك الاجتماعي., وهو نوع من التواصل غير الرسمي ، ويعتقد أن له تأثيرا كبيرا على السلوك الاجتماعي.]</td>\n",
              "    </tr>\n",
              "    <tr>\n",
              "      <th>6</th>\n",
              "      <td>Jeg kan betale for din datters behandling .</td>\n",
              "      <td>[يمكنني أن أدفع ثمن علاج ابنتك, يمكنني أن أدفع ثمن علاج إبنتك, أستطيع أن أدفع ثمن علاج ابنتك]</td>\n",
              "    </tr>\n",
              "    <tr>\n",
              "      <th>7</th>\n",
              "      <td>Strefa przemysłowa dla inwestycji zagranicznych .</td>\n",
              "      <td>[قطاع الصناعات التحويلية للاستثمار الأجنبي., قطاع الصناعة للاستثمار الأجنبي., قطاع الصناعة من أجل الاستثمار الأجنبي المباشر.]</td>\n",
              "    </tr>\n",
              "    <tr>\n",
              "      <th>8</th>\n",
              "      <td>क्या तुम्हें यकीन है कि वही है ?</td>\n",
              "      <td>[هل أنت واثق من ذلك ؟, هل أنت واثق من هذا ؟, هل أنت متأكد من ذلك ؟]</td>\n",
              "    </tr>\n",
              "  </tbody>\n",
              "</table>\n",
              "</div>\n",
              "      <button class=\"colab-df-convert\" onclick=\"convertToInteractive('df-abcf3d33-1a72-46ae-a986-01d9087921a5')\"\n",
              "              title=\"Convert this dataframe to an interactive table.\"\n",
              "              style=\"display:none;\">\n",
              "        \n",
              "  <svg xmlns=\"http://www.w3.org/2000/svg\" height=\"24px\"viewBox=\"0 0 24 24\"\n",
              "       width=\"24px\">\n",
              "    <path d=\"M0 0h24v24H0V0z\" fill=\"none\"/>\n",
              "    <path d=\"M18.56 5.44l.94 2.06.94-2.06 2.06-.94-2.06-.94-.94-2.06-.94 2.06-2.06.94zm-11 1L8.5 8.5l.94-2.06 2.06-.94-2.06-.94L8.5 2.5l-.94 2.06-2.06.94zm10 10l.94 2.06.94-2.06 2.06-.94-2.06-.94-.94-2.06-.94 2.06-2.06.94z\"/><path d=\"M17.41 7.96l-1.37-1.37c-.4-.4-.92-.59-1.43-.59-.52 0-1.04.2-1.43.59L10.3 9.45l-7.72 7.72c-.78.78-.78 2.05 0 2.83L4 21.41c.39.39.9.59 1.41.59.51 0 1.02-.2 1.41-.59l7.78-7.78 2.81-2.81c.8-.78.8-2.07 0-2.86zM5.41 20L4 18.59l7.72-7.72 1.47 1.35L5.41 20z\"/>\n",
              "  </svg>\n",
              "      </button>\n",
              "      \n",
              "  <style>\n",
              "    .colab-df-container {\n",
              "      display:flex;\n",
              "      flex-wrap:wrap;\n",
              "      gap: 12px;\n",
              "    }\n",
              "\n",
              "    .colab-df-convert {\n",
              "      background-color: #E8F0FE;\n",
              "      border: none;\n",
              "      border-radius: 50%;\n",
              "      cursor: pointer;\n",
              "      display: none;\n",
              "      fill: #1967D2;\n",
              "      height: 32px;\n",
              "      padding: 0 0 0 0;\n",
              "      width: 32px;\n",
              "    }\n",
              "\n",
              "    .colab-df-convert:hover {\n",
              "      background-color: #E2EBFA;\n",
              "      box-shadow: 0px 1px 2px rgba(60, 64, 67, 0.3), 0px 1px 3px 1px rgba(60, 64, 67, 0.15);\n",
              "      fill: #174EA6;\n",
              "    }\n",
              "\n",
              "    [theme=dark] .colab-df-convert {\n",
              "      background-color: #3B4455;\n",
              "      fill: #D2E3FC;\n",
              "    }\n",
              "\n",
              "    [theme=dark] .colab-df-convert:hover {\n",
              "      background-color: #434B5C;\n",
              "      box-shadow: 0px 1px 3px 1px rgba(0, 0, 0, 0.15);\n",
              "      filter: drop-shadow(0px 1px 2px rgba(0, 0, 0, 0.3));\n",
              "      fill: #FFFFFF;\n",
              "    }\n",
              "  </style>\n",
              "\n",
              "      <script>\n",
              "        const buttonEl =\n",
              "          document.querySelector('#df-abcf3d33-1a72-46ae-a986-01d9087921a5 button.colab-df-convert');\n",
              "        buttonEl.style.display =\n",
              "          google.colab.kernel.accessAllowed ? 'block' : 'none';\n",
              "\n",
              "        async function convertToInteractive(key) {\n",
              "          const element = document.querySelector('#df-abcf3d33-1a72-46ae-a986-01d9087921a5');\n",
              "          const dataTable =\n",
              "            await google.colab.kernel.invokeFunction('convertToInteractive',\n",
              "                                                     [key], {});\n",
              "          if (!dataTable) return;\n",
              "\n",
              "          const docLinkHtml = 'Like what you see? Visit the ' +\n",
              "            '<a target=\"_blank\" href=https://colab.research.google.com/notebooks/data_table.ipynb>data table notebook</a>'\n",
              "            + ' to learn more about interactive tables.';\n",
              "          element.innerHTML = '';\n",
              "          dataTable['output_type'] = 'display_data';\n",
              "          await google.colab.output.renderOutput(dataTable, element);\n",
              "          const docLink = document.createElement('div');\n",
              "          docLink.innerHTML = docLinkHtml;\n",
              "          element.appendChild(docLink);\n",
              "        }\n",
              "      </script>\n",
              "    </div>\n",
              "  </div>\n",
              "  "
            ],
            "text/plain": [
              "                                                                                                       source  \\\n",
              "0                                           As US reaches one million COVID deaths, how are Americans coping?   \n",
              "1                                                                              Here is what you need to know.   \n",
              "2                                            Это список суверенных государств и зависимых территорий в Азии .   \n",
              "3                                                                            U-901 è un sottomarino tedesco .   \n",
              "4        Όλες οι πτήσεις προς τα Νησιά Ανταμάν και Νικομπάρ διεξάγονται στο Διεθνές Αεροδρόμιο Βιρ Σαβαρκάρ .   \n",
              "5  Bir tür sözel olmayan iletişim biçimidir ve sosyal davranış üzerinde büyük etkisi olduğu düşünülmektedir .   \n",
              "6                                                                 Jeg kan betale for din datters behandling .   \n",
              "7                                                           Strefa przemysłowa dla inwestycji zagranicznych .   \n",
              "8                                                                            क्या तुम्हें यकीन है कि वही है ?   \n",
              "\n",
              "                                                                                                                                                                                                                                                                                                         3_targets  \n",
              "0  [وبينما تصل الولايات المتحدة إلى مليون حالة وفاة من فيروس كوفيد-19 ، كيف يتعامل الأمريكيون مع ذلك ؟, وبما أن الولايات المتحدة تصل إلى مليون حالة وفاة من فيروس كوفيد-19 ، فكيف يتعامل الأمريكيون مع ذلك ؟, وبما أن الولايات المتحدة تصل إلى مليون حالة وفاة من فيروس كوفيد-19 ، كيف يتعامل الأمريكيون مع ذلك ؟]  \n",
              "1                                                                                                                                                                                                                              [إليكم ما تحتاجون إلى معرفته., إليكم ما تحتاجون معرفته., إليك ما تحتاج إلى معرفته.]  \n",
              "2                                                                                                                                   [هذه قائمة الدول ذات السيادة والأقاليم التابعة في آسيا., هذه قائمة بالدول ذات السيادة والأقاليم التابعة في آسيا., هذه قائمة بالدول ذات السيادة والأقاليم التابعة لها في آسيا.]  \n",
              "3                                                                                                                                                                                                                   [يو-901 هي غواصة ألمانية., يو-901 هو غواصة ألمانية., يو-901 هي غواصة ألمانية من فئة الغواصات.]  \n",
              "4                                                                                                       [جميع الرحلات إلى جزر عدن و نيكبار تتم عبر مطار فير سافاركار الدولي., كل الرحلات إلى جزر عدن و نيكبار تتم عبر مطار فير سافاركار الدولي., جميع الرحلات إلى جزر عدن و نيكبار تتم عبر مطار فير ساكار الدولي.]  \n",
              "5                                                                 [وهو نوع من التواصل غير الرسمي ، ويعتقد أنه له تأثير كبير على السلوك الاجتماعي., وهو نوع من التواصل غير الرسمي ، ويعتقد أن له تأثير كبير على السلوك الاجتماعي., وهو نوع من التواصل غير الرسمي ، ويعتقد أن له تأثيرا كبيرا على السلوك الاجتماعي.]  \n",
              "6                                                                                                                                                                                                                    [يمكنني أن أدفع ثمن علاج ابنتك, يمكنني أن أدفع ثمن علاج إبنتك, أستطيع أن أدفع ثمن علاج ابنتك]  \n",
              "7                                                                                                                                                                                    [قطاع الصناعات التحويلية للاستثمار الأجنبي., قطاع الصناعة للاستثمار الأجنبي., قطاع الصناعة من أجل الاستثمار الأجنبي المباشر.]  \n",
              "8                                                                                                                                                                                                                                              [هل أنت واثق من ذلك ؟, هل أنت واثق من هذا ؟, هل أنت متأكد من ذلك ؟]  "
            ]
          },
          "execution_count": 14,
          "metadata": {},
          "output_type": "execute_result"
        }
      ],
      "source": [
        "df = pd.read_json(\"samples_Turjuman_translate.json\", orient='records', lines=True)\n",
        "df"
      ]
    },
    {
      "cell_type": "code",
      "execution_count": null,
      "metadata": {
        "id": "LQ5vUCVse1jn"
      },
      "outputs": [],
      "source": []
    }
  ],
  "metadata": {
    "colab": {
      "name": "turjuman_translate_cli.ipynb",
      "provenance": [],
      "include_colab_link": true
    },
    "kernelspec": {
      "display_name": "Python 3",
      "name": "python3"
    },
    "language_info": {
      "name": "python"
    }
  },
  "nbformat": 4,
  "nbformat_minor": 0
}