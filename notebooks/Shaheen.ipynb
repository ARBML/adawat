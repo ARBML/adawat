{
  "nbformat": 4,
  "nbformat_minor": 0,
  "metadata": {
    "colab": {
      "provenance": [],
      "collapsed_sections": [],
      "authorship_tag": "ABX9TyOyUbVAfLckaxayV0ueW/gI",
      "include_colab_link": true
    },
    "kernelspec": {
      "name": "python3",
      "display_name": "Python 3"
    },
    "language_info": {
      "name": "python"
    }
  },
  "cells": [
    {
      "cell_type": "markdown",
      "metadata": {
        "id": "view-in-github",
        "colab_type": "text"
      },
      "source": [
        "<a href=\"https://colab.research.google.com/github/ARBML/adawat/blob/main/notebooks/Shaheen.ipynb\" target=\"_parent\"><img src=\"https://colab.research.google.com/assets/colab-badge.svg\" alt=\"Open In Colab\"/></a>"
      ]
    },
    {
      "cell_type": "markdown",
      "source": [
        "# Shaheen: QCRI Machine Translation API"
      ],
      "metadata": {
        "id": "wItFEJGhDUyL"
      }
    },
    {
      "cell_type": "code",
      "execution_count": null,
      "metadata": {
        "colab": {
          "base_uri": "https://localhost:8080/"
        },
        "id": "JZMn7tOxDT31",
        "outputId": "e8762bb8-09a0-4a33-847f-d97ad5ba59cf"
      },
      "outputs": [
        {
          "output_type": "stream",
          "name": "stdout",
          "text": [
            "الطقس جميل\n"
          ]
        }
      ],
      "source": [
        "from urllib.parse import quote\n",
        "import requests\n",
        "\n",
        "\n",
        "\n",
        "def translate(text, apikey, langpair, domain, base_url='https://mt.qcri.org/api/v1/'):\n",
        "    apikey = \"key=\" + apikey\n",
        "    langpair = \"langpair=\" + langpair\n",
        "    domain = \"domain=\" + domain\n",
        "    \n",
        "    # URI Encode text (text is assumed to be in unicode)\n",
        "    text = \"text=\" + quote(text.encode('utf-8'), safe='~()*!.\\'')\n",
        "    \n",
        "    # Construct URL\n",
        "    url = base_url + \"translate?\" + apikey \\\n",
        "                    + \"&\" + langpair \\\n",
        "                    + \"&\" +  domain \\\n",
        "                    + \"&\" + text\n",
        "\n",
        "\t# Place the API call\n",
        "    res = requests.get(url)\n",
        "\n",
        "    assert(res.status_code == 200)\n",
        "    assert(res.json()[\"success\"] == True)\n",
        "    return res.json()[\"translatedText\"]\n",
        "\n",
        "\n",
        "\n",
        "\n",
        "text=\"Weather is nice\"\n",
        "apikey=\"XXXXXXXXXXXXXX\" # You can get a free API key by registering  here: https://mt.qcri.org/api/register\n",
        "langpair=\"en-ar\"\n",
        "domain=\"general-fast\"\n",
        "\n",
        "print(translate(text, apikey, langpair, domain, base_url='https://mt.qcri.org/api/v1/'))"
      ]
    }
  ]
}