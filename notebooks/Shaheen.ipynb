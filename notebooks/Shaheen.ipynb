{
  "nbformat": 4,
  "nbformat_minor": 0,
  "metadata": {
    "colab": {
      "provenance": [],
      "collapsed_sections": [],
      "authorship_tag": "ABX9TyNT401mX6K0OZHLlHRjnyva",
      "include_colab_link": true
    },
    "kernelspec": {
      "name": "python3",
      "display_name": "Python 3"
    },
    "language_info": {
      "name": "python"
    }
  },
  "cells": [
    {
      "cell_type": "markdown",
      "metadata": {
        "id": "view-in-github",
        "colab_type": "text"
      },
      "source": [
        "<a href=\"https://colab.research.google.com/github/ARBML/adawat/blob/main/notebooks/Shaheen.ipynb\" target=\"_parent\"><img src=\"https://colab.research.google.com/assets/colab-badge.svg\" alt=\"Open In Colab\"/></a>"
      ]
    },
    {
      "cell_type": "markdown",
      "source": [
        "# Shaheen: QCRI Machine Translation API"
      ],
      "metadata": {
        "id": "wItFEJGhDUyL"
      }
    },
    {
      "cell_type": "code",
      "execution_count": 1,
      "metadata": {
        "colab": {
          "base_uri": "https://localhost:8080/"
        },
        "id": "JZMn7tOxDT31",
        "outputId": "9e8d617a-e2e7-4a71-e9da-0cbf6f27654c"
      },
      "outputs": [
        {
          "output_type": "stream",
          "name": "stdout",
          "text": [
            "'Weather is nice' >> 'الطقس جميل'\n"
          ]
        }
      ],
      "source": [
        "from urllib.parse import quote\n",
        "import requests\n",
        "\n",
        "\n",
        "\n",
        "def translate(text, apikey, langpair, domain, base_url='https://mt.qcri.org/api/v1/'):\n",
        "    apikey = \"key=\" + apikey\n",
        "    langpair = \"langpair=\" + langpair\n",
        "    domain = \"domain=\" + domain\n",
        "    \n",
        "    # URI Encode text (text is assumed to be in unicode)\n",
        "    text = \"text=\" + quote(text.encode('utf-8'), safe='~()*!.\\'')\n",
        "    \n",
        "    # Construct URL\n",
        "    url = base_url + \"translate?\" + apikey \\\n",
        "                    + \"&\" + langpair \\\n",
        "                    + \"&\" +  domain \\\n",
        "                    + \"&\" + text\n",
        "\n",
        "\t# Place the API call\n",
        "    res = requests.get(url)\n",
        "\n",
        "    assert(res.status_code == 200)\n",
        "    assert(res.json()[\"success\"] == True)\n",
        "    return res.json()[\"translatedText\"]\n",
        "\n",
        "\n",
        "\n",
        "apikey=\"XXXXXXXXXXXXXX\" # You can get a free API key by registering  here: https://mt.qcri.org/api/register\n",
        "langpair=\"en-ar\"\n",
        "domain=\"general-fast\"\n",
        "\n",
        "\n",
        "text=\"Weather is nice\"\n",
        "translated_text = translate(text, apikey, langpair, domain, base_url='https://mt.qcri.org/api/v1/')\n",
        "\n",
        "\n",
        "print(f\"'{text}' >> '{translated_text}'\")"
      ]
    },
    {
      "cell_type": "markdown",
      "source": [
        "Disclaimer: <br> This code is a modified version from: https://github.com/qcri/alt-hackathon-docs/tree/master/mt"
      ],
      "metadata": {
        "id": "kTYqU1UiFdZo"
      }
    }
  ]
}