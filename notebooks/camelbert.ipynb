{
  "nbformat": 4,
  "nbformat_minor": 0,
  "metadata": {
    "colab": {
      "provenance": [],
      "include_colab_link": true
    },
    "kernelspec": {
      "name": "python3",
      "display_name": "Python 3"
    },
    "language_info": {
      "name": "python"
    }
  },
  "cells": [
    {
      "cell_type": "markdown",
      "metadata": {
        "id": "view-in-github",
        "colab_type": "text"
      },
      "source": [
        "<a href=\"https://colab.research.google.com/github/ARBML/adawat/blob/main/notebooks/camelbert.ipynb\" target=\"_parent\"><img src=\"https://colab.research.google.com/assets/colab-badge.svg\" alt=\"Open In Colab\"/></a>"
      ]
    },
    {
      "cell_type": "code",
      "execution_count": null,
      "metadata": {
        "colab": {
          "base_uri": "https://localhost:8080/"
        },
        "id": "eGJz-kytTmHc",
        "outputId": "a0c54859-531f-439a-ccc0-7890dd7adb8d"
      },
      "outputs": [
        {
          "output_type": "stream",
          "name": "stdout",
          "text": [
            "\u001b[K     |████████████████████████████████| 5.5 MB 6.7 MB/s \n",
            "\u001b[K     |████████████████████████████████| 7.6 MB 29.9 MB/s \n",
            "\u001b[K     |████████████████████████████████| 163 kB 72.8 MB/s \n",
            "\u001b[?25h"
          ]
        }
      ],
      "source": [
        "!pip install -q transformers"
      ]
    },
    {
      "cell_type": "markdown",
      "source": [
        "They provide multiple models for different tasks [here](https://huggingface.co/CAMeL-Lab). We load one for sentiment analysis. "
      ],
      "metadata": {
        "id": "ALJYld3ZUe46"
      }
    },
    {
      "cell_type": "code",
      "source": [
        "from transformers import BertForSequenceClassification\n",
        "from transformers import BertTokenizer\n",
        "\n",
        "tokenizer = BertTokenizer.from_pretrained(\"CAMeL-Lab/bert-base-arabic-camelbert-ca-sentiment\")\n",
        "model = BertForSequenceClassification.from_pretrained(\"CAMeL-Lab/bert-base-arabic-camelbert-ca-sentiment\")"
      ],
      "metadata": {
        "id": "9xhkSG8KTq1j"
      },
      "execution_count": null,
      "outputs": []
    },
    {
      "cell_type": "markdown",
      "source": [
        "We use the model for predicting masked tokens"
      ],
      "metadata": {
        "id": "c_JKFn8wUip1"
      }
    },
    {
      "cell_type": "code",
      "source": [
        "from transformers import pipeline\n",
        "\n",
        "pipe = pipeline('sentiment-analysis', model=model, tokenizer=tokenizer)\n",
        "\n",
        "pipe(\"أنا بخير\")"
      ],
      "metadata": {
        "colab": {
          "base_uri": "https://localhost:8080/"
        },
        "id": "UO_22COfTuI7",
        "outputId": "54c3312b-447e-4739-deda-6e9801d27c6f"
      },
      "execution_count": null,
      "outputs": [
        {
          "output_type": "execute_result",
          "data": {
            "text/plain": [
              "[{'label': 'positive', 'score': 0.7262871265411377}]"
            ]
          },
          "metadata": {},
          "execution_count": 5
        }
      ]
    },
    {
      "cell_type": "code",
      "source": [],
      "metadata": {
        "id": "yQbuwrgSUW3P"
      },
      "execution_count": null,
      "outputs": []
    }
  ]
}