{
  "nbformat": 4,
  "nbformat_minor": 0,
  "metadata": {
    "kernelspec": {
      "display_name": "Python 3",
      "language": "python",
      "name": "python3"
    },
    "language_info": {
      "codemirror_mode": {
        "name": "ipython",
        "version": 3
      },
      "file_extension": ".py",
      "mimetype": "text/x-python",
      "name": "python",
      "nbconvert_exporter": "python",
      "pygments_lexer": "ipython3",
      "version": "3.7.8"
    },
    "colab": {
      "provenance": [],
      "include_colab_link": true
    }
  },
  "cells": [
    {
      "cell_type": "markdown",
      "metadata": {
        "id": "view-in-github",
        "colab_type": "text"
      },
      "source": [
        "<a href=\"https://colab.research.google.com/github/ARBML/adawat/blob/main/notebooks/CAMeL_Tools_Guided_Tour.ipynb\" target=\"_parent\"><img src=\"https://colab.research.google.com/assets/colab-badge.svg\" alt=\"Open In Colab\"/></a>"
      ]
    },
    {
      "cell_type": "markdown",
      "metadata": {
        "id": "JW2oOVmkJgg-"
      },
      "source": [
        "# Introduction\n",
        "\n",
        "This notebook provides a quick overview of the functionalities provided by [CAMeL Tools](https://github.com/CAMeL-Lab/camel_tools). While it doesn't cover every component in detail, it does provide a starting point for learning CAMeL Tools and navigating its APIs. For more detailed information please refer to the [CAMeL Tools documentation](https://camel-tools.readthedocs.io/en/latest/index.html)."
      ]
    },
    {
      "cell_type": "markdown",
      "metadata": {
        "id": "QOwO9Z7VdWf-"
      },
      "source": [
        "# Arabic NLP Refresher\n",
        "\n",
        "Before diving into CAMeL Tools, we recommend a quick refresher on Arabic NLP and the challenges it presents. [This webinar](https://wti.kaust.edu.sa/upcoming-events/Machine-Learning-Arabic-NLP-Webinar/ml-webinar-2020-keynote-1) presented by Dr. Nizar Habash provides a short introcuction on Arabic NLP as well as short examples of how CAMeL Tools can be used to solve various problems. A similar presentation of this webinar in Arabic is also available [here](https://www.youtube.com/watch?v=JQrmRvtx_VY).\n",
        "\n",
        "*Note: The examples in this talk may not be compatible with current or newer versions of CAMeL Tools.*\n"
      ]
    },
    {
      "cell_type": "markdown",
      "metadata": {
        "id": "flp2VnX-14Kz"
      },
      "source": [
        "# Installation and Setup\n",
        "\n",
        "The following steps are needed if you want to run the examples in this notebook on Google Colaboratory. If you want to run this notebook on your own machine, please follow the [installation instructions](https://camel-tools.readthedocs.io/en/latest/getting_started.html#installation) instead."
      ]
    },
    {
      "cell_type": "markdown",
      "metadata": {
        "id": "47wgvS4-6UOD"
      },
      "source": [
        "First, we install the CAMeL Tools Python package."
      ]
    },
    {
      "cell_type": "code",
      "metadata": {
        "id": "WLCWm2nj2LX6",
        "colab": {
          "base_uri": "https://localhost:8080/"
        },
        "outputId": "bd4b3038-1e40-4982-e7aa-3c2d365749a8"
      },
      "source": [
        "%pip install camel-tools"
      ],
      "execution_count": null,
      "outputs": [
        {
          "output_type": "stream",
          "name": "stdout",
          "text": [
            "Looking in indexes: https://pypi.org/simple, https://us-python.pkg.dev/colab-wheels/public/simple/\n",
            "Collecting camel-tools\n",
            "  Downloading camel_tools-1.4.1-py3-none-any.whl (114 kB)\n",
            "\u001b[K     |████████████████████████████████| 114 kB 13.9 MB/s \n",
            "\u001b[?25hCollecting emoji\n",
            "  Downloading emoji-1.7.0.tar.gz (175 kB)\n",
            "\u001b[K     |████████████████████████████████| 175 kB 48.5 MB/s \n",
            "\u001b[?25hRequirement already satisfied: future in /usr/local/lib/python3.7/dist-packages (from camel-tools) (0.16.0)\n",
            "Requirement already satisfied: numpy in /usr/local/lib/python3.7/dist-packages (from camel-tools) (1.21.6)\n",
            "Collecting transformers>=3.0.2\n",
            "  Downloading transformers-4.19.4-py3-none-any.whl (4.2 MB)\n",
            "\u001b[K     |████████████████████████████████| 4.2 MB 64.0 MB/s \n",
            "\u001b[?25hCollecting camel-kenlm\n",
            "  Downloading camel-kenlm-2021.12.27.tar.gz (418 kB)\n",
            "\u001b[K     |████████████████████████████████| 418 kB 80.2 MB/s \n",
            "\u001b[?25hRequirement already satisfied: docopt in /usr/local/lib/python3.7/dist-packages (from camel-tools) (0.6.2)\n",
            "Requirement already satisfied: tqdm in /usr/local/lib/python3.7/dist-packages (from camel-tools) (4.64.0)\n",
            "Requirement already satisfied: tabulate in /usr/local/lib/python3.7/dist-packages (from camel-tools) (0.8.9)\n",
            "Requirement already satisfied: pyrsistent in /usr/local/lib/python3.7/dist-packages (from camel-tools) (0.18.1)\n",
            "Requirement already satisfied: six in /usr/local/lib/python3.7/dist-packages (from camel-tools) (1.15.0)\n",
            "Requirement already satisfied: scikit-learn in /usr/local/lib/python3.7/dist-packages (from camel-tools) (1.0.2)\n",
            "Requirement already satisfied: cachetools in /usr/local/lib/python3.7/dist-packages (from camel-tools) (4.2.4)\n",
            "Requirement already satisfied: pandas in /usr/local/lib/python3.7/dist-packages (from camel-tools) (1.3.5)\n",
            "Requirement already satisfied: torch>=1.3 in /usr/local/lib/python3.7/dist-packages (from camel-tools) (1.11.0+cu113)\n",
            "Requirement already satisfied: editdistance in /usr/local/lib/python3.7/dist-packages (from camel-tools) (0.5.3)\n",
            "Requirement already satisfied: requests in /usr/local/lib/python3.7/dist-packages (from camel-tools) (2.23.0)\n",
            "Requirement already satisfied: scipy in /usr/local/lib/python3.7/dist-packages (from camel-tools) (1.4.1)\n",
            "Requirement already satisfied: dill in /usr/local/lib/python3.7/dist-packages (from camel-tools) (0.3.5.1)\n",
            "Requirement already satisfied: typing-extensions in /usr/local/lib/python3.7/dist-packages (from torch>=1.3->camel-tools) (4.2.0)\n",
            "Collecting pyyaml>=5.1\n",
            "  Downloading PyYAML-6.0-cp37-cp37m-manylinux_2_5_x86_64.manylinux1_x86_64.manylinux_2_12_x86_64.manylinux2010_x86_64.whl (596 kB)\n",
            "\u001b[K     |████████████████████████████████| 596 kB 72.4 MB/s \n",
            "\u001b[?25hCollecting tokenizers!=0.11.3,<0.13,>=0.11.1\n",
            "  Downloading tokenizers-0.12.1-cp37-cp37m-manylinux_2_12_x86_64.manylinux2010_x86_64.whl (6.6 MB)\n",
            "\u001b[K     |████████████████████████████████| 6.6 MB 66.0 MB/s \n",
            "\u001b[?25hRequirement already satisfied: filelock in /usr/local/lib/python3.7/dist-packages (from transformers>=3.0.2->camel-tools) (3.7.1)\n",
            "Requirement already satisfied: regex!=2019.12.17 in /usr/local/lib/python3.7/dist-packages (from transformers>=3.0.2->camel-tools) (2022.6.2)\n",
            "Requirement already satisfied: importlib-metadata in /usr/local/lib/python3.7/dist-packages (from transformers>=3.0.2->camel-tools) (4.11.4)\n",
            "Collecting huggingface-hub<1.0,>=0.1.0\n",
            "  Downloading huggingface_hub-0.7.0-py3-none-any.whl (86 kB)\n",
            "\u001b[K     |████████████████████████████████| 86 kB 7.1 MB/s \n",
            "\u001b[?25hRequirement already satisfied: packaging>=20.0 in /usr/local/lib/python3.7/dist-packages (from transformers>=3.0.2->camel-tools) (21.3)\n",
            "Requirement already satisfied: pyparsing!=3.0.5,>=2.0.2 in /usr/local/lib/python3.7/dist-packages (from packaging>=20.0->transformers>=3.0.2->camel-tools) (3.0.9)\n",
            "Requirement already satisfied: zipp>=0.5 in /usr/local/lib/python3.7/dist-packages (from importlib-metadata->transformers>=3.0.2->camel-tools) (3.8.0)\n",
            "Requirement already satisfied: pytz>=2017.3 in /usr/local/lib/python3.7/dist-packages (from pandas->camel-tools) (2022.1)\n",
            "Requirement already satisfied: python-dateutil>=2.7.3 in /usr/local/lib/python3.7/dist-packages (from pandas->camel-tools) (2.8.2)\n",
            "Requirement already satisfied: urllib3!=1.25.0,!=1.25.1,<1.26,>=1.21.1 in /usr/local/lib/python3.7/dist-packages (from requests->camel-tools) (1.24.3)\n",
            "Requirement already satisfied: idna<3,>=2.5 in /usr/local/lib/python3.7/dist-packages (from requests->camel-tools) (2.10)\n",
            "Requirement already satisfied: chardet<4,>=3.0.2 in /usr/local/lib/python3.7/dist-packages (from requests->camel-tools) (3.0.4)\n",
            "Requirement already satisfied: certifi>=2017.4.17 in /usr/local/lib/python3.7/dist-packages (from requests->camel-tools) (2022.5.18.1)\n",
            "Requirement already satisfied: threadpoolctl>=2.0.0 in /usr/local/lib/python3.7/dist-packages (from scikit-learn->camel-tools) (3.1.0)\n",
            "Requirement already satisfied: joblib>=0.11 in /usr/local/lib/python3.7/dist-packages (from scikit-learn->camel-tools) (1.1.0)\n",
            "Building wheels for collected packages: camel-kenlm, emoji\n",
            "  Building wheel for camel-kenlm (setup.py) ... \u001b[?25l\u001b[?25hdone\n",
            "  Created wheel for camel-kenlm: filename=camel_kenlm-2021.12.27-cp37-cp37m-linux_x86_64.whl size=2336828 sha256=8e21a982a2f8e21e3d3fbdde4586994eb2ac9839a7eb25d503964a29006a2bdf\n",
            "  Stored in directory: /root/.cache/pip/wheels/db/72/74/982f8c435f15b7feaf6dc8a03e212ff34e93f1f2d747059332\n",
            "  Building wheel for emoji (setup.py) ... \u001b[?25l\u001b[?25hdone\n",
            "  Created wheel for emoji: filename=emoji-1.7.0-py3-none-any.whl size=171046 sha256=75a243fb9b03b9ac373101995004f5194b08aece26f5df4d9eada6f913b79fa3\n",
            "  Stored in directory: /root/.cache/pip/wheels/8a/4e/b6/57b01db010d17ef6ea9b40300af725ef3e210cb1acfb7ac8b6\n",
            "Successfully built camel-kenlm emoji\n",
            "Installing collected packages: pyyaml, tokenizers, huggingface-hub, transformers, emoji, camel-kenlm, camel-tools\n",
            "  Attempting uninstall: pyyaml\n",
            "    Found existing installation: PyYAML 3.13\n",
            "    Uninstalling PyYAML-3.13:\n",
            "      Successfully uninstalled PyYAML-3.13\n",
            "Successfully installed camel-kenlm-2021.12.27 camel-tools-1.4.1 emoji-1.7.0 huggingface-hub-0.7.0 pyyaml-6.0 tokenizers-0.12.1 transformers-4.19.4\n"
          ]
        }
      ]
    },
    {
      "cell_type": "markdown",
      "metadata": {
        "id": "7c8-zs9m45B0"
      },
      "source": [
        "In order to use all the components provided in CAMeL Tools, we need to install all the datasets required by these components.\n",
        "To do this in Colab, we need to first mount a Google Drive and create a directory where the data will be installed.\n",
        "\n",
        "Run the code below and follow the instructions in the output."
      ]
    },
    {
      "cell_type": "code",
      "metadata": {
        "id": "rLDEdYgz1OZN",
        "colab": {
          "base_uri": "https://localhost:8080/"
        },
        "outputId": "19574c2b-529d-4b7f-cddb-cb872118ad5a"
      },
      "source": [
        "from google.colab import drive\n",
        "import os\n",
        "\n",
        "drive.mount('/gdrive')\n",
        "\n",
        "%mkdir /gdrive/MyDrive/camel_tools"
      ],
      "execution_count": null,
      "outputs": [
        {
          "output_type": "stream",
          "name": "stdout",
          "text": [
            "Mounted at /gdrive\n"
          ]
        }
      ]
    },
    {
      "cell_type": "markdown",
      "metadata": {
        "id": "Fcc0ZaAK5f5F"
      },
      "source": [
        "Next, we need to tell CAMeL Tools to install the data in the newly created directory. This will take a couple of minutes to complete.\n",
        "\n",
        "**NOTE:** You will need at least 2.3GB of available space on your Google Drive to install all the CAMeL Tools data."
      ]
    },
    {
      "cell_type": "code",
      "metadata": {
        "id": "aYsFJl0A5mua",
        "colab": {
          "base_uri": "https://localhost:8080/"
        },
        "outputId": "9476059b-2362-44c1-c536-ff14e182c69d"
      },
      "source": [
        "os.environ['CAMELTOOLS_DATA'] = '/gdrive/MyDrive/camel_tools'\n",
        "\n",
        "!export | camel_data -i all"
      ],
      "execution_count": null,
      "outputs": [
        {
          "output_type": "stream",
          "name": "stdout",
          "text": [
            "The following packages will be installed: 'sentiment-analysis-mbert', 'disambig-ranking-cache-calima-glf-01', 'ner-arabert', 'sentiment-analysis-arabert', 'disambig-mle-calima-egy-r13', 'morphology-db-glf-01', 'dialectid-default', 'disambig-ranking-cache-calima-lev-01', 'disambig-mle-calima-msa-r13', 'morphology-db-msa-r13', 'disambig-ranking-cache-calima-egy-r13', 'disambig-bert-unfactored-glf', 'disambig-bert-unfactored-egy', 'disambig-bert-unfactored-msa', 'disambig-ranking-cache-calima-msa-r13', 'disambig-bert-unfactored-lev', 'morphology-db-egy-r13', 'morphology-db-lev-01'\n",
            "Downloading package 'sentiment-analysis-mbert': 100% 712M/712M [01:31<00:00, 7.78MB/s]\n",
            "Extracting package 'sentiment-analysis-mbert': 100% 712M/712M [00:03<00:00, 182MB/s]\n",
            "Downloading package 'disambig-ranking-cache-calima-glf-01': 100% 21.5M/21.5M [00:00<00:00, 33.4MB/s]\n",
            "Extracting package 'disambig-ranking-cache-calima-glf-01': 100% 21.5M/21.5M [00:00<00:00, 184MB/s]\n",
            "Downloading package 'ner-arabert': 100% 542M/542M [00:55<00:00, 9.69MB/s]\n",
            "Extracting package 'ner-arabert': 100% 542M/542M [00:02<00:00, 187MB/s]\n",
            "Downloading package 'sentiment-analysis-arabert': 100% 542M/542M [00:56<00:00, 9.64MB/s]\n",
            "Extracting package 'sentiment-analysis-arabert': 100% 542M/542M [00:02<00:00, 182MB/s]\n",
            "Downloading package 'disambig-mle-calima-egy-r13': 100% 27.2M/27.2M [00:00<00:00, 37.3MB/s]\n",
            "Extracting package 'disambig-mle-calima-egy-r13': 100% 27.2M/27.2M [00:00<00:00, 39.5MB/s]\n",
            "Downloading package 'morphology-db-glf-01': 100% 7.98M/7.98M [00:00<00:00, 45.6MB/s]\n",
            "Extracting package 'morphology-db-glf-01': 100% 7.98M/7.98M [00:00<00:00, 168MB/s]\n",
            "Downloading package 'dialectid-default': 100% 282M/282M [00:09<00:00, 29.6MB/s]\n",
            "Extracting package 'dialectid-default': 100% 282M/282M [00:02<00:00, 100MB/s] \n",
            "Downloading package 'disambig-ranking-cache-calima-lev-01': 100% 18.3M/18.3M [00:01<00:00, 17.6MB/s]\n",
            "Extracting package 'disambig-ranking-cache-calima-lev-01': 100% 18.3M/18.3M [00:00<00:00, 165MB/s]\n",
            "Downloading package 'disambig-mle-calima-msa-r13': 100% 88.7M/88.7M [00:02<00:00, 35.2MB/s]\n",
            "Extracting package 'disambig-mle-calima-msa-r13': 100% 88.7M/88.7M [00:00<00:00, 185MB/s]\n",
            "Downloading package 'morphology-db-msa-r13': 100% 40.5M/40.5M [00:01<00:00, 21.3MB/s]\n",
            "Extracting package 'morphology-db-msa-r13': 100% 40.5M/40.5M [00:00<00:00, 63.0MB/s]\n",
            "Downloading package 'disambig-ranking-cache-calima-egy-r13': 100% 289M/289M [00:29<00:00, 9.79MB/s]\n",
            "Extracting package 'disambig-ranking-cache-calima-egy-r13': 100% 289M/289M [00:01<00:00, 195MB/s]\n",
            "Downloading package 'disambig-bert-unfactored-glf': 100% 442M/442M [00:18<00:00, 24.5MB/s]\n",
            "Extracting package 'disambig-bert-unfactored-glf': 100% 442M/442M [00:02<00:00, 181MB/s]\n",
            "Downloading package 'disambig-bert-unfactored-egy': 100% 446M/446M [00:51<00:00, 8.62MB/s]\n",
            "Extracting package 'disambig-bert-unfactored-egy': 100% 446M/446M [00:03<00:00, 126MB/s]\n",
            "Downloading package 'disambig-bert-unfactored-msa': 100% 445M/445M [00:15<00:00, 28.0MB/s]\n",
            "Extracting package 'disambig-bert-unfactored-msa': 100% 445M/445M [00:03<00:00, 125MB/s]\n",
            "Downloading package 'disambig-ranking-cache-calima-msa-r13': 100% 519M/519M [00:26<00:00, 19.8MB/s]\n",
            "Extracting package 'disambig-ranking-cache-calima-msa-r13': 100% 519M/519M [00:02<00:00, 180MB/s]\n",
            "Downloading package 'disambig-bert-unfactored-lev': 100% 441M/441M [00:22<00:00, 20.0MB/s]\n",
            "Extracting package 'disambig-bert-unfactored-lev': 100% 441M/441M [00:02<00:00, 169MB/s]\n",
            "Downloading package 'morphology-db-egy-r13': 100% 67.3M/67.3M [00:02<00:00, 29.2MB/s]\n",
            "Extracting package 'morphology-db-egy-r13': 100% 67.3M/67.3M [00:00<00:00, 174MB/s]\n",
            "Downloading package 'morphology-db-lev-01': 100% 10.6M/10.6M [00:00<00:00, 21.3MB/s]\n",
            "Extracting package 'morphology-db-lev-01': 100% 10.6M/10.6M [00:00<00:00, 158MB/s]\n"
          ]
        }
      ]
    },
    {
      "cell_type": "markdown",
      "metadata": {
        "id": "0zZvcWRx6tQJ"
      },
      "source": [
        "We also provide a lightweight dataset for the Morphology and Disambiguation components **only** that can be installed by calling `camel_data -i light` instead of `camel_data -i all`.\n"
      ]
    },
    {
      "cell_type": "markdown",
      "metadata": {
        "id": "Z-O0aoMczyUj"
      },
      "source": [
        "**Once the data has been installed on your Google Drive, you only need to run the following the next time you want to run this notebook.**"
      ]
    },
    {
      "cell_type": "code",
      "metadata": {
        "id": "9knGLLGg7cnm",
        "colab": {
          "base_uri": "https://localhost:8080/"
        },
        "outputId": "7508fdc2-d54a-4256-9b8e-bfd0f12c1726"
      },
      "source": [
        "%pip install camel-tools\n",
        "\n",
        "from google.colab import drive\n",
        "import os\n",
        "\n",
        "drive.mount('/gdrive')\n",
        "os.environ['CAMELTOOLS_DATA'] = '/gdrive/MyDrive/camel_tools'"
      ],
      "execution_count": null,
      "outputs": [
        {
          "output_type": "stream",
          "name": "stdout",
          "text": [
            "Looking in indexes: https://pypi.org/simple, https://us-python.pkg.dev/colab-wheels/public/simple/\n",
            "Requirement already satisfied: camel-tools in /usr/local/lib/python3.7/dist-packages (1.4.1)\n",
            "Requirement already satisfied: scikit-learn in /usr/local/lib/python3.7/dist-packages (from camel-tools) (1.0.2)\n",
            "Requirement already satisfied: six in /usr/local/lib/python3.7/dist-packages (from camel-tools) (1.15.0)\n",
            "Requirement already satisfied: cachetools in /usr/local/lib/python3.7/dist-packages (from camel-tools) (4.2.4)\n",
            "Requirement already satisfied: pandas in /usr/local/lib/python3.7/dist-packages (from camel-tools) (1.3.5)\n",
            "Requirement already satisfied: editdistance in /usr/local/lib/python3.7/dist-packages (from camel-tools) (0.5.3)\n",
            "Requirement already satisfied: emoji in /usr/local/lib/python3.7/dist-packages (from camel-tools) (1.7.0)\n",
            "Requirement already satisfied: camel-kenlm in /usr/local/lib/python3.7/dist-packages (from camel-tools) (2021.12.27)\n",
            "Requirement already satisfied: docopt in /usr/local/lib/python3.7/dist-packages (from camel-tools) (0.6.2)\n",
            "Requirement already satisfied: dill in /usr/local/lib/python3.7/dist-packages (from camel-tools) (0.3.5.1)\n",
            "Requirement already satisfied: numpy in /usr/local/lib/python3.7/dist-packages (from camel-tools) (1.21.6)\n",
            "Requirement already satisfied: transformers>=3.0.2 in /usr/local/lib/python3.7/dist-packages (from camel-tools) (4.19.4)\n",
            "Requirement already satisfied: tqdm in /usr/local/lib/python3.7/dist-packages (from camel-tools) (4.64.0)\n",
            "Requirement already satisfied: requests in /usr/local/lib/python3.7/dist-packages (from camel-tools) (2.23.0)\n",
            "Requirement already satisfied: tabulate in /usr/local/lib/python3.7/dist-packages (from camel-tools) (0.8.9)\n",
            "Requirement already satisfied: future in /usr/local/lib/python3.7/dist-packages (from camel-tools) (0.16.0)\n",
            "Requirement already satisfied: scipy in /usr/local/lib/python3.7/dist-packages (from camel-tools) (1.4.1)\n",
            "Requirement already satisfied: pyrsistent in /usr/local/lib/python3.7/dist-packages (from camel-tools) (0.18.1)\n",
            "Requirement already satisfied: torch>=1.3 in /usr/local/lib/python3.7/dist-packages (from camel-tools) (1.11.0+cu113)\n",
            "Requirement already satisfied: typing-extensions in /usr/local/lib/python3.7/dist-packages (from torch>=1.3->camel-tools) (4.2.0)\n",
            "Requirement already satisfied: huggingface-hub<1.0,>=0.1.0 in /usr/local/lib/python3.7/dist-packages (from transformers>=3.0.2->camel-tools) (0.7.0)\n",
            "Requirement already satisfied: importlib-metadata in /usr/local/lib/python3.7/dist-packages (from transformers>=3.0.2->camel-tools) (4.11.4)\n",
            "Requirement already satisfied: regex!=2019.12.17 in /usr/local/lib/python3.7/dist-packages (from transformers>=3.0.2->camel-tools) (2022.6.2)\n",
            "Requirement already satisfied: packaging>=20.0 in /usr/local/lib/python3.7/dist-packages (from transformers>=3.0.2->camel-tools) (21.3)\n",
            "Requirement already satisfied: tokenizers!=0.11.3,<0.13,>=0.11.1 in /usr/local/lib/python3.7/dist-packages (from transformers>=3.0.2->camel-tools) (0.12.1)\n",
            "Requirement already satisfied: pyyaml>=5.1 in /usr/local/lib/python3.7/dist-packages (from transformers>=3.0.2->camel-tools) (6.0)\n",
            "Requirement already satisfied: filelock in /usr/local/lib/python3.7/dist-packages (from transformers>=3.0.2->camel-tools) (3.7.1)\n",
            "Requirement already satisfied: pyparsing!=3.0.5,>=2.0.2 in /usr/local/lib/python3.7/dist-packages (from packaging>=20.0->transformers>=3.0.2->camel-tools) (3.0.9)\n",
            "Requirement already satisfied: zipp>=0.5 in /usr/local/lib/python3.7/dist-packages (from importlib-metadata->transformers>=3.0.2->camel-tools) (3.8.0)\n",
            "Requirement already satisfied: pytz>=2017.3 in /usr/local/lib/python3.7/dist-packages (from pandas->camel-tools) (2022.1)\n",
            "Requirement already satisfied: python-dateutil>=2.7.3 in /usr/local/lib/python3.7/dist-packages (from pandas->camel-tools) (2.8.2)\n",
            "Requirement already satisfied: certifi>=2017.4.17 in /usr/local/lib/python3.7/dist-packages (from requests->camel-tools) (2022.5.18.1)\n",
            "Requirement already satisfied: chardet<4,>=3.0.2 in /usr/local/lib/python3.7/dist-packages (from requests->camel-tools) (3.0.4)\n",
            "Requirement already satisfied: idna<3,>=2.5 in /usr/local/lib/python3.7/dist-packages (from requests->camel-tools) (2.10)\n",
            "Requirement already satisfied: urllib3!=1.25.0,!=1.25.1,<1.26,>=1.21.1 in /usr/local/lib/python3.7/dist-packages (from requests->camel-tools) (1.24.3)\n",
            "Requirement already satisfied: joblib>=0.11 in /usr/local/lib/python3.7/dist-packages (from scikit-learn->camel-tools) (1.1.0)\n",
            "Requirement already satisfied: threadpoolctl>=2.0.0 in /usr/local/lib/python3.7/dist-packages (from scikit-learn->camel-tools) (3.1.0)\n",
            "Drive already mounted at /gdrive; to attempt to forcibly remount, call drive.mount(\"/gdrive\", force_remount=True).\n"
          ]
        }
      ]
    },
    {
      "cell_type": "markdown",
      "metadata": {
        "id": "Q2mkVx2f088f"
      },
      "source": [
        "# Preprocessing"
      ]
    },
    {
      "cell_type": "markdown",
      "metadata": {
        "id": "gBNnYjuE9T_6"
      },
      "source": [
        "CAMeL Tools provides a suite of preprocessing utilities for cleaning and preparing Arabic text. Some of these may need to be used before passing text to other CAMeL Tools components."
      ]
    },
    {
      "cell_type": "markdown",
      "metadata": {
        "id": "r-V9yJNU088w"
      },
      "source": [
        "## Simple Transliteration\n",
        "\n",
        "Simple (or one-to-one) transliteration is the process of translating each Arabic character to/from a single non-Arabic character mapping (or encoding). The most common of these encoding schemes is the Buckwalter scheme and its variants that map Arabic characters to ASCII counterparts. You can see the various encoding schemes supported in CAMeL Tools and how they map to Arabic script [here](https://camel-tools.readthedocs.io/en/latest/reference/encoding_schemes.html).\n",
        "\n",
        "This has many uses including:\n",
        "\n",
        "- Smaller size of Arabic text on disk\n",
        "- Allow non-Arabic speakers and people not familiar with Arabic script to read Arabic text\n",
        "- Easier debugging by eliminating right-to-left display issues\n",
        "\n",
        "Additionally, some Arabic NLP systems and resources use these transliteration schemes internally.\n",
        "\n",
        "The first utility we provide to convert to/from different encodings is the [`CharMapper`](https://camel-tools.readthedocs.io/en/latest/api/utils/charmap.html). In the example below, we use a `CharMapper` to convert text in Arabic script to a Buckwalter encoding."
      ]
    },
    {
      "cell_type": "code",
      "metadata": {
        "id": "2jzBCQ8A088w",
        "colab": {
          "base_uri": "https://localhost:8080/"
        },
        "outputId": "1e476d4c-6d89-438c-b2f4-410c858a94b9"
      },
      "source": [
        "from camel_tools.utils.charmap import CharMapper\n",
        "\n",
        "sentence = \"ذهبت إلى المكتبة.\"\n",
        "print(sentence)\n",
        "\n",
        "ar2bw = CharMapper.builtin_mapper('ar2bw')\n",
        "\n",
        "sent_bw = ar2bw(sentence)\n",
        "print(sent_bw)"
      ],
      "execution_count": null,
      "outputs": [
        {
          "output_type": "stream",
          "name": "stdout",
          "text": [
            "ذهبت إلى المكتبة.\n",
            "*hbt <lY Almktbp.\n"
          ]
        }
      ]
    },
    {
      "cell_type": "markdown",
      "metadata": {
        "id": "89ZesZuWKzIR"
      },
      "source": [
        "`CharMapper` is a very flexible component that can be used for many other types of text transformations and can be initialized with any character-to-string mapping. "
      ]
    },
    {
      "cell_type": "markdown",
      "metadata": {
        "id": "8zHN9cNP088m"
      },
      "source": [
        "### Unicode Normalization\n",
        "\n",
        "Text in Python 3 is represented as a series of [Unicode](https://unicode.org/standard/standard.html) characters. Some characters have different variants, for example the character 'ع' can also be represented as 'ﻊ', 'ﻋ', 'ﻌ' depending on where it appears in a word. For all these forms, we would call 'ع' their canonical form. Furthermore, some Unicode characters are a composition of multiple characters and in some cases can comprise entire phrases. For example, the character 'ﰷ' is a single Unicode character that represents the composition of 'ك' and 'ا'. Unicode decomposition is the process of splitting these composed characters into their individual constituents.\n",
        "\n",
        "These variants and composed forms are generally used for display purposes and are problematic in text processing tasks. To convert Unicode text into something more suitable for text processing, we provide the [`normalize_unicode`](https://camel-tools.readthedocs.io/en/latest/api/utils/normalize.html#camel_tools.utils.normalize.normalize_unicode) function.\n",
        "\n",
        "In the example below, we demonstrate a more extreme example of how `normalize_unicode` converts a composed character into its decomposed form.\n"
      ]
    },
    {
      "cell_type": "code",
      "metadata": {
        "colab": {
          "base_uri": "https://localhost:8080/"
        },
        "id": "xsR9wuFT088o",
        "outputId": "e06d43bc-8a4e-4229-ef62-0240729c4971"
      },
      "source": [
        "from camel_tools.utils.normalize import normalize_unicode\n",
        "\n",
        "sentence = 'ﷺ'\n",
        "print(sentence)\n",
        "\n",
        "sent_norm = normalize_unicode(sentence)\n",
        "print(sent_norm)"
      ],
      "execution_count": null,
      "outputs": [
        {
          "output_type": "stream",
          "name": "stdout",
          "text": [
            "ﷺ\n",
            "صلى الله عليه وسلم\n"
          ]
        }
      ]
    },
    {
      "cell_type": "markdown",
      "metadata": {
        "id": "Tbdr5KrDlQIY"
      },
      "source": [
        "**NOTE:** It is advised to run this function on all text prior to any further preprocessing or use."
      ]
    },
    {
      "cell_type": "markdown",
      "metadata": {
        "id": "fUJ8IaJo088q"
      },
      "source": [
        "### Orthographic Normalization\n",
        "\n",
        "It is common for Arabic speakers to use shortcuts when typing Arabic text.\n",
        "For example, the different variants of the letter alef ('ا', 'آ', 'أ', 'إ') may be typed as just 'ا'. Some of these substitutions can just be the result of typos. The presence of these variations can cause data sparsity and are usually normalized to a single form. Orthographic normalization is the process of converting letter variants or visually similar letters into a single form.\n",
        "\n",
        "We provide a collection of orthographic normalization functions in CAMeL Tools. The example below demonstrates a few of them."
      ]
    },
    {
      "cell_type": "code",
      "metadata": {
        "id": "hVN6ZsVV088r",
        "colab": {
          "base_uri": "https://localhost:8080/"
        },
        "outputId": "0e476804-b1ad-4bea-97d9-36e2e63cf7e3"
      },
      "source": [
        "from camel_tools.utils.normalize import normalize_alef_maksura_ar\n",
        "from camel_tools.utils.normalize import normalize_alef_ar\n",
        "from camel_tools.utils.normalize import normalize_teh_marbuta_ar\n",
        "\n",
        "sentence = \"هل ذهبت إلى المكتبة؟\"\n",
        "print(sentence)\n",
        "\n",
        "# Normalize alef variants to 'ا'\n",
        "sent_norm = normalize_alef_ar(sentence)\n",
        "print(sent_norm)\n",
        "\n",
        "# Normalize alef maksura 'ى' to yeh 'ي'\n",
        "sent_norm = normalize_alef_maksura_ar(sent_norm)\n",
        "print(sent_norm)\n",
        "\n",
        "# Normalize teh marbuta 'ة' to heh 'ه'\n",
        "sent_norm = normalize_teh_marbuta_ar(sent_norm)\n",
        "print(sent_norm)"
      ],
      "execution_count": null,
      "outputs": [
        {
          "output_type": "stream",
          "name": "stdout",
          "text": [
            "هل ذهبت إلى المكتبة؟\n",
            "هل ذهبت الى المكتبة؟\n",
            "هل ذهبت الي المكتبة؟\n",
            "هل ذهبت الي المكتبه؟\n"
          ]
        }
      ]
    },
    {
      "cell_type": "markdown",
      "metadata": {
        "id": "rawo1cAJPCOC"
      },
      "source": [
        "The example above performs orthographic normalization on Arabic script. We provide variants of these functions for other encoding schemes as well (e.g. Buckwalter, Safe Buckwalter, etc). See [here](https://camel-tools.readthedocs.io/en/latest/api/utils/normalize.html) for more information.\n"
      ]
    },
    {
      "cell_type": "markdown",
      "metadata": {
        "id": "vhD5hMgA088t"
      },
      "source": [
        "## Dediacritization\n",
        "\n",
        "Dediacritization is the process of removing Arabic diacritical marks. Diacritics increase data sparsity and so most Arabic NLP techniques ignore them. The example below shows how diacritics can be removed from Arabic text using the [`dediac_ar`](https://camel-tools.readthedocs.io/en/latest/api/utils/dediac.html#camel_tools.utils.dediac.dediac_ar) function:"
      ]
    },
    {
      "cell_type": "code",
      "metadata": {
        "id": "Np_JWmFq088u",
        "colab": {
          "base_uri": "https://localhost:8080/"
        },
        "outputId": "a66a3eb9-5504-477c-ef67-101e98176392"
      },
      "source": [
        "from camel_tools.utils.dediac import dediac_ar\n",
        "\n",
        "sentence = \"هَلْ ذَهَبْتَ إِلَى المَكْتَبَةِ؟\"\n",
        "print(sentence)\n",
        "\n",
        "sent_dediac = dediac_ar(sentence)\n",
        "print(sent_dediac)"
      ],
      "execution_count": null,
      "outputs": [
        {
          "output_type": "stream",
          "name": "stdout",
          "text": [
            "هَلْ ذَهَبْتَ إِلَى المَكْتَبَةِ؟\n",
            "هل ذهبت إلى المكتبة؟\n"
          ]
        }
      ]
    },
    {
      "cell_type": "markdown",
      "metadata": {
        "id": "i2I9gP03CHrR"
      },
      "source": [
        "We provide dediacritization functions for other encoding schemes (eg. Buckwalter, Safe Buckwalter, etc) which you can learn more about [here](https://camel-tools.readthedocs.io/en/latest/api/utils/dediac.html).\n"
      ]
    },
    {
      "cell_type": "markdown",
      "metadata": {
        "id": "wQw096Uw088u"
      },
      "source": [
        "## Word Tokenization"
      ]
    },
    {
      "cell_type": "markdown",
      "metadata": {
        "id": "7-Dr0J4W_-Bp"
      },
      "source": [
        "Some CAMeL Tools components expect text to be pretokenized by whitespace and punctuation. This means that an input sentence should be an array of words and punctuation instead of a single string. This is to preserve the alignment of inputs and outputs.\n",
        "\n",
        "Python does provide the `split()` method to tokenize words by whitespace but it doesn't seperate punctuation from words. For example:"
      ]
    },
    {
      "cell_type": "code",
      "metadata": {
        "colab": {
          "base_uri": "https://localhost:8080/"
        },
        "id": "zqLIIGGim5nm",
        "outputId": "84c3d1fd-618d-4617-b852-7d2cd7db3767"
      },
      "source": [
        "sentence = \"هَلْ ذَهَبْتَ إِلَى المَكْتَبَةِ؟\"\n",
        "print(sentence)\n",
        "\n",
        "sent_split = sentence.split()\n",
        "print(sent_split)"
      ],
      "execution_count": null,
      "outputs": [
        {
          "output_type": "stream",
          "name": "stdout",
          "text": [
            "هَلْ ذَهَبْتَ إِلَى المَكْتَبَةِ؟\n",
            "['هَلْ', 'ذَهَبْتَ', 'إِلَى', 'المَكْتَبَةِ؟']\n"
          ]
        }
      ]
    },
    {
      "cell_type": "markdown",
      "metadata": {
        "id": "6Sju7VQ6m3h5"
      },
      "source": [
        "To split by whitespace and seperate punctuation, we currently provide the utility function [`simple_word_tokenize`](https://camel-tools.readthedocs.io/en/latest/api/tokenizers/word.html#camel_tools.tokenizers.word.simple_word_tokenize). The example below is similar to the one above, but this time we use `simple_word_tokenize()` instead of `split()`."
      ]
    },
    {
      "cell_type": "code",
      "metadata": {
        "id": "WxbPNRCU088v",
        "colab": {
          "base_uri": "https://localhost:8080/"
        },
        "outputId": "ab066791-a55a-4db0-8914-11ef7cd51078"
      },
      "source": [
        "from camel_tools.tokenizers.word import simple_word_tokenize\n",
        "\n",
        "sentence = \"هَلْ ذَهَبْتَ إِلَى المَكْتَبَةِ؟\"\n",
        "print(sentence)\n",
        "\n",
        "sent_split = simple_word_tokenize(sentence)\n",
        "print(sent_split)"
      ],
      "execution_count": null,
      "outputs": [
        {
          "output_type": "stream",
          "name": "stdout",
          "text": [
            "هَلْ ذَهَبْتَ إِلَى المَكْتَبَةِ؟\n",
            "['هَلْ', 'ذَهَبْتَ', 'إِلَى', 'المَكْتَبَةِ', '؟']\n"
          ]
        }
      ]
    },
    {
      "cell_type": "markdown",
      "metadata": {
        "id": "7AMRqZE9A8tj"
      },
      "source": [
        "**NOTE:** `simple_word_tokenize`, as the name suggests is very simple and does not do anything fancy. It will seperate all punctuation regardless of context (ie. hashtags, emails, abbreviations, etc.)"
      ]
    },
    {
      "cell_type": "markdown",
      "metadata": {
        "id": "Nv4xaPCX088y"
      },
      "source": [
        "# Morphology"
      ]
    },
    {
      "cell_type": "markdown",
      "metadata": {
        "id": "-7zdJFwRDUQ1"
      },
      "source": [
        "CAMeL Tools provides a powerful morphological analysis, generation and reinflection system. This system is powered by [morphological databases](https://camel-tools.readthedocs.io/en/latest/api/morphology/database.html#databases) that are comprised of lexicons and compatibility tables. See [here](https://www.aclweb.org/anthology/W18-5816.pdf) for more details."
      ]
    },
    {
      "cell_type": "markdown",
      "metadata": {
        "id": "si9YcVbY088z"
      },
      "source": [
        "## Analysis\n"
      ]
    },
    {
      "cell_type": "markdown",
      "metadata": {
        "id": "U7JXVSeA8-rr"
      },
      "source": [
        "Morphological analysis is the process of generating all possible readings (analyses) of a given word out of context. All analyses are generated from the undiacritized form of the input word. Each of these analyses is defined by a set lexical and morphological features. "
      ]
    },
    {
      "cell_type": "code",
      "metadata": {
        "id": "MtzSgEBl088z",
        "colab": {
          "base_uri": "https://localhost:8080/"
        },
        "outputId": "3c8748af-598c-4316-834c-ccd4fd51d5f0"
      },
      "source": [
        "from camel_tools.morphology.database import MorphologyDB\n",
        "from camel_tools.morphology.analyzer import Analyzer\n",
        "\n",
        "# First, we need to load a morphological database.\n",
        "# Here, we load the default database which is used for analyzing\n",
        "# Modern Standard Arabic. \n",
        "db = MorphologyDB.builtin_db()\n",
        "\n",
        "analyzer = Analyzer(db)\n",
        "\n",
        "analyses = analyzer.analyze('موظف')\n",
        "\n",
        "for analysis in analyses:\n",
        "    print(analysis, '\\n')"
      ],
      "execution_count": null,
      "outputs": [
        {
          "output_type": "stream",
          "name": "stdout",
          "text": [
            "{'diac': 'مُوَظَّف', 'lex': 'مُوَظَّف', 'bw': 'مُوَظَّف/ADJ', 'gloss': 'employed;hired', 'pos': 'adj', 'prc3': '0', 'prc2': '0', 'prc1': '0', 'prc0': '0', 'per': 'na', 'asp': 'na', 'vox': 'na', 'mod': 'na', 'stt': 'i', 'cas': 'u', 'enc0': '0', 'rat': 'n', 'source': 'lex', 'form_gen': 'm', 'form_num': 's', 'd3seg': 'مُوَظَّف', 'caphi': 'm_u_w_a_dh._dh._a_f', 'd1tok': 'مُوَظَّف', 'd2tok': 'مُوَظَّف', 'pos_logprob': -0.9868824, 'd3tok': 'مُوَظَّف', 'd2seg': 'مُوَظَّف', 'pos_lex_logprob': -5.400551, 'num': 's', 'ud': 'ADJ', 'gen': 'm', 'catib6': 'NOM', 'root': '#.ظ.ف', 'bwtok': 'مُوَظَّف', 'pattern': 'مُوَ2َّ3', 'lex_logprob': -5.400551, 'atbtok': 'مُوَظَّف', 'atbseg': 'مُوَظَّف', 'd1seg': 'مُوَظَّف', 'stem': 'مُوَظَّف', 'stemgloss': 'employed;hired', 'stemcat': 'N-ap'} \n",
            "\n",
            "{'diac': 'مُوَظَّفَ', 'lex': 'مُوَظَّف', 'bw': 'مُوَظَّف/ADJ+َ/CASE_DEF_ACC', 'gloss': 'employed;hired+[def.acc.]', 'pos': 'adj', 'prc3': '0', 'prc2': '0', 'prc1': '0', 'prc0': '0', 'per': 'na', 'asp': 'na', 'vox': 'na', 'mod': 'na', 'stt': 'c', 'cas': 'a', 'enc0': '0', 'rat': 'n', 'source': 'lex', 'form_gen': 'm', 'form_num': 's', 'd3seg': 'مُوَظَّفَ', 'caphi': 'm_u_w_a_dh._dh._a_f_a', 'd1tok': 'مُوَظَّفَ', 'd2tok': 'مُوَظَّفَ', 'pos_logprob': -0.9868824, 'd3tok': 'مُوَظَّفَ', 'd2seg': 'مُوَظَّفَ', 'pos_lex_logprob': -5.400551, 'num': 's', 'ud': 'ADJ', 'gen': 'm', 'catib6': 'NOM', 'root': '#.ظ.ف', 'bwtok': 'مُوَظَّف_+َ', 'pattern': 'مُوَ2َّ3َ', 'lex_logprob': -5.400551, 'atbtok': 'مُوَظَّفَ', 'atbseg': 'مُوَظَّفَ', 'd1seg': 'مُوَظَّفَ', 'stem': 'مُوَظَّف', 'stemgloss': 'employed;hired', 'stemcat': 'N-ap'} \n",
            "\n",
            "{'diac': 'مُوَظَّفٌ', 'lex': 'مُوَظَّف', 'bw': 'مُوَظَّف/ADJ+ٌ/CASE_INDEF_NOM', 'gloss': 'employed;hired+[indef.nom.]', 'pos': 'adj', 'prc3': '0', 'prc2': '0', 'prc1': '0', 'prc0': '0', 'per': 'na', 'asp': 'na', 'vox': 'na', 'mod': 'na', 'stt': 'i', 'cas': 'n', 'enc0': '0', 'rat': 'n', 'source': 'lex', 'form_gen': 'm', 'form_num': 's', 'd3seg': 'مُوَظَّفٌ', 'caphi': 'm_u_w_a_dh._dh._a_f_u_n', 'd1tok': 'مُوَظَّفٌ', 'd2tok': 'مُوَظَّفٌ', 'pos_logprob': -0.9868824, 'd3tok': 'مُوَظَّفٌ', 'd2seg': 'مُوَظَّفٌ', 'pos_lex_logprob': -5.400551, 'num': 's', 'ud': 'ADJ', 'gen': 'm', 'catib6': 'NOM', 'root': '#.ظ.ف', 'bwtok': 'مُوَظَّف_+ٌ', 'pattern': 'مُوَ2َّ3ٌ', 'lex_logprob': -5.400551, 'atbtok': 'مُوَظَّفٌ', 'atbseg': 'مُوَظَّفٌ', 'd1seg': 'مُوَظَّفٌ', 'stem': 'مُوَظَّف', 'stemgloss': 'employed;hired', 'stemcat': 'N-ap'} \n",
            "\n",
            "{'diac': 'مُوَظَّفِ', 'lex': 'مُوَظَّف', 'bw': 'مُوَظَّف/ADJ+ِ/CASE_DEF_GEN', 'gloss': 'employed;hired+[def.gen.]', 'pos': 'adj', 'prc3': '0', 'prc2': '0', 'prc1': '0', 'prc0': '0', 'per': 'na', 'asp': 'na', 'vox': 'na', 'mod': 'na', 'stt': 'c', 'cas': 'g', 'enc0': '0', 'rat': 'n', 'source': 'lex', 'form_gen': 'm', 'form_num': 's', 'd3seg': 'مُوَظَّفِ', 'caphi': 'm_u_w_a_dh._dh._a_f_i', 'd1tok': 'مُوَظَّفِ', 'd2tok': 'مُوَظَّفِ', 'pos_logprob': -0.9868824, 'd3tok': 'مُوَظَّفِ', 'd2seg': 'مُوَظَّفِ', 'pos_lex_logprob': -5.400551, 'num': 's', 'ud': 'ADJ', 'gen': 'm', 'catib6': 'NOM', 'root': '#.ظ.ف', 'bwtok': 'مُوَظَّف_+ِ', 'pattern': 'مُوَ2َّ3ِ', 'lex_logprob': -5.400551, 'atbtok': 'مُوَظَّفِ', 'atbseg': 'مُوَظَّفِ', 'd1seg': 'مُوَظَّفِ', 'stem': 'مُوَظَّف', 'stemgloss': 'employed;hired', 'stemcat': 'N-ap'} \n",
            "\n",
            "{'diac': 'مُوَظَّفٍ', 'lex': 'مُوَظَّف', 'bw': 'مُوَظَّف/ADJ+ٍ/CASE_INDEF_GEN', 'gloss': 'employed;hired+[indef.gen.]', 'pos': 'adj', 'prc3': '0', 'prc2': '0', 'prc1': '0', 'prc0': '0', 'per': 'na', 'asp': 'na', 'vox': 'na', 'mod': 'na', 'stt': 'i', 'cas': 'g', 'enc0': '0', 'rat': 'n', 'source': 'lex', 'form_gen': 'm', 'form_num': 's', 'd3seg': 'مُوَظَّفٍ', 'caphi': 'm_u_w_a_dh._dh._a_f_i_n', 'd1tok': 'مُوَظَّفٍ', 'd2tok': 'مُوَظَّفٍ', 'pos_logprob': -0.9868824, 'd3tok': 'مُوَظَّفٍ', 'd2seg': 'مُوَظَّفٍ', 'pos_lex_logprob': -5.400551, 'num': 's', 'ud': 'ADJ', 'gen': 'm', 'catib6': 'NOM', 'root': '#.ظ.ف', 'bwtok': 'مُوَظَّف_+ٍ', 'pattern': 'مُوَ2َّ3ٍ', 'lex_logprob': -5.400551, 'atbtok': 'مُوَظَّفٍ', 'atbseg': 'مُوَظَّفٍ', 'd1seg': 'مُوَظَّفٍ', 'stem': 'مُوَظَّف', 'stemgloss': 'employed;hired', 'stemcat': 'N-ap'} \n",
            "\n",
            "{'diac': 'مُوَظَّفُ', 'lex': 'مُوَظَّف', 'bw': 'مُوَظَّف/ADJ+ُ/CASE_DEF_NOM', 'gloss': 'employed;hired+[def.nom.]', 'pos': 'adj', 'prc3': '0', 'prc2': '0', 'prc1': '0', 'prc0': '0', 'per': 'na', 'asp': 'na', 'vox': 'na', 'mod': 'na', 'stt': 'c', 'cas': 'n', 'enc0': '0', 'rat': 'n', 'source': 'lex', 'form_gen': 'm', 'form_num': 's', 'd3seg': 'مُوَظَّفُ', 'caphi': 'm_u_w_a_dh._dh._a_f_u', 'd1tok': 'مُوَظَّفُ', 'd2tok': 'مُوَظَّفُ', 'pos_logprob': -0.9868824, 'd3tok': 'مُوَظَّفُ', 'd2seg': 'مُوَظَّفُ', 'pos_lex_logprob': -5.400551, 'num': 's', 'ud': 'ADJ', 'gen': 'm', 'catib6': 'NOM', 'root': '#.ظ.ف', 'bwtok': 'مُوَظَّف_+ُ', 'pattern': 'مُوَ2َّ3ُ', 'lex_logprob': -5.400551, 'atbtok': 'مُوَظَّفُ', 'atbseg': 'مُوَظَّفُ', 'd1seg': 'مُوَظَّفُ', 'stem': 'مُوَظَّف', 'stemgloss': 'employed;hired', 'stemcat': 'N-ap'} \n",
            "\n",
            "{'diac': 'مُوَظَّف', 'lex': 'مُوَظَّف', 'bw': 'مُوَظَّف/NOUN', 'gloss': 'employee', 'pos': 'noun', 'prc3': '0', 'prc2': '0', 'prc1': '0', 'prc0': '0', 'per': 'na', 'asp': 'na', 'vox': 'na', 'mod': 'na', 'stt': 'i', 'cas': 'u', 'enc0': '0', 'rat': 'r', 'source': 'lex', 'form_gen': 'm', 'form_num': 's', 'd3seg': 'مُوَظَّف', 'caphi': 'm_u_w_a_dh._dh._a_f', 'd1tok': 'مُوَظَّف', 'd2tok': 'مُوَظَّف', 'pos_logprob': -0.4344233, 'd3tok': 'مُوَظَّف', 'd2seg': 'مُوَظَّف', 'pos_lex_logprob': -3.747339, 'num': 's', 'ud': 'NOUN', 'gen': 'm', 'catib6': 'NOM', 'root': '#.ظ.ف', 'bwtok': 'مُوَظَّف', 'pattern': 'مُوَ2َّ3', 'lex_logprob': -3.747339, 'atbtok': 'مُوَظَّف', 'atbseg': 'مُوَظَّف', 'd1seg': 'مُوَظَّف', 'stem': 'مُوَظَّف', 'stemgloss': 'employee', 'stemcat': 'Nall'} \n",
            "\n",
            "{'diac': 'مُوَظَّفَ', 'lex': 'مُوَظَّف', 'bw': 'مُوَظَّف/NOUN+َ/CASE_DEF_ACC', 'gloss': 'employee+[def.acc.]', 'pos': 'noun', 'prc3': '0', 'prc2': '0', 'prc1': '0', 'prc0': '0', 'per': 'na', 'asp': 'na', 'vox': 'na', 'mod': 'na', 'stt': 'c', 'cas': 'a', 'enc0': '0', 'rat': 'r', 'source': 'lex', 'form_gen': 'm', 'form_num': 's', 'd3seg': 'مُوَظَّفَ', 'caphi': 'm_u_w_a_dh._dh._a_f_a', 'd1tok': 'مُوَظَّفَ', 'd2tok': 'مُوَظَّفَ', 'pos_logprob': -0.4344233, 'd3tok': 'مُوَظَّفَ', 'd2seg': 'مُوَظَّفَ', 'pos_lex_logprob': -3.747339, 'num': 's', 'ud': 'NOUN', 'gen': 'm', 'catib6': 'NOM', 'root': '#.ظ.ف', 'bwtok': 'مُوَظَّف_+َ', 'pattern': 'مُوَ2َّ3َ', 'lex_logprob': -3.747339, 'atbtok': 'مُوَظَّفَ', 'atbseg': 'مُوَظَّفَ', 'd1seg': 'مُوَظَّفَ', 'stem': 'مُوَظَّف', 'stemgloss': 'employee', 'stemcat': 'Nall'} \n",
            "\n",
            "{'diac': 'مُوَظَّفٌ', 'lex': 'مُوَظَّف', 'bw': 'مُوَظَّف/NOUN+ٌ/CASE_INDEF_NOM', 'gloss': 'employee+[indef.nom.]', 'pos': 'noun', 'prc3': '0', 'prc2': '0', 'prc1': '0', 'prc0': '0', 'per': 'na', 'asp': 'na', 'vox': 'na', 'mod': 'na', 'stt': 'i', 'cas': 'n', 'enc0': '0', 'rat': 'r', 'source': 'lex', 'form_gen': 'm', 'form_num': 's', 'd3seg': 'مُوَظَّفٌ', 'caphi': 'm_u_w_a_dh._dh._a_f_u_n', 'd1tok': 'مُوَظَّفٌ', 'd2tok': 'مُوَظَّفٌ', 'pos_logprob': -0.4344233, 'd3tok': 'مُوَظَّفٌ', 'd2seg': 'مُوَظَّفٌ', 'pos_lex_logprob': -3.747339, 'num': 's', 'ud': 'NOUN', 'gen': 'm', 'catib6': 'NOM', 'root': '#.ظ.ف', 'bwtok': 'مُوَظَّف_+ٌ', 'pattern': 'مُوَ2َّ3ٌ', 'lex_logprob': -3.747339, 'atbtok': 'مُوَظَّفٌ', 'atbseg': 'مُوَظَّفٌ', 'd1seg': 'مُوَظَّفٌ', 'stem': 'مُوَظَّف', 'stemgloss': 'employee', 'stemcat': 'Nall'} \n",
            "\n",
            "{'diac': 'مُوَظَّفِ', 'lex': 'مُوَظَّف', 'bw': 'مُوَظَّف/NOUN+ِ/CASE_DEF_GEN', 'gloss': 'employee+[def.gen.]', 'pos': 'noun', 'prc3': '0', 'prc2': '0', 'prc1': '0', 'prc0': '0', 'per': 'na', 'asp': 'na', 'vox': 'na', 'mod': 'na', 'stt': 'c', 'cas': 'g', 'enc0': '0', 'rat': 'r', 'source': 'lex', 'form_gen': 'm', 'form_num': 's', 'd3seg': 'مُوَظَّفِ', 'caphi': 'm_u_w_a_dh._dh._a_f_i', 'd1tok': 'مُوَظَّفِ', 'd2tok': 'مُوَظَّفِ', 'pos_logprob': -0.4344233, 'd3tok': 'مُوَظَّفِ', 'd2seg': 'مُوَظَّفِ', 'pos_lex_logprob': -3.747339, 'num': 's', 'ud': 'NOUN', 'gen': 'm', 'catib6': 'NOM', 'root': '#.ظ.ف', 'bwtok': 'مُوَظَّف_+ِ', 'pattern': 'مُوَ2َّ3ِ', 'lex_logprob': -3.747339, 'atbtok': 'مُوَظَّفِ', 'atbseg': 'مُوَظَّفِ', 'd1seg': 'مُوَظَّفِ', 'stem': 'مُوَظَّف', 'stemgloss': 'employee', 'stemcat': 'Nall'} \n",
            "\n",
            "{'diac': 'مُوَظَّفٍ', 'lex': 'مُوَظَّف', 'bw': 'مُوَظَّف/NOUN+ٍ/CASE_INDEF_GEN', 'gloss': 'employee+[indef.gen.]', 'pos': 'noun', 'prc3': '0', 'prc2': '0', 'prc1': '0', 'prc0': '0', 'per': 'na', 'asp': 'na', 'vox': 'na', 'mod': 'na', 'stt': 'i', 'cas': 'g', 'enc0': '0', 'rat': 'r', 'source': 'lex', 'form_gen': 'm', 'form_num': 's', 'd3seg': 'مُوَظَّفٍ', 'caphi': 'm_u_w_a_dh._dh._a_f_i_n', 'd1tok': 'مُوَظَّفٍ', 'd2tok': 'مُوَظَّفٍ', 'pos_logprob': -0.4344233, 'd3tok': 'مُوَظَّفٍ', 'd2seg': 'مُوَظَّفٍ', 'pos_lex_logprob': -3.747339, 'num': 's', 'ud': 'NOUN', 'gen': 'm', 'catib6': 'NOM', 'root': '#.ظ.ف', 'bwtok': 'مُوَظَّف_+ٍ', 'pattern': 'مُوَ2َّ3ٍ', 'lex_logprob': -3.747339, 'atbtok': 'مُوَظَّفٍ', 'atbseg': 'مُوَظَّفٍ', 'd1seg': 'مُوَظَّفٍ', 'stem': 'مُوَظَّف', 'stemgloss': 'employee', 'stemcat': 'Nall'} \n",
            "\n",
            "{'diac': 'مُوَظَّفُ', 'lex': 'مُوَظَّف', 'bw': 'مُوَظَّف/NOUN+ُ/CASE_DEF_NOM', 'gloss': 'employee+[def.nom.]', 'pos': 'noun', 'prc3': '0', 'prc2': '0', 'prc1': '0', 'prc0': '0', 'per': 'na', 'asp': 'na', 'vox': 'na', 'mod': 'na', 'stt': 'c', 'cas': 'n', 'enc0': '0', 'rat': 'r', 'source': 'lex', 'form_gen': 'm', 'form_num': 's', 'd3seg': 'مُوَظَّفُ', 'caphi': 'm_u_w_a_dh._dh._a_f_u', 'd1tok': 'مُوَظَّفُ', 'd2tok': 'مُوَظَّفُ', 'pos_logprob': -0.4344233, 'd3tok': 'مُوَظَّفُ', 'd2seg': 'مُوَظَّفُ', 'pos_lex_logprob': -3.747339, 'num': 's', 'ud': 'NOUN', 'gen': 'm', 'catib6': 'NOM', 'root': '#.ظ.ف', 'bwtok': 'مُوَظَّف_+ُ', 'pattern': 'مُوَ2َّ3ُ', 'lex_logprob': -3.747339, 'atbtok': 'مُوَظَّفُ', 'atbseg': 'مُوَظَّفُ', 'd1seg': 'مُوَظَّفُ', 'stem': 'مُوَظَّف', 'stemgloss': 'employee', 'stemcat': 'Nall'} \n",
            "\n"
          ]
        }
      ]
    },
    {
      "cell_type": "markdown",
      "metadata": {
        "id": "X3KV4vNDDtG8"
      },
      "source": [
        "Let's examine just one of the output analyses generated from another word ('وسيكتبونها') to get a better idea of the verious morphological and lexical features that we provide. We provide a [handy reference page](https://camel-tools.readthedocs.io/en/latest/reference/camel_morphology_features.html) that explains what these features are and what their values mean."
      ]
    },
    {
      "cell_type": "markdown",
      "metadata": {
        "id": "EcfmX4eZ088z"
      },
      "source": [
        "```\n",
        "diac: وَسَيَكْتُبُونَها\n",
        "lex: كَتَب-u_1\n",
        "bw: وَ/CONJ+سَ/FUT_PART+يَ/IV3MP+كْتُب/IV+ُونَ/IVSUFF_SUBJ:MP_MOOD:I+ها/IVSUFF_DO:3FS\n",
        "gloss: and_+_will_+_they_(people)+write+it;them;her\n",
        "pos: verb\n",
        "prc3: 0\n",
        "prc2: wa_conj\n",
        "prc1: sa_fut\n",
        "prc0: 0\n",
        "per: 3\n",
        "asp: i\n",
        "vox: a\n",
        "mod: i\n",
        "stt: na\n",
        "cas: na\n",
        "enc0: 3fs_dobj\n",
        "rat: n\n",
        "source: lex\n",
        "form_gen: m\n",
        "form_num: p\n",
        "pattern: وَسَيَ1ْ2ُ3ُونَها\n",
        "root: ك.ت.ب\n",
        "catib6: PRT+PRT+VRB+NOM\n",
        "ud: CONJ+AUX+VERB+PRON\n",
        "d1seg: وَ+_سَيَكْتُبُونَها\n",
        "d1tok: وَ+_سَيَكْتُبُونَها\n",
        "atbseg: وَ+_سَ+_يَكْتُبُونَ_+ها\n",
        "d3seg: وَ+_سَ+_يَكْتُبُونَ_+ها\n",
        "d2seg: وَ+_سَ+_يَكْتُبُونَها\n",
        "d2tok: وَ+_سَ+_يَكْتُبُونَها\n",
        "atbtok: وَ+_سَ+_يَكْتُبُونَ_+ها\n",
        "d3tok: وَ+_سَ+_يَكْتُبُونَ_+ها\n",
        "bwtok: وَ+_سَ+_يَ+_كْتُب_+ُونَ_+ها\n",
        "pos_lex_logprob: -3.648503\n",
        "caphi: w_a_s_a_y_a_k_t_u_b_uu_n_a_h_aa\n",
        "pos_logprob: -1.023208\n",
        "gen: m\n",
        "lex_logprob: -3.648503\n",
        "num: p\n",
        "stem: كْتُب\n",
        "stemgloss: write\n",
        "stemcat: IV\n",
        "```"
      ]
    },
    {
      "cell_type": "markdown",
      "metadata": {
        "id": "UfO9gxQy0880"
      },
      "source": [
        "## Generation\n",
        "\n",
        "Generation is the process of inflecting a lemma\n",
        "for a set of morphological features. The example below generates all the possible inflections for the lemma 'مُوَظَّف' (employee) that are masculine plural nouns."
      ]
    },
    {
      "cell_type": "code",
      "metadata": {
        "id": "ESM-zdQ50881",
        "colab": {
          "base_uri": "https://localhost:8080/"
        },
        "outputId": "21578c73-e441-465c-d115-7a9e4a78b55a"
      },
      "source": [
        "from camel_tools.morphology.database import MorphologyDB\n",
        "from camel_tools.morphology.generator import Generator\n",
        "\n",
        "# We need to indicate that the database we are loading will be\n",
        "# used for generation.\n",
        "db = MorphologyDB.builtin_db(flags='g')\n",
        "\n",
        "generator = Generator(db)\n",
        "\n",
        "lemma = 'مُوَظَّف'\n",
        "features = {\n",
        "    'pos': 'noun',\n",
        "    'gen': 'm',\n",
        "    'num': 'p'\n",
        "}\n",
        "\n",
        "analyses = generator.generate(lemma, features)\n",
        "\n",
        "# Extract and print unique diacritizations from generated analyses\n",
        "for diac in set([a['diac'] for a in analyses]):\n",
        "    print(diac)"
      ],
      "execution_count": null,
      "outputs": [
        {
          "output_type": "stream",
          "name": "stdout",
          "text": [
            "مُوَظَّفِينَ\n",
            "مُوَظَّفِي\n",
            "مُوَظَّفُونَ\n",
            "مُوَظَّفُو\n"
          ]
        }
      ]
    },
    {
      "cell_type": "markdown",
      "metadata": {
        "id": "kHa3zXmnFl15"
      },
      "source": [
        "**NOTE:** `'pos'` is the only *required* feature that needs to be specified."
      ]
    },
    {
      "cell_type": "markdown",
      "metadata": {
        "id": "0Z45XwXQ0881"
      },
      "source": [
        "## Reinflection\n",
        "\n",
        "Reinflection is the process of converting a given word in any form to a different form (i.e. tense, gender, etc). The CAMeL Tools reinflector works similar to the generator except that the word doesn't have to be a lemma and it is not have to be restricted to a specific `'pos'`. The example below reinflects the word 'شوارع' (streets) into its dual form with a proclitic 'ب'."
      ]
    },
    {
      "cell_type": "code",
      "metadata": {
        "id": "gAffYSc60881",
        "colab": {
          "base_uri": "https://localhost:8080/"
        },
        "outputId": "c39288ce-7ffd-4a57-8996-265055e94dba"
      },
      "source": [
        "from camel_tools.morphology.database import MorphologyDB\n",
        "from camel_tools.morphology.reinflector import Reinflector\n",
        "\n",
        "# We need to indicate that the database we are loading will be\n",
        "# used for reinflection.\n",
        "db = MorphologyDB.builtin_db(flags='r')\n",
        "\n",
        "reinflector = Reinflector(db)\n",
        "\n",
        "word = 'شوارع'\n",
        "features = {\n",
        "    'num': 'd',\n",
        "    'prc1': 'bi_prep'\n",
        "}\n",
        "\n",
        "analyses = reinflector.reinflect(word, features)\n",
        "\n",
        "# Extract and print unique diacritizations from reinflected analyses\n",
        "for diac in set([a['diac'] for a in analyses]):\n",
        "    print(diac)"
      ],
      "execution_count": null,
      "outputs": [
        {
          "output_type": "stream",
          "name": "stdout",
          "text": [
            "بِشارِعَيْنِ\n",
            "بِشارِعَيْ\n"
          ]
        }
      ]
    },
    {
      "cell_type": "markdown",
      "metadata": {
        "id": "XYTXsWdA0882"
      },
      "source": [
        "# Disambiguation"
      ]
    },
    {
      "cell_type": "markdown",
      "metadata": {
        "id": "AQgWp4XiGIUT"
      },
      "source": [
        "Disambiguation is the process of determining what is the most likely analysis of a word in a given context. In CAMeL Tools, disambiguation is the backbone for many Arabic NLP tasks such as diacritization, POS tagging and morphological tokenization. At the moment, we provide a disambiguator that uses a Maximum Likelihood Estimation model, [`MLEDisambiguator`](https://camel-tools.readthedocs.io/en/latest/api/disambig/mle.html#camel_tools.disambig.mle.MLEDisambiguator). More advanced disambiguation techniques will be added to CAMeL Tools in the near future.\n",
        "\n",
        "In the example below, we use a disambiguator to compute the most likely diacritization, POS tag, and lemma for all words in a given sentence."
      ]
    },
    {
      "cell_type": "code",
      "metadata": {
        "colab": {
          "base_uri": "https://localhost:8080/"
        },
        "id": "XRic4ub10888",
        "outputId": "228e92d4-1c20-4c9e-e150-49111bb69be3"
      },
      "source": [
        "from camel_tools.tokenizers.word import simple_word_tokenize\n",
        "from camel_tools.disambig.mle import MLEDisambiguator\n",
        "\n",
        "mle = MLEDisambiguator.pretrained()\n",
        "\n",
        "# The disambiguator expects pre-tokenized text\n",
        "sentence = simple_word_tokenize('نجح بايدن في الانتخابات')\n",
        "\n",
        "disambig = mle.disambiguate(sentence)\n",
        "\n",
        "# For each disambiguated word d in disambig, d.analyses is a list of analyses\n",
        "# sorted from most likely to least likely. Therefore, d.analyses[0] would\n",
        "# be the most likely analysis for a given word. Below we extract different\n",
        "# features from the top analysis of each disambiguated word into seperate lists.\n",
        "diacritized = [d.analyses[0].analysis['diac'] for d in disambig]\n",
        "pos_tags = [d.analyses[0].analysis['pos'] for d in disambig]\n",
        "lemmas = [d.analyses[0].analysis['lex'] for d in disambig]\n",
        "\n",
        "# Print the combined feature values extracted above\n",
        "for triplet in zip(diacritized, pos_tags, lemmas):\n",
        "    print(triplet)\n"
      ],
      "execution_count": null,
      "outputs": [
        {
          "output_type": "stream",
          "name": "stdout",
          "text": [
            "('نَجَحَ', 'verb', 'نَجَح')\n",
            "('بايدن', 'noun_prop', 'بايدن')\n",
            "('فِي', 'prep', 'فِي')\n",
            "('الاِنْتِخاباتِ', 'noun', 'ٱِنْتِخاب')\n"
          ]
        }
      ]
    },
    {
      "cell_type": "markdown",
      "metadata": {
        "id": "kMTRdw4g0888"
      },
      "source": [
        "# Tagging"
      ]
    },
    {
      "cell_type": "markdown",
      "metadata": {
        "id": "YoYy16RApKQX"
      },
      "source": [
        "The disambiguation example above is not very readable due to the amount of list and dictionary dereferencing just to extract a feature.\n",
        "Additionally, for general tagging applications, extracting a feature from the top analysis is not sufficient.\n",
        "There are some edge cases that need to be handled. For example, a word could return no analyses at all if the word isn't in the morphological database. We would then need to check the result of each disambiguated word to see if an analysis exists and then output some default value if not. Furthermore, the default value would differ depending on what feature we are tagging.\n",
        "\n",
        "To handle these edge cases and to simplify the usage of a disambiguator, we provide the [`DefaultTagger`](https://camel-tools.readthedocs.io/en/latest/api/tagger/default.html#camel_tools.tagger.default.DefaultTagger) class which wraps a disambiguator and handles edge cases by providing sensible default values. The example below shows "
      ]
    },
    {
      "cell_type": "code",
      "metadata": {
        "id": "6ToGeNYB0889",
        "colab": {
          "base_uri": "https://localhost:8080/"
        },
        "outputId": "1f32d6aa-38aa-44f7-e69e-3c095e149d60"
      },
      "source": [
        "from camel_tools.tokenizers.word import simple_word_tokenize\n",
        "from camel_tools.disambig.mle import MLEDisambiguator\n",
        "from camel_tools.tagger.default import DefaultTagger\n",
        "\n",
        "mle = MLEDisambiguator.pretrained()\n",
        "tagger = DefaultTagger(mle, 'pos')\n",
        "\n",
        "# The tagger expects pre-tokenized text\n",
        "sentence = simple_word_tokenize('نجح بايدن في الانتخابات')\n",
        "\n",
        "pos_tags = tagger.tag(sentence)\n",
        "\n",
        "print(pos_tags)"
      ],
      "execution_count": null,
      "outputs": [
        {
          "output_type": "stream",
          "name": "stdout",
          "text": [
            "['verb', 'noun_prop', 'prep', 'noun']\n"
          ]
        }
      ]
    },
    {
      "cell_type": "markdown",
      "metadata": {
        "id": "7uuXeQjd0889"
      },
      "source": [
        "# Morphological Tokenization"
      ]
    },
    {
      "cell_type": "markdown",
      "metadata": {
        "id": "KmeKhpPVsI69"
      },
      "source": [
        "Previously we discussed word tokenization as the process of splitting sentences by whitspace and seperating punctuation. Another type of tokenization is morphological tokenization whereby Arabic words are split into component prefixes, stems, and suffixes.\n",
        "\n",
        "There are also different tokenization schemes for Arabic each having different use cases.\n",
        "\n",
        "We provide the [`MorphologicalTokenizer`](https://camel-tools.readthedocs.io/en/latest/api/tokenizers/morphological.html#camel_tools.tokenizers.morphological.MorphologicalTokenizer) class to tokenize words in different schemes. It behaves very much like the `DefaultTagger` in that it uses a disambiguator to first disambiguate words and then extracts a particular tokenization feature, but it has the following differences:\n",
        "\n",
        "- While the `DefaultTagger` produces exactly one output for each input word, the `MorphologicalTokenizer` might produce multiple output tokens.\n",
        "-  The `MorphologicalTokenizer` can be configured to produce diacritized and undiacritized output."
      ]
    },
    {
      "cell_type": "code",
      "metadata": {
        "id": "Upf_eeVE0889",
        "colab": {
          "base_uri": "https://localhost:8080/"
        },
        "outputId": "7b0ebb2d-f218-43e6-925b-caee08b0150e"
      },
      "source": [
        "from camel_tools.tokenizers.word import simple_word_tokenize\n",
        "from camel_tools.disambig.mle import MLEDisambiguator\n",
        "from camel_tools.tokenizers.morphological import MorphologicalTokenizer\n",
        "\n",
        "# The tokenizer expects pre-tokenized text\n",
        "sentence = simple_word_tokenize('فتنفست الصعداء')\n",
        "print(sentence)\n",
        "\n",
        "# Load a pretrained disambiguator to use with a tokenizer\n",
        "mle = MLEDisambiguator.pretrained('calima-msa-r13')\n",
        "\n",
        "# Without providing additional arguments, the tokenizer will output undiacritized\n",
        "# morphological tokens for each input word delimited by an underscore.\n",
        "tokenizer = MorphologicalTokenizer(mle, scheme='d3tok')\n",
        "tokens = tokenizer.tokenize(sentence)\n",
        "print(tokens)\n",
        "\n",
        "# By specifying `split=True`, the morphological tokens are output as seperate\n",
        "# strings.\n",
        "tokenizer = MorphologicalTokenizer(mle, scheme='d3tok', split=True)\n",
        "tokens = tokenizer.tokenize(sentence)\n",
        "print(tokens)\n",
        "\n",
        "# We can output diacritized tokens by setting `diac=True`\n",
        "tokenizer = MorphologicalTokenizer(mle, scheme='d3tok', split=True, diac=True)\n",
        "tokens = tokenizer.tokenize(sentence)\n",
        "print(tokens)"
      ],
      "execution_count": null,
      "outputs": [
        {
          "output_type": "stream",
          "name": "stdout",
          "text": [
            "['فتنفست', 'الصعداء']\n",
            "['ف+_تنفست', 'ال+_صعداء']\n",
            "['ف+', 'تنفست', 'ال+', 'صعداء']\n",
            "['فَ+', 'تَنَفَّسْتُ', 'ال+', 'صُعَداءَ']\n"
          ]
        }
      ]
    },
    {
      "cell_type": "markdown",
      "metadata": {
        "id": "MaxVSNFH5QHi"
      },
      "source": [
        "We can see a list of supported tokenization schemes by calling the `mle.tok_feats()`.\n",
        "\n",
        "**NOTE:** Different morphological databases will have differing support for each of these tokenization schemes."
      ]
    },
    {
      "cell_type": "code",
      "metadata": {
        "colab": {
          "base_uri": "https://localhost:8080/"
        },
        "id": "Pb9dvHok43XH",
        "outputId": "255bd546-defa-4e67-dbb1-bb72c33861c2"
      },
      "source": [
        "print(list(mle.tok_feats()))"
      ],
      "execution_count": null,
      "outputs": [
        {
          "output_type": "stream",
          "name": "stdout",
          "text": [
            "['d2tok', 'atbtok', 'd3seg', 'bwtok', 'atbseg', 'd3tok', 'd2seg', 'd1seg', 'd1tok']\n"
          ]
        }
      ]
    },
    {
      "cell_type": "markdown",
      "metadata": {
        "id": "e7hm9JjJ40u8"
      },
      "source": [
        "Try running the previous example using a different scheme than 'd3tok' to see how the output tokenization might vary."
      ]
    },
    {
      "cell_type": "markdown",
      "metadata": {
        "id": "-GMeBGri088-"
      },
      "source": [
        "# Dialect Identification\n",
        "\n",
        "We provide a pretrained dialect identification system that can distinguish between 25 city dialects as well as Modern Standard Arabic. The model can be accessed using the [`DialectIdentifier`](https://camel-tools.readthedocs.io/en/latest/api/dialectid.html#camel_tools.dialectid.DialectIdentifier) class. In addition to city dialects, we can provide results aggregated by region and by country. While these agregated results are less fine-grained, they tend to be more accurate.\n",
        "\n",
        "The example below illustrates how `DialectIdentifier` can be used to predict the dialects of given sentences by city, country and region. \n",
        "\n",
        "**NOTE:** You may get some warnings when running the example below in Colab. These can be safely ignored."
      ]
    },
    {
      "cell_type": "code",
      "metadata": {
        "colab": {
          "base_uri": "https://localhost:8080/"
        },
        "id": "9YpWxBAm088-",
        "outputId": "f344a318-9dc5-4198-d350-a9a0de8da7d3"
      },
      "source": [
        "from camel_tools.dialectid import DialectIdentifier\n",
        "\n",
        "did = DialectIdentifier.pretrained()\n",
        "\n",
        "sentences = [\n",
        "    'مال الهوى و مالي شكون اللي جابني ليك  ما كنت انايا ف حالي بلاو قلبي يانا بيك',\n",
        "    'بدي دوب قلي قلي بجنون بحبك انا مجنون ما بنسى حبك يوم'\n",
        "]\n",
        "\n",
        "predictions = did.predict(sentences, 'city')\n",
        "print([p.top for p in predictions])\n",
        "\n",
        "predictions = did.predict(sentences, 'country')\n",
        "print([p.top for p in predictions])\n",
        "\n",
        "predictions = did.predict(sentences, 'region')\n",
        "print([p.top for p in predictions])"
      ],
      "execution_count": null,
      "outputs": [
        {
          "output_type": "stream",
          "name": "stderr",
          "text": [
            "/usr/local/lib/python3.7/dist-packages/sklearn/base.py:338: UserWarning: Trying to unpickle estimator LabelEncoder from version 0.23.2 when using version 1.0.2. This might lead to breaking code or invalid results. Use at your own risk. For more info please refer to:\n",
            "https://scikit-learn.org/stable/modules/model_persistence.html#security-maintainability-limitations\n",
            "  UserWarning,\n",
            "/usr/local/lib/python3.7/dist-packages/sklearn/base.py:338: UserWarning: Trying to unpickle estimator TfidfTransformer from version 0.23.2 when using version 1.0.2. This might lead to breaking code or invalid results. Use at your own risk. For more info please refer to:\n",
            "https://scikit-learn.org/stable/modules/model_persistence.html#security-maintainability-limitations\n",
            "  UserWarning,\n",
            "/usr/local/lib/python3.7/dist-packages/sklearn/base.py:338: UserWarning: Trying to unpickle estimator TfidfVectorizer from version 0.23.2 when using version 1.0.2. This might lead to breaking code or invalid results. Use at your own risk. For more info please refer to:\n",
            "https://scikit-learn.org/stable/modules/model_persistence.html#security-maintainability-limitations\n",
            "  UserWarning,\n",
            "/usr/local/lib/python3.7/dist-packages/sklearn/base.py:338: UserWarning: Trying to unpickle estimator FeatureUnion from version 0.23.2 when using version 1.0.2. This might lead to breaking code or invalid results. Use at your own risk. For more info please refer to:\n",
            "https://scikit-learn.org/stable/modules/model_persistence.html#security-maintainability-limitations\n",
            "  UserWarning,\n",
            "/usr/local/lib/python3.7/dist-packages/sklearn/base.py:338: UserWarning: Trying to unpickle estimator MultinomialNB from version 0.23.2 when using version 1.0.2. This might lead to breaking code or invalid results. Use at your own risk. For more info please refer to:\n",
            "https://scikit-learn.org/stable/modules/model_persistence.html#security-maintainability-limitations\n",
            "  UserWarning,\n",
            "/usr/local/lib/python3.7/dist-packages/sklearn/base.py:338: UserWarning: Trying to unpickle estimator LabelBinarizer from version 0.23.2 when using version 1.0.2. This might lead to breaking code or invalid results. Use at your own risk. For more info please refer to:\n",
            "https://scikit-learn.org/stable/modules/model_persistence.html#security-maintainability-limitations\n",
            "  UserWarning,\n",
            "/usr/local/lib/python3.7/dist-packages/sklearn/base.py:338: UserWarning: Trying to unpickle estimator OneVsRestClassifier from version 0.23.2 when using version 1.0.2. This might lead to breaking code or invalid results. Use at your own risk. For more info please refer to:\n",
            "https://scikit-learn.org/stable/modules/model_persistence.html#security-maintainability-limitations\n",
            "  UserWarning,\n"
          ]
        },
        {
          "output_type": "stream",
          "name": "stdout",
          "text": [
            "['Rabat', 'Aleppo']\n",
            "['Morocco', 'Syria']\n",
            "['Maghreb', 'Levant']\n"
          ]
        }
      ]
    },
    {
      "cell_type": "markdown",
      "metadata": {
        "id": "IiIPcZcx088_"
      },
      "source": [
        "# Sentiment Analysis\n",
        "\n",
        "We provide a pretrained [sentiment analysis](https://en.wikipedia.org/wiki/Sentiment_analysis) system that has been trained using a combination of multiple data sets. The model can be accessed using the [`SentimentAnalyzer`](https://camel-tools.readthedocs.io/en/latest/api/sentiment.html#camel_tools.sentiment.SentimentAnalyzer) class and it outputs one of three sentiment tags for each sentence: `'positive'`, `'negative'` and `'neutral'`. The example below demonstrates how it can be used."
      ]
    },
    {
      "cell_type": "code",
      "metadata": {
        "colab": {
          "base_uri": "https://localhost:8080/"
        },
        "id": "nWSDfRYd088_",
        "outputId": "62dd1b31-5f67-47dd-9fce-3789ba210934"
      },
      "source": [
        "from camel_tools.sentiment import SentimentAnalyzer\n",
        "\n",
        "sa = SentimentAnalyzer.pretrained()\n",
        "\n",
        "sentences = [\n",
        "    'أنا بخير',\n",
        "    'أنا لست بخير'\n",
        "]\n",
        "\n",
        "sentiments = sa.predict(sentences)\n",
        "\n",
        "print(sentiments)"
      ],
      "execution_count": null,
      "outputs": [
        {
          "output_type": "stream",
          "name": "stdout",
          "text": [
            "['positive', 'negative']\n"
          ]
        }
      ]
    },
    {
      "cell_type": "markdown",
      "metadata": {
        "id": "1jo6RMNz088_"
      },
      "source": [
        "# Named Entitiy Recognition\n",
        "\n",
        "CAMeL Tools comes with an easy-to-use, pretrained [named-entitity recognition](https://en.wikipedia.org/wiki/Named-entity_recognition)  (NER) system that can be accessed using the [`NERecognizer`](https://camel-tools.readthedocs.io/en/latest/api/ner.html#camel_tools.ner.NERecognizer) class. \n",
        "\n",
        "For each token in an input sentence, `NERecognizer` outputs a label that indicates the type of named-entity.The system outputs one of the following labels for each token: `'B-LOC'`, `'B-ORG'`, `'B-PERS'`, `'B-MISC'`, `'I-LOC'`, `'I-ORG'`, `'I-PERS'`, `'I-MISC'`, `'O'`.\n",
        "Named-entites can either be a `LOC` (location), `ORG` (organization), `PERS` (person), or `MISC` (miscallaneous).\n",
        "\n",
        "Labels beginning with `B` indicate that their corresponding tokens are the begininging of a multi-word named-entity or is a single-token named-entity'. Those begining with `I` indicate that their corresponding tokens are continuations of a multi-word named-entity. Words that aren't named-entities are given the `'O'` label.\n",
        "\n",
        "The example below illustrates how `NERecognizer` can be used to label named-entities in a given sentence.\n"
      ]
    },
    {
      "cell_type": "code",
      "metadata": {
        "colab": {
          "base_uri": "https://localhost:8080/"
        },
        "id": "gwBGDtiY088_",
        "outputId": "54800ba2-bfe8-4dc7-cd17-6a7484aa1257"
      },
      "source": [
        "from camel_tools.tokenizers.word import simple_word_tokenize\n",
        "from camel_tools.ner import NERecognizer\n",
        "\n",
        "ner = NERecognizer.pretrained()\n",
        "\n",
        "# NERecognizer expects pre-tokenized text\n",
        "sentence = simple_word_tokenize('إمارة أبوظبي هي إحدى إمارات دولة الإمارات العربية المتحدة السبع.')\n",
        "\n",
        "labels = ner.predict_sentence(sentence)\n",
        "\n",
        "# Print each token paired with it's NER label\n",
        "print(list(zip(sentence, labels)))"
      ],
      "execution_count": null,
      "outputs": [
        {
          "output_type": "stream",
          "name": "stdout",
          "text": [
            "[('إمارة', 'O'), ('أبوظبي', 'B-LOC'), ('هي', 'O'), ('إحدى', 'O'), ('إمارات', 'O'), ('دولة', 'O'), ('الإمارات', 'B-LOC'), ('العربية', 'I-LOC'), ('المتحدة', 'I-LOC'), ('السبع', 'O'), ('.', 'O')]\n"
          ]
        }
      ]
    }
  ]
}
