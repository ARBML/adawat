{
  "nbformat": 4,
  "nbformat_minor": 0,
  "metadata": {
    "colab": {
      "provenance": [],
      "authorship_tag": "ABX9TyMwA1e0bj+r+F6unvlZRPPD",
      "include_colab_link": true
    },
    "kernelspec": {
      "name": "python3",
      "display_name": "Python 3"
    },
    "language_info": {
      "name": "python"
    }
  },
  "cells": [
    {
      "cell_type": "markdown",
      "metadata": {
        "id": "view-in-github",
        "colab_type": "text"
      },
      "source": [
        "<a href=\"https://colab.research.google.com/github/ARBML/adawat/blob/main/notebooks/Pre_process_Arabic_Text.ipynb\" target=\"_parent\"><img src=\"https://colab.research.google.com/assets/colab-badge.svg\" alt=\"Open In Colab\"/></a>"
      ]
    },
    {
      "cell_type": "code",
      "execution_count": 1,
      "metadata": {
        "colab": {
          "base_uri": "https://localhost:8080/"
        },
        "id": "dWudFqytOZza",
        "outputId": "78bee278-e763-4911-b006-c021c402e3ab"
      },
      "outputs": [
        {
          "output_type": "stream",
          "name": "stdout",
          "text": [
            "Cloning into 'arabic-tacotron-tts'...\n",
            "remote: Enumerating objects: 573, done.\u001b[K\n",
            "remote: Counting objects: 100% (3/3), done.\u001b[K\n",
            "remote: Compressing objects: 100% (3/3), done.\u001b[K\n",
            "remote: Total 573 (delta 0), reused 0 (delta 0), pack-reused 570\u001b[K\n",
            "Receiving objects: 100% (573/573), 1.07 MiB | 8.47 MiB/s, done.\n",
            "Resolving deltas: 100% (350/350), done.\n",
            "/content/arabic-tacotron-tts\n"
          ]
        }
      ],
      "source": [
        "!git clone https://github.com/youssefsharief/arabic-tacotron-tts\n",
        "%cd arabic-tacotron-tts"
      ]
    },
    {
      "cell_type": "code",
      "source": [
        "!pip install -r requirements.txt"
      ],
      "metadata": {
        "id": "7x9wIRzwOjrf"
      },
      "execution_count": null,
      "outputs": []
    },
    {
      "cell_type": "code",
      "source": [
        "!git clone https://github.com/motazsaad/process-arabic-text\n",
        "%cd process-arabic-text"
      ],
      "metadata": {
        "colab": {
          "base_uri": "https://localhost:8080/"
        },
        "id": "Swl-mWJsOj8r",
        "outputId": "0dc929db-4340-4259-df0a-1a4e52e7f6e0"
      },
      "execution_count": 4,
      "outputs": [
        {
          "output_type": "stream",
          "name": "stdout",
          "text": [
            "Cloning into 'process-arabic-text'...\n",
            "remote: Enumerating objects: 24, done.\u001b[K\n",
            "remote: Total 24 (delta 0), reused 0 (delta 0), pack-reused 24\u001b[K\n",
            "Unpacking objects: 100% (24/24), done.\n",
            "/content/arabic-tacotron-tts/process-arabic-text\n"
          ]
        }
      ]
    },
    {
      "cell_type": "code",
      "source": [
        "!cat infile.txt"
      ],
      "metadata": {
        "colab": {
          "base_uri": "https://localhost:8080/"
        },
        "id": "LOkBEmboQzr-",
        "outputId": "2513bdaa-a8bd-4463-b7b1-0e8a98ee0a12"
      },
      "execution_count": 8,
      "outputs": [
        {
          "output_type": "stream",
          "name": "stdout",
          "text": [
            "السلام عليكم ورحمة الله،،\n",
            "\n",
            "قام المسافرون بالسفر على الطائرة...\n",
            "\n",
            "المسافرون ذاهبون لزيارة بلد جديد\n",
            "\n",
            "من المعروف، ان القطار اسرع من السيارة\n",
            "\n",
            "عقدت الجلسة الاولى للجمعية الوطنية الاسبوع الماضي!\n",
            "\n",
            "هل الزهرة في المرحلة الاخيرة؟\n",
            "\n",
            "كبير: كبيرة، مشروب: مشروبات، أمريكيين: امريكي، كتاب: الكتاب\n",
            "\n",
            "ما ملكت أيمانكم\n",
            "\n",
            "الذين ملكت أيمانكم\n",
            "\n",
            "\n",
            "The quick brown fox\n",
            "\n",
            "كبيرة the quick ساهدهات\n",
            "\n",
            "\n",
            "\n",
            "السَّلَامُ عَلَيْكُمْ وَرَحْمَةُ اللهِ،،.\n",
            "\n",
            "قَامَ المُسَافِرُونَ بِالسَّفَرِ عَلَى الطَّائِرَةِ....\n",
            "\n",
            "المُسَافِرُونَ ذَاهِبُونَ لِزِيَارَةِ بَلَدٍ جَدِيدٍ.\n",
            "\n",
            "مِنْ المَعْرُوفِ، أَنَّ القِطَارَ أَسْرَعُ مِنْ السَّيَّارَةِ.\n",
            "\n",
            "عُقِدَتْ الجَلْسَةُ الأُولَى لِلجَمْعِيَّةِ الوَطَنِيَّةِ الأُسْبُوعَ المَاضِي!.\n",
            "\n",
            "هَلْ الزَّهْرَةُ فِي المَرْحَلَةِ الأَخِيرَةِ؟.\n",
            "\n",
            "كَبِيرٌ: كَبِيرَةٌ، مَشْرُوبٌ: مَشْرُوبَاتٌ، أَمْرِيكِيِّينَ: أَمْرِيكِيٌّ، كُتَّابٌ: الكُتَّابُ.\n",
            "\n",
            "\n",
            "مَا مَلَكَتْ أيمانكم\n",
            "\n",
            "الَّذِينَ مَلَكَتْ أيمانكم\n",
            "\n",
            "\n",
            "أنا مبسوووووووووط انا سعيييييد\n",
            "\n"
          ]
        }
      ]
    },
    {
      "cell_type": "code",
      "source": [
        "!python clean_arabic_text.py -i infile.txt -o outfile.txt"
      ],
      "metadata": {
        "id": "wRk2aT7rO7aa"
      },
      "execution_count": 5,
      "outputs": []
    },
    {
      "cell_type": "code",
      "source": [
        "!cat outfile.txt"
      ],
      "metadata": {
        "colab": {
          "base_uri": "https://localhost:8080/"
        },
        "id": "UDe0XNubQwEu",
        "outputId": "c6118714-894a-40e6-8223-46fadf9297bb"
      },
      "execution_count": 6,
      "outputs": [
        {
          "output_type": "stream",
          "name": "stdout",
          "text": [
            "السلام عليكم ورحمة اله\n",
            "\n",
            "قام المسافرون بالسفر على الطائرة\n",
            "\n",
            "المسافرون ذاهبون لزيارة بلد جديد\n",
            "\n",
            "من المعروف ان القطار اسرع من السيارة\n",
            "\n",
            "عقدت الجلسة الاولى لجمعية الوطنية الاسبوع الماضي\n",
            "\n",
            "هل الزهرة في المرحلة الاخيرة\n",
            "\n",
            "كبير كبيرة مشروب مشروبات أمريكين امريكي كتاب الكتاب\n",
            "\n",
            "ما ملكت أيمانكم\n",
            "\n",
            "الذين ملكت أيمانكم\n",
            "\n",
            "\n",
            "The quick brown fox\n",
            "\n",
            "كبيرة the quick ساهدهات\n",
            "\n",
            "\n",
            "\n",
            "السلام عليكم ورحمة اله\n",
            "\n",
            "قام المسافرون بالسفر على الطائرة\n",
            "\n",
            "المسافرون ذاهبون لزيارة بلد جديد\n",
            "\n",
            "من المعروف أن القطار أسرع من السيارة\n",
            "\n",
            "عقدت الجلسة الأولى لجمعية الوطنية الأسبوع الماضي\n",
            "\n",
            "هل الزهرة في المرحلة الأخيرة\n",
            "\n",
            "كبير كبيرة مشروب مشروبات أمريكين أمريكي كتاب الكتاب\n",
            "\n",
            "\n",
            "ما ملكت أيمانكم\n",
            "\n",
            "الذين ملكت أيمانكم\n",
            "\n",
            "\n",
            "أنا مبسوط انا سعيد\n",
            "\n"
          ]
        }
      ]
    }
  ]
}