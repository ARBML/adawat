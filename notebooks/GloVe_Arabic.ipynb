{
  "nbformat": 4,
  "nbformat_minor": 0,
  "metadata": {
    "colab": {
      "provenance": [],
      "collapsed_sections": [],
      "authorship_tag": "ABX9TyM5MYNlmH0Ung7A7eMi779X",
      "include_colab_link": true
    },
    "kernelspec": {
      "name": "python3",
      "display_name": "Python 3"
    },
    "language_info": {
      "name": "python"
    }
  },
  "cells": [
    {
      "cell_type": "markdown",
      "metadata": {
        "id": "view-in-github",
        "colab_type": "text"
      },
      "source": [
        "<a href=\"https://colab.research.google.com/github/ARBML/adawat/blob/main/notebooks/GloVe_Arabic.ipynb\" target=\"_parent\"><img src=\"https://colab.research.google.com/assets/colab-badge.svg\" alt=\"Open In Colab\"/></a>"
      ]
    },
    {
      "cell_type": "markdown",
      "source": [
        "# __Pre-Trained GloVe in Arabic__"
      ],
      "metadata": {
        "id": "cm9RfRQxo4zM"
      }
    },
    {
      "cell_type": "markdown",
      "source": [
        "## Loading Modules & Settings:"
      ],
      "metadata": {
        "id": "QOgXpZWeo9-t"
      }
    },
    {
      "cell_type": "code",
      "execution_count": null,
      "metadata": {
        "id": "-M8b-kFVo17N"
      },
      "outputs": [],
      "source": [
        "from gensim.models import KeyedVectors\n",
        "from gensim.test.utils import datapath, get_tmpfile\n",
        "from gensim.scripts.glove2word2vec import glove2word2vec\n",
        "\n",
        "import warnings, os\n",
        "warnings.simplefilter(action='ignore', category=FutureWarning)\n",
        "warnings.simplefilter(action='ignore', category=DeprecationWarning)"
      ]
    },
    {
      "cell_type": "markdown",
      "source": [
        "## Downloading & Loading Pre-Trained GloVe Word Vectors:"
      ],
      "metadata": {
        "id": "gECIeaEBpBAh"
      }
    },
    {
      "cell_type": "code",
      "source": [
        "# Downloading and loading `GloVe-Arabic-Vectors.txt`. Be patient! It is 3.5 GB :-) \n",
        "!wget https://lin-web.clarkson.edu/class/cs675/2021fa/f21/alshahsf/GloVe-Arabic/GloVe-Arabic-Vectors.txt\n",
        "\n",
        "glove_file = datapath('/content/GloVe-Arabic-Vectors.txt')\n",
        "word2vec_glove_file = get_tmpfile(\"glove-arabic-vectors-word2vec.txt\")\n",
        "glove2word2vec(glove_file, word2vec_glove_file)\n",
        "\n",
        "glove_model = KeyedVectors.load_word2vec_format(word2vec_glove_file)"
      ],
      "metadata": {
        "colab": {
          "base_uri": "https://localhost:8080/"
        },
        "id": "C-3t_0u8pDKQ",
        "outputId": "2f83c70d-6c92-4d99-e212-261aa7728096"
      },
      "execution_count": null,
      "outputs": [
        {
          "output_type": "stream",
          "name": "stdout",
          "text": [
            "--2022-10-05 14:57:13--  https://lin-web.clarkson.edu/class/cs675/2021fa/f21/alshahsf/GloVe-Arabic/GloVe-Arabic-Vectors.txt\n",
            "Resolving lin-web.clarkson.edu (lin-web.clarkson.edu)... 128.153.4.74\n",
            "Connecting to lin-web.clarkson.edu (lin-web.clarkson.edu)|128.153.4.74|:443... connected.\n",
            "HTTP request sent, awaiting response... 200 OK\n",
            "Length: 3762000307 (3.5G) [text/plain]\n",
            "Saving to: ‘GloVe-Arabic-Vectors.txt’\n",
            "\n",
            "GloVe-Arabic-Vector 100%[===================>]   3.50G  5.01MB/s    in 12m 1s  \n",
            "\n",
            "2022-10-05 15:09:14 (4.98 MB/s) - ‘GloVe-Arabic-Vectors.txt’ saved [3762000307/3762000307]\n",
            "\n"
          ]
        }
      ]
    },
    {
      "cell_type": "markdown",
      "source": [
        "## Vector Representations:\n",
        "### Vector Representation of a Word:"
      ],
      "metadata": {
        "id": "qTH1Vr7YpFFZ"
      }
    },
    {
      "cell_type": "code",
      "source": [
        "glove_model['فتاة']"
      ],
      "metadata": {
        "colab": {
          "base_uri": "https://localhost:8080/"
        },
        "id": "5KUI0UPJpHfr",
        "outputId": "d99ae02b-5ae3-48f6-8348-9d8ef9c9cc9e"
      },
      "execution_count": null,
      "outputs": [
        {
          "output_type": "execute_result",
          "data": {
            "text/plain": [
              "array([ 0.601306,  0.053819, -0.375983,  0.550636, -0.026226, -0.177799,\n",
              "        0.457016,  0.488921, -0.006777,  0.14772 , -0.150769,  0.079659,\n",
              "        0.417534, -0.34073 ,  0.300377, -0.701142,  0.011558,  0.148826,\n",
              "       -0.354767, -0.042233, -0.218971,  0.020608,  0.212219,  0.259667,\n",
              "       -0.262915, -0.101516,  0.354735, -0.288966, -0.226483,  0.171643,\n",
              "       -0.380584,  0.523164,  0.167566, -0.055352, -0.362091, -0.736618,\n",
              "       -0.019664,  0.817059,  0.022037, -0.05516 ,  0.268523, -0.394168,\n",
              "        0.488474,  0.199732, -0.404992, -0.321932, -0.192505, -0.605411,\n",
              "        0.011084,  0.103709,  0.106147,  0.31086 ,  0.440882,  0.051805,\n",
              "        0.08084 , -0.153149,  0.438021,  0.465975,  0.258184, -0.476767,\n",
              "       -0.303342, -0.348955,  0.412546,  0.697201,  0.586595, -0.3253  ,\n",
              "        0.364176,  0.088172,  0.424699, -0.011522,  0.174097,  0.159292,\n",
              "        0.375754, -0.14782 ,  0.025644, -0.129585,  0.539697,  0.332776,\n",
              "       -0.129511, -0.484597, -0.230315,  0.195586,  0.186663,  0.162697,\n",
              "       -0.102501, -0.275414, -0.187737, -0.455375,  0.17741 ,  0.724655,\n",
              "       -0.059004, -0.166008, -0.398243,  0.020394, -2.34605 ,  0.129677,\n",
              "       -0.188546,  0.512157, -1.087553,  0.323763, -0.805182,  0.392526,\n",
              "        0.006773, -0.188608, -0.27161 , -0.828645,  0.368161, -0.107164,\n",
              "       -0.130539,  0.560675,  0.080302, -0.247916, -0.459212, -0.31377 ,\n",
              "        0.097675,  0.016665, -0.682453,  0.410764, -0.193614,  0.540195,\n",
              "       -0.351677, -0.072682, -0.123701, -0.405177,  0.223279, -0.120596,\n",
              "       -0.085845,  0.055514, -0.033466, -0.006359, -0.036708, -0.207914,\n",
              "        0.874467,  0.57185 ,  0.351453,  0.162247,  0.292679, -0.805311,\n",
              "        0.368975, -0.254564, -0.31245 ,  0.182167,  0.301623,  0.210674,\n",
              "        0.422421, -0.016432, -0.051353,  0.088869, -0.137485,  0.122732,\n",
              "       -0.274999,  0.057799, -0.240732, -0.035879,  0.233794, -0.047398,\n",
              "       -0.257469,  0.318697,  0.5247  , -0.446364, -0.158899,  0.746622,\n",
              "        0.736692,  0.677594, -0.055701,  0.92609 ,  0.047693, -0.011514,\n",
              "       -0.273123, -0.01445 ,  0.713546,  0.228726,  0.07395 , -0.226152,\n",
              "        0.566941, -0.262985,  0.507703, -0.264623,  0.347558,  0.010493,\n",
              "       -0.101992, -0.071489, -0.008302,  0.3966  ,  0.907721, -0.145698,\n",
              "        0.324965,  0.728344, -0.88002 , -0.070199, -0.22824 ,  0.102327,\n",
              "       -0.040703,  0.222041, -0.129462,  0.742154,  0.150282, -0.148813,\n",
              "        0.419471,  0.400406, -0.320613,  0.031143, -0.114224,  0.108335,\n",
              "       -0.345915,  0.054734,  0.305038,  0.196942,  0.101484,  0.593703,\n",
              "        0.437819,  0.119844,  0.020789,  0.299246,  0.048502, -0.34522 ,\n",
              "        0.230216,  0.124235,  0.268543, -0.077644,  0.030565,  0.429803,\n",
              "        0.028276, -0.113438,  1.064511,  0.213518, -0.147101,  0.181244,\n",
              "       -0.616766, -0.101131, -0.391578,  0.059835,  0.644013,  0.142292,\n",
              "        0.062963,  0.006087, -0.884862,  0.546441,  0.529535, -0.547143,\n",
              "       -0.179019,  0.726282,  0.417013,  0.180302,  0.271214,  0.451984,\n",
              "       -0.100663,  0.419921,  0.096042,  0.217164,  0.227255, -0.125012,\n",
              "        0.816945, -0.549043,  0.141861, -0.169759], dtype=float32)"
            ]
          },
          "metadata": {},
          "execution_count": 3
        }
      ]
    },
    {
      "cell_type": "markdown",
      "source": [
        "### Most Similar Word Vectors of a Word:"
      ],
      "metadata": {
        "id": "Q1HZa21rpLJ_"
      }
    },
    {
      "cell_type": "code",
      "source": [
        "glove_model.most_similar(\"فتاة\")"
      ],
      "metadata": {
        "colab": {
          "base_uri": "https://localhost:8080/"
        },
        "id": "Ebs5rj89pJom",
        "outputId": "0fc0fcfd-e412-4dcb-f605-b857c73d7ec8"
      },
      "execution_count": null,
      "outputs": [
        {
          "output_type": "execute_result",
          "data": {
            "text/plain": [
              "[('الفتاة', 0.7099415063858032),\n",
              " ('امراة', 0.6333332061767578),\n",
              " ('طفلة', 0.6128709316253662),\n",
              " ('سيدة', 0.5956816673278809),\n",
              " ('شاب', 0.5916945934295654),\n",
              " ('جميلة', 0.5898070335388184),\n",
              " ('شابة', 0.5864027738571167),\n",
              " ('عمرها', 0.5741617679595947),\n",
              " ('وفتاة', 0.5688158869743347),\n",
              " ('والدها', 0.5652031898498535)]"
            ]
          },
          "metadata": {},
          "execution_count": 4
        }
      ]
    },
    {
      "cell_type": "markdown",
      "source": [
        "## Word Embedding Analogies:"
      ],
      "metadata": {
        "id": "FaDpCP-SpTUM"
      }
    },
    {
      "cell_type": "markdown",
      "source": [
        "### __Queen__ - __Girl__ + __Boy__ = __?"
      ],
      "metadata": {
        "id": "2n7y0cB-pTfi"
      }
    },
    {
      "cell_type": "code",
      "source": [
        "glove_model.most_similar(positive=['فتى', 'ملكة'], negative=['فتاة'], topn=1)"
      ],
      "metadata": {
        "colab": {
          "base_uri": "https://localhost:8080/"
        },
        "id": "qjPDt-ALpZii",
        "outputId": "f5ffab72-1fa0-458b-d589-3dd9eaa9cebd"
      },
      "execution_count": null,
      "outputs": [
        {
          "output_type": "execute_result",
          "data": {
            "text/plain": [
              "[('ملك', 0.38704362511634827)]"
            ]
          },
          "metadata": {},
          "execution_count": 5
        }
      ]
    },
    {
      "cell_type": "markdown",
      "source": [
        "### __King__ - __Man__ + __Girl__ = __?"
      ],
      "metadata": {
        "id": "2tOM6qrTpaL9"
      }
    },
    {
      "cell_type": "code",
      "source": [
        "glove_model.most_similar(positive=['فتاة','ملك'], negative=['رجل'], topn=1)"
      ],
      "metadata": {
        "colab": {
          "base_uri": "https://localhost:8080/"
        },
        "id": "fjzFySp3pdmN",
        "outputId": "42a5f86d-1890-4a51-e90b-afa444f02d16"
      },
      "execution_count": null,
      "outputs": [
        {
          "output_type": "execute_result",
          "data": {
            "text/plain": [
              "[('ملكة', 0.48221081495285034)]"
            ]
          },
          "metadata": {},
          "execution_count": 6
        }
      ]
    }
  ]
}