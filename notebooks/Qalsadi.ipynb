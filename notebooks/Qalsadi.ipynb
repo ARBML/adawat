{
  "nbformat": 4,
  "nbformat_minor": 0,
  "metadata": {
    "colab": {
      "provenance": [],
      "authorship_tag": "ABX9TyPf65Htu+hfewoXRM49OcJM",
      "include_colab_link": true
    },
    "kernelspec": {
      "name": "python3",
      "display_name": "Python 3"
    },
    "language_info": {
      "name": "python"
    }
  },
  "cells": [
    {
      "cell_type": "markdown",
      "metadata": {
        "id": "view-in-github",
        "colab_type": "text"
      },
      "source": [
        "<a href=\"https://colab.research.google.com/github/ARBML/adawat/blob/main/notebooks/Qalsadi.ipynb\" target=\"_parent\"><img src=\"https://colab.research.google.com/assets/colab-badge.svg\" alt=\"Open In Colab\"/></a>"
      ]
    },
    {
      "cell_type": "markdown",
      "source": [
        "Qalsadi Arabic Morphological Analyzer and lemmatizer for Python"
      ],
      "metadata": {
        "id": "LW5STGQW63Bq"
      }
    },
    {
      "cell_type": "code",
      "execution_count": null,
      "metadata": {
        "id": "AHRwekgV617Q"
      },
      "outputs": [],
      "source": [
        "!pip install qalsadi"
      ]
    },
    {
      "cell_type": "markdown",
      "source": [
        "Lemmatization"
      ],
      "metadata": {
        "id": "1CmtYJbR7_fB"
      }
    },
    {
      "cell_type": "code",
      "source": [
        "import qalsadi.lemmatizer \n",
        "text = u\"\"\"هل تحتاج إلى ترجمة كي تفهم خطاب الملك؟ اللغة \"الكلاسيكية\" (الفصحى) موجودة في كل اللغات وكذلك اللغة \"الدارجة\" .. الفرنسية التي ندرس في المدرسة ليست الفرنسية التي يستخدمها الناس في شوارع باريس .. وملكة بريطانيا لا تخطب بلغة شوارع لندن .. لكل مقام مقال\"\"\"\n",
        "lemmer = qalsadi.lemmatizer.Lemmatizer()\n",
        "\n",
        "\n"
      ],
      "metadata": {
        "id": "KdXurM_u8BaI"
      },
      "execution_count": null,
      "outputs": []
    },
    {
      "cell_type": "code",
      "source": [
        "# lemmatize a word\n",
        "lemmer.lemmatize(\"يحتاج\")"
      ],
      "metadata": {
        "colab": {
          "base_uri": "https://localhost:8080/",
          "height": 36
        },
        "id": "n1LEaw5l805d",
        "outputId": "80126368-59d9-42c0-efe2-1b1ae5bf802b"
      },
      "execution_count": null,
      "outputs": [
        {
          "output_type": "execute_result",
          "data": {
            "text/plain": [
              "'احتاج'"
            ],
            "application/vnd.google.colaboratory.intrinsic+json": {
              "type": "string"
            }
          },
          "metadata": {},
          "execution_count": 5
        }
      ]
    },
    {
      "cell_type": "code",
      "source": [
        "# lemmatize a word with a specific pos\n",
        "lemmer.lemmatize(\"وفي\")\n",
        "\n",
        "lemmer.lemmatize(\"وفي\", pos=\"v\")"
      ],
      "metadata": {
        "colab": {
          "base_uri": "https://localhost:8080/"
        },
        "id": "nUb0CBND8r0w",
        "outputId": "7ebe7083-fd19-46fa-98ce-da0ae30b9fcd"
      },
      "execution_count": null,
      "outputs": [
        {
          "output_type": "stream",
          "name": "stdout",
          "text": [
            "['هل', 'احتاج', 'إلى', 'ترجمة', 'كي', 'تف', 'خطاب', 'ملك', '؟', 'لغة', '\"', 'كلاسيكي', '\"(', 'فصحى', ')', 'موجود', 'في', 'كل', 'لغة', 'ذلك', 'لغة', '\"', 'دارج', '\"..', 'فرنسة', 'التي', 'درس', 'في', 'مدرس', 'ليست', 'فرنسة', 'التي', 'استخدم', 'ناس', 'في', 'شوارع', 'باريس', '..', 'ملك', 'بريطاني', 'لا', 'خطب', 'بلغة', 'شوارع', 'أدان', '..', 'كل', 'مقام', 'مقال']\n"
          ]
        }
      ]
    },
    {
      "cell_type": "code",
      "source": [
        "lemmas = lemmer.lemmatize_text(text)\n",
        "print(lemmas)"
      ],
      "metadata": {
        "colab": {
          "base_uri": "https://localhost:8080/"
        },
        "id": "f3L9VCN79Fva",
        "outputId": "6d624c51-9b81-4ac9-b8be-df91e6bf524b"
      },
      "execution_count": null,
      "outputs": [
        {
          "output_type": "stream",
          "name": "stdout",
          "text": [
            "['هَلْ', 'اِحْتَاجَ', 'إِلَى', 'تَرْجَمَةٌ', 'كَيْ', 'تَفَهُّمٌ', 'خَطَّابٌ', 'مَلَكٌ', '؟', 'لُغَةٌ', '\"', 'كِلاَسِيكِيٌّ', '\"(', 'فُصْحَى', ')', 'مَوْجُودٌ', 'فِي', 'كُلَّ', 'لُغَةٌ', 'ذَلِكَ', 'لُغَةٌ', '\"', 'دَارِجٌ', '\"..', 'فَرَنْسِيّ', 'الَّتِي', 'دَرَسَ', 'فِي', 'مَدْرَسَةٌ', 'لَيْسَتْ', 'فَرَنْسِيّ', 'الَّتِي', 'اِسْتَخْدَمَ', 'نَاسٌ', 'فِي', 'شَوَارِعٌ', 'باريس', '..', 'مَلَكٌ', 'برِيطانِيا', 'لَا', 'خَطَبَ', 'بَلَغَةٌ', 'شَوَارِعٌ', 'أَدَانَ', '..', 'كُلَّ', 'مَقَامٌ', 'مَقَالٌ']\n"
          ]
        }
      ]
    },
    {
      "cell_type": "code",
      "source": [
        "# lemmatize a text and return lemma pos\n",
        "lemmas = lemmer.lemmatize_text(text, return_pos=True)\n",
        "print(lemmas)"
      ],
      "metadata": {
        "colab": {
          "base_uri": "https://localhost:8080/"
        },
        "id": "BIzl6RYM86ew",
        "outputId": "2fdadee8-e597-4ea9-b80f-710bd6c8cda3"
      },
      "execution_count": null,
      "outputs": [
        {
          "output_type": "stream",
          "name": "stdout",
          "text": [
            "[('هَلْ', 'stopword'), ('اِحْتَاجَ', 'verb'), ('إِلَى', 'stopword'), ('تَرْجَمَةٌ', 'noun'), ('كَيْ', 'stopword'), ('تَفَهُّمٌ', 'noun'), ('خَطَّابٌ', 'noun'), ('مَلَكٌ', 'noun'), '؟', ('لُغَةٌ', 'noun'), '\"', ('كِلاَسِيكِيٌّ', 'noun'), '\"(', ('فُصْحَى', 'noun'), ')', ('مَوْجُودٌ', 'noun'), ('فِي', 'stopword'), ('كُلَّ', 'stopword'), ('لُغَةٌ', 'noun'), ('ذَلِكَ', 'stopword'), ('لُغَةٌ', 'noun'), '\"', ('دَارِجٌ', 'noun'), '\"..', ('فَرَنْسِيّ', 'noun'), ('الَّتِي', 'stopword'), ('دَرَسَ', 'verb'), ('فِي', 'stopword'), ('مَدْرَسَةٌ', 'noun'), ('لَيْسَتْ', 'stopword'), ('فَرَنْسِيّ', 'noun'), ('الَّتِي', 'stopword'), ('اِسْتَخْدَمَ', 'verb'), ('نَاسٌ', 'noun'), ('فِي', 'stopword'), ('شَوَارِعٌ', 'noun'), ('باريس', 'all'), '..', ('مَلَكٌ', 'noun'), ('برِيطانِيا', 'noun'), ('لَا', 'stopword'), ('خَطَبَ', 'verb'), ('بَلَغَةٌ', 'noun'), ('شَوَارِعٌ', 'noun'), ('أَدَانَ', 'verb'), '..', ('كُلَّ', 'stopword'), ('مَقَامٌ', 'noun'), ('مَقَالٌ', 'noun')]\n"
          ]
        }
      ]
    },
    {
      "cell_type": "code",
      "source": [
        "\n",
        "# Get vocalized output lemmas\n",
        "lemmer.set_vocalized_lemma()\n",
        "lemmas = lemmer.lemmatize_text(text)\n",
        "print(lemmas)"
      ],
      "metadata": {
        "colab": {
          "base_uri": "https://localhost:8080/"
        },
        "id": "ENmncK3P9QNY",
        "outputId": "3c3e8783-684a-4436-ac71-41ba13736f0c"
      },
      "execution_count": null,
      "outputs": [
        {
          "output_type": "stream",
          "name": "stdout",
          "text": [
            "['هَلْ', 'اِحْتَاجَ', 'إِلَى', 'تَرْجَمَةٌ', 'كَيْ', 'تَفَهُّمٌ', 'خَطَّابٌ', 'مَلَكٌ', '؟', 'لُغَةٌ', '\"', 'كِلاَسِيكِيٌّ', '\"(', 'فُصْحَى', ')', 'مَوْجُودٌ', 'فِي', 'كُلَّ', 'لُغَةٌ', 'ذَلِكَ', 'لُغَةٌ', '\"', 'دَارِجٌ', '\"..', 'فَرَنْسِيّ', 'الَّتِي', 'دَرَسَ', 'فِي', 'مَدْرَسَةٌ', 'لَيْسَتْ', 'فَرَنْسِيّ', 'الَّتِي', 'اِسْتَخْدَمَ', 'نَاسٌ', 'فِي', 'شَوَارِعٌ', 'باريس', '..', 'مَلَكٌ', 'برِيطانِيا', 'لَا', 'خَطَبَ', 'بَلَغَةٌ', 'شَوَارِعٌ', 'أَدَانَ', '..', 'كُلَّ', 'مَقَامٌ', 'مَقَالٌ']\n"
          ]
        }
      ]
    },
    {
      "cell_type": "markdown",
      "source": [
        "Morphology analysis"
      ],
      "metadata": {
        "id": "7TAHxLO_9aWp"
      }
    },
    {
      "cell_type": "code",
      "source": [
        "filename=\"samples/text.txt\"\n",
        "import qalsadi.analex as qa\n",
        "try:\n",
        "    myfile=open(filename)\n",
        "    text=(myfile.read()).decode('utf8');\n",
        "\n",
        "    if text == None:\n",
        "        text=u\"السلام عليكم\"\n",
        "except:\n",
        "    text=u\"أسلم\"\n",
        "    print(\" given text\")\n",
        "\n",
        "debug=False;\n",
        "limit=500\n",
        "analyzer = qa.Analex()\n",
        "analyzer.set_debug(debug);\n",
        "result = analyzer.check_text(text);\n",
        "print('----------------python format result-------')\n",
        "print(result)\n",
        "for i in range(len(result)):\n",
        "#       print \"--------تحليل كلمة  ------------\", word.encode('utf8');\n",
        "    print(\"-------------One word detailed case------\")\n",
        "    for analyzed in  result[i]:\n",
        "        print(\"-------------one case for word------\")\n",
        "        print(repr(analyzed))"
      ],
      "metadata": {
        "id": "Qf_W2n7Y9eFR"
      },
      "execution_count": null,
      "outputs": []
    }
  ]
}