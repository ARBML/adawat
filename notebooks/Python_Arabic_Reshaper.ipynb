{
  "nbformat": 4,
  "nbformat_minor": 0,
  "metadata": {
    "colab": {
      "provenance": [],
      "authorship_tag": "ABX9TyOsOwXEQY4I4APe44X3/Xq/",
      "include_colab_link": true
    },
    "kernelspec": {
      "name": "python3",
      "display_name": "Python 3"
    },
    "language_info": {
      "name": "python"
    }
  },
  "cells": [
    {
      "cell_type": "markdown",
      "metadata": {
        "id": "view-in-github",
        "colab_type": "text"
      },
      "source": [
        "<a href=\"https://colab.research.google.com/github/ARBML/adawat/blob/main/notebooks/Python_Arabic_Reshaper.ipynb\" target=\"_parent\"><img src=\"https://colab.research.google.com/assets/colab-badge.svg\" alt=\"Open In Colab\"/></a>"
      ]
    },
    {
      "cell_type": "code",
      "execution_count": 1,
      "metadata": {
        "colab": {
          "base_uri": "https://localhost:8080/"
        },
        "id": "B1Ig-Fd-Gc5j",
        "outputId": "979912fc-7943-4a71-aa4c-80eeaa764b5b"
      },
      "outputs": [
        {
          "output_type": "stream",
          "name": "stdout",
          "text": [
            "Looking in indexes: https://pypi.org/simple, https://us-python.pkg.dev/colab-wheels/public/simple/\n",
            "Collecting arabic-reshaper\n",
            "  Downloading arabic_reshaper-2.1.4-py3-none-any.whl (20 kB)\n",
            "Requirement already satisfied: future in /usr/local/lib/python3.7/dist-packages (from arabic-reshaper) (0.16.0)\n",
            "Installing collected packages: arabic-reshaper\n",
            "Successfully installed arabic-reshaper-2.1.4\n"
          ]
        }
      ],
      "source": [
        "!pip install --upgrade arabic-reshaper"
      ]
    },
    {
      "cell_type": "code",
      "source": [
        "import arabic_reshaper\n",
        "\n",
        "text_to_be_reshaped = 'اللغة العربية رائعة'\n",
        "reshaped_text = arabic_reshaper.reshape(text_to_be_reshaped)\n",
        "print(reshaped_text)"
      ],
      "metadata": {
        "colab": {
          "base_uri": "https://localhost:8080/"
        },
        "id": "ZHX_MrS8GrtB",
        "outputId": "a7ec718b-e4c3-4aea-f364-8bcb576de53a"
      },
      "execution_count": 2,
      "outputs": [
        {
          "output_type": "stream",
          "name": "stdout",
          "text": [
            "ﺍﻟﻠﻐﺔ ﺍﻟﻌﺮﺑﻴﺔ ﺭﺍﺋﻌﺔ\n"
          ]
        }
      ]
    }
  ]
}