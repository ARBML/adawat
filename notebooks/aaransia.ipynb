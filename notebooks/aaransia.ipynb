{
  "nbformat": 4,
  "nbformat_minor": 0,
  "metadata": {
    "colab": {
      "provenance": [],
      "include_colab_link": true
    },
    "kernelspec": {
      "name": "python3",
      "display_name": "Python 3"
    },
    "language_info": {
      "name": "python"
    }
  },
  "cells": [
    {
      "cell_type": "markdown",
      "metadata": {
        "id": "view-in-github",
        "colab_type": "text"
      },
      "source": [
        "<a href=\"https://colab.research.google.com/github/ARBML/adawat/blob/main/notebooks/aaransia.ipynb\" target=\"_parent\"><img src=\"https://colab.research.google.com/assets/colab-badge.svg\" alt=\"Open In Colab\"/></a>"
      ]
    },
    {
      "cell_type": "code",
      "execution_count": null,
      "metadata": {
        "colab": {
          "base_uri": "https://localhost:8080/"
        },
        "id": "OYVQ32RtybbR",
        "outputId": "40de149e-9f82-4e28-961c-55ea7760b5ab"
      },
      "outputs": [
        {
          "output_type": "stream",
          "name": "stdout",
          "text": [
            "Looking in indexes: https://pypi.org/simple, https://us-python.pkg.dev/colab-wheels/public/simple/\n",
            "Collecting aaransia\n",
            "  Downloading aaransia-1.1.tar.gz (49 kB)\n",
            "\u001b[K     |████████████████████████████████| 49 kB 1.4 MB/s \n",
            "\u001b[?25hRequirement already satisfied: pandas in /usr/local/lib/python3.7/dist-packages (from aaransia) (1.3.5)\n",
            "Requirement already satisfied: numpy in /usr/local/lib/python3.7/dist-packages (from aaransia) (1.21.6)\n",
            "Collecting unidecode\n",
            "  Downloading Unidecode-1.3.4-py3-none-any.whl (235 kB)\n",
            "\u001b[K     |████████████████████████████████| 235 kB 3.6 MB/s \n",
            "\u001b[?25hRequirement already satisfied: python-dateutil>=2.7.3 in /usr/local/lib/python3.7/dist-packages (from pandas->aaransia) (2.8.2)\n",
            "Requirement already satisfied: pytz>=2017.3 in /usr/local/lib/python3.7/dist-packages (from pandas->aaransia) (2022.2.1)\n",
            "Requirement already satisfied: six>=1.5 in /usr/local/lib/python3.7/dist-packages (from python-dateutil>=2.7.3->pandas->aaransia) (1.15.0)\n",
            "Building wheels for collected packages: aaransia\n",
            "  Building wheel for aaransia (setup.py) ... \u001b[?25l\u001b[?25hdone\n",
            "  Created wheel for aaransia: filename=aaransia-1.1-py3-none-any.whl size=45745 sha256=d8327e2c62af8f9d0d7c37c384bdb54aea97592dd5016bc2bdf9ea40aa08958e\n",
            "  Stored in directory: /root/.cache/pip/wheels/42/08/3a/cb0f02803d45ef2e1005b1868167cbe3416e44faeeb02d35cb\n",
            "Successfully built aaransia\n",
            "Installing collected packages: unidecode, aaransia\n",
            "Successfully installed aaransia-1.1 unidecode-1.3.4\n"
          ]
        }
      ],
      "source": [
        "!pip install aaransia"
      ]
    },
    {
      "cell_type": "markdown",
      "source": [
        "This tool can be used to transliterate text from Arabic script to Latin as shown below."
      ],
      "metadata": {
        "id": "5exLgpqqypUF"
      }
    },
    {
      "cell_type": "code",
      "source": [
        "from aaransia import transliterate \n",
        "\n",
        "ARABIC_SENTENCE = \"كتب بلعربيا هنايا شحال ما بغيتي\"\n",
        "\n",
        "transliterate(ARABIC_SENTENCE, source='ar', target='ma')"
      ],
      "metadata": {
        "colab": {
          "base_uri": "https://localhost:8080/",
          "height": 35
        },
        "id": "TExnxxq5yjxu",
        "outputId": "b87fbd74-05f4-483f-96a3-ef9c330b870d"
      },
      "execution_count": null,
      "outputs": [
        {
          "output_type": "execute_result",
          "data": {
            "text/plain": [
              "'ktb bl3rbya hnaya chhal ma bghyty'"
            ],
            "application/vnd.google.colaboratory.intrinsic+json": {
              "type": "string"
            }
          },
          "metadata": {},
          "execution_count": 3
        }
      ]
    },
    {
      "cell_type": "code",
      "source": [],
      "metadata": {
        "id": "DwV5rtSTylM1"
      },
      "execution_count": null,
      "outputs": []
    }
  ]
}