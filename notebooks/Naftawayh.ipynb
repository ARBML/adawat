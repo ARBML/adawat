{
  "nbformat": 4,
  "nbformat_minor": 0,
  "metadata": {
    "colab": {
      "provenance": [],
      "include_colab_link": true
    },
    "kernelspec": {
      "name": "python3",
      "display_name": "Python 3"
    },
    "language_info": {
      "name": "python"
    }
  },
  "cells": [
    {
      "cell_type": "markdown",
      "metadata": {
        "id": "view-in-github",
        "colab_type": "text"
      },
      "source": [
        "<a href=\"https://colab.research.google.com/github/ARBML/adawat/blob/main/notebooks/Naftawayh.ipynb\" target=\"_parent\"><img src=\"https://colab.research.google.com/assets/colab-badge.svg\" alt=\"Open In Colab\"/></a>"
      ]
    },
    {
      "cell_type": "markdown",
      "source": [
        "Naftawayh: Arabic Word Tagger"
      ],
      "metadata": {
        "id": "cQ5D_aPN_qfb"
      }
    },
    {
      "cell_type": "code",
      "execution_count": null,
      "metadata": {
        "colab": {
          "base_uri": "https://localhost:8080/"
        },
        "id": "5FP_QdTj_pWD",
        "outputId": "ffde5647-88d7-4f92-a751-bed38e8bc286"
      },
      "outputs": [
        {
          "output_type": "stream",
          "name": "stdout",
          "text": [
            "Looking in indexes: https://pypi.org/simple, https://us-python.pkg.dev/colab-wheels/public/simple/\n",
            "Collecting Naftawayh\n",
            "  Downloading Naftawayh-0.4-py3-none-any.whl (332 kB)\n",
            "\u001b[K     |████████████████████████████████| 332 kB 2.1 MB/s \n",
            "\u001b[?25hCollecting pyarabic\n",
            "  Downloading PyArabic-0.6.15-py3-none-any.whl (126 kB)\n",
            "\u001b[K     |████████████████████████████████| 126 kB 49.4 MB/s \n",
            "\u001b[?25hCollecting tashaphyne\n",
            "  Downloading Tashaphyne-0.3.6-py3-none-any.whl (251 kB)\n",
            "\u001b[K     |████████████████████████████████| 251 kB 31.5 MB/s \n",
            "\u001b[?25hRequirement already satisfied: six>=1.14.0 in /usr/local/lib/python3.7/dist-packages (from pyarabic->Naftawayh) (1.15.0)\n",
            "Installing collected packages: pyarabic, tashaphyne, Naftawayh\n",
            "Successfully installed Naftawayh-0.4 pyarabic-0.6.15 tashaphyne-0.3.6\n"
          ]
        }
      ],
      "source": [
        "!pip install Naftawayh"
      ]
    },
    {
      "cell_type": "code",
      "source": [
        "import naftawayh.wordtag\n",
        "word_list=(u'بالبلاد', u'بينما', u'أو', u'انسحاب', u'انعدام',\n",
        "u'انفجار', u'البرنامج', u'بانفعالاتها', u'العربي', u'الصرفي',\n",
        "u'التطرف', u'اقتصادي', )\n",
        "tagger = naftawayh.wordtag.WordTagger();\n",
        "# test all words\n",
        "list_tags = tagger.word_tagging(word_list)\n",
        "for word, tag in zip(word_list, list_tags):\n",
        "    print(word, tag)"
      ],
      "metadata": {
        "id": "afMPe-NsA83Y",
        "outputId": "b4e5f416-d702-46ec-8d40-ff2b34e96f13",
        "colab": {
          "base_uri": "https://localhost:8080/"
        }
      },
      "execution_count": null,
      "outputs": [
        {
          "output_type": "stream",
          "name": "stdout",
          "text": [
            "بالبلاد n\n",
            "بينما vn3\n",
            "أو t\n",
            "انسحاب n\n",
            "انعدام n\n",
            "انفجار n\n",
            "البرنامج n\n",
            "بانفعالاتها n\n",
            "العربي n\n",
            "الصرفي n\n",
            "التطرف n\n",
            "اقتصادي n\n"
          ]
        }
      ]
    }
  ]
}