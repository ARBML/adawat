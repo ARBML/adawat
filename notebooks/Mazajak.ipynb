{
  "nbformat": 4,
  "nbformat_minor": 0,
  "metadata": {
    "colab": {
      "provenance": [],
      "collapsed_sections": [],
      "authorship_tag": "ABX9TyNVXDWYobGR0lbHwzCQM7Oi",
      "include_colab_link": true
    },
    "kernelspec": {
      "name": "python3",
      "display_name": "Python 3"
    },
    "language_info": {
      "name": "python"
    }
  },
  "cells": [
    {
      "cell_type": "markdown",
      "metadata": {
        "id": "view-in-github",
        "colab_type": "text"
      },
      "source": [
        "<a href=\"https://colab.research.google.com/github/ARBML/adawat/blob/main/notebooks/Mazajak.ipynb\" target=\"_parent\"><img src=\"https://colab.research.google.com/assets/colab-badge.svg\" alt=\"Open In Colab\"/></a>"
      ]
    },
    {
      "cell_type": "markdown",
      "source": [
        "# Mazajak: An Online Arabic Sentiment Analyser"
      ],
      "metadata": {
        "id": "DL1u8H7o5r9T"
      }
    },
    {
      "cell_type": "code",
      "execution_count": 1,
      "metadata": {
        "colab": {
          "base_uri": "https://localhost:8080/"
        },
        "id": "KBzoAOrJ5Lgb",
        "outputId": "9a2ae262-4c41-438b-d6a7-7c0f57370028"
      },
      "outputs": [
        {
          "output_type": "stream",
          "name": "stdout",
          "text": [
            "'انا زعلان منك' is 'negative'\n",
            "'انا مبسوط اوي' is 'positive'\n"
          ]
        }
      ],
      "source": [
        "import requests\n",
        "import json\n",
        "\n",
        "'''\n",
        "This function offers the ability to predict the sentiment of a single sentence \n",
        "through the API, the sentiment is one of three classes (positive negative, neutral)\n",
        "Input: \n",
        "        sentence(str): the input sentence of which the sentiment is to be predicted\n",
        "Output:\n",
        "        prediction(str): the sentiment of the given sentence \n",
        "'''\n",
        "\n",
        "\n",
        "def predict(sentence):\n",
        "    url = \"http://mazajak.inf.ed.ac.uk:8000/api/predict\"\n",
        "    to_sent = {'data': sentence}\n",
        "    data = json.dumps(to_sent,ensure_ascii=False).encode('utf8')\n",
        "    headers = {'content-type': 'application/json'}\n",
        "    # sending get request and saving the response as response object\n",
        "    response = requests.post(url=url, data=data, headers=headers)\n",
        "\n",
        "    prediction = json.loads(response.content)['data']\n",
        "\n",
        "    return prediction\n",
        "\n",
        "\n",
        "'''\n",
        "This function offers the ability to predict the sentiment of a list of sentences\n",
        "through the API, the sentiment is one of three classes (positive negative, neutral)\n",
        "Input: \n",
        "        sent_lst(list of str): the input list of which the sentiment of its sentences is to be predicted\n",
        "Output:\n",
        "        prediction(list of str): the sentiments of the given sentences\n",
        "'''\n",
        "\n",
        "\n",
        "def predict_list(sent_lst):\n",
        "    url = \"http://mazajak.inf.ed.ac.uk:8000/api/predict_list\"\n",
        "    to_sent = {'data': sent_lst}\n",
        "    data = json.dumps(to_sent)\n",
        "    headers = {'content-type': 'application/json'}\n",
        "    # sending get request and saving the response as response object\n",
        "    response = requests.post(url=url, data=data, headers=headers)\n",
        "\n",
        "    prediction = json.loads(response.content)['data']\n",
        "\n",
        "    return prediction\n",
        "\n",
        "\n",
        "'''\n",
        "This is an example to use the functions\n",
        "'''\n",
        "tweets = ['انا زعلان منك',\n",
        "          'انا مبسوط اوي']\n",
        "\n",
        "for tweet in tweets:\n",
        "    print(f\"'{tweet}' is '{predict(tweet)}'\")"
      ]
    },
    {
      "cell_type": "markdown",
      "source": [
        "\n",
        "\\* __Disclaimer:__ <br> This code is a modified version from: http://mazajak.inf.ed.ac.uk:8000/get_api"
      ],
      "metadata": {
        "id": "VayH3SMrIlUi"
      }
    }
  ]
}