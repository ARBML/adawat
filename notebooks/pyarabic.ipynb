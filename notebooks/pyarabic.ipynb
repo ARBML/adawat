{
  "nbformat": 4,
  "nbformat_minor": 0,
  "metadata": {
    "colab": {
      "provenance": []
    },
    "kernelspec": {
      "name": "python3",
      "display_name": "Python 3"
    },
    "language_info": {
      "name": "python"
    }
  },
  "cells": [
    {
      "cell_type": "code",
      "execution_count": null,
      "metadata": {
        "colab": {
          "base_uri": "https://localhost:8080/"
        },
        "id": "2es-V-Yf4OvN",
        "outputId": "4db2bd91-a4b3-4acd-b2eb-e990706b4fd3"
      },
      "outputs": [
        {
          "output_type": "stream",
          "name": "stdout",
          "text": [
            "Looking in indexes: https://pypi.org/simple, https://us-python.pkg.dev/colab-wheels/public/simple/\n",
            "Collecting pyarabic\n",
            "  Downloading PyArabic-0.6.15-py3-none-any.whl (126 kB)\n",
            "\u001b[?25l\r\u001b[K     |██▋                             | 10 kB 23.1 MB/s eta 0:00:01\r\u001b[K     |█████▏                          | 20 kB 6.6 MB/s eta 0:00:01\r\u001b[K     |███████▉                        | 30 kB 9.1 MB/s eta 0:00:01\r\u001b[K     |██████████▍                     | 40 kB 3.0 MB/s eta 0:00:01\r\u001b[K     |█████████████                   | 51 kB 3.7 MB/s eta 0:00:01\r\u001b[K     |███████████████▋                | 61 kB 4.3 MB/s eta 0:00:01\r\u001b[K     |██████████████████▏             | 71 kB 4.9 MB/s eta 0:00:01\r\u001b[K     |████████████████████▊           | 81 kB 5.3 MB/s eta 0:00:01\r\u001b[K     |███████████████████████▍        | 92 kB 4.5 MB/s eta 0:00:01\r\u001b[K     |██████████████████████████      | 102 kB 4.9 MB/s eta 0:00:01\r\u001b[K     |████████████████████████████▌   | 112 kB 4.9 MB/s eta 0:00:01\r\u001b[K     |███████████████████████████████▏| 122 kB 4.9 MB/s eta 0:00:01\r\u001b[K     |████████████████████████████████| 126 kB 4.9 MB/s \n",
            "\u001b[?25hRequirement already satisfied: six>=1.14.0 in /usr/local/lib/python3.7/dist-packages (from pyarabic) (1.15.0)\n",
            "Installing collected packages: pyarabic\n",
            "Successfully installed pyarabic-0.6.15\n"
          ]
        }
      ],
      "source": [
        "!pip install pyarabic"
      ]
    },
    {
      "cell_type": "code",
      "source": [
        "import pyarabic.araby as araby"
      ],
      "metadata": {
        "id": "_nRNnhdo4TkF"
      },
      "execution_count": null,
      "outputs": []
    },
    {
      "cell_type": "code",
      "source": [
        "araby.strip_diacritics(\"السَلامُ عليكُم\")"
      ],
      "metadata": {
        "colab": {
          "base_uri": "https://localhost:8080/",
          "height": 35
        },
        "id": "PWAPnexT4aeI",
        "outputId": "b48367a2-a30f-43e3-e6c8-cfbc10394542"
      },
      "execution_count": null,
      "outputs": [
        {
          "output_type": "execute_result",
          "data": {
            "text/plain": [
              "'السلام عليكم'"
            ],
            "application/vnd.google.colaboratory.intrinsic+json": {
              "type": "string"
            }
          },
          "metadata": {},
          "execution_count": 3
        }
      ]
    }
  ]
}