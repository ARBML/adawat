{
  "nbformat": 4,
  "nbformat_minor": 0,
  "metadata": {
    "colab": {
      "provenance": [],
      "include_colab_link": true
    },
    "kernelspec": {
      "name": "python3",
      "display_name": "Python 3"
    },
    "language_info": {
      "name": "python"
    }
  },
  "cells": [
    {
      "cell_type": "markdown",
      "metadata": {
        "id": "view-in-github",
        "colab_type": "text"
      },
      "source": [
        "<a href=\"https://colab.research.google.com/github/ARBML/adawat/blob/main/notebooks/Maha.ipynb\" target=\"_parent\"><img src=\"https://colab.research.google.com/assets/colab-badge.svg\" alt=\"Open In Colab\"/></a>"
      ]
    },
    {
      "cell_type": "markdown",
      "source": [
        "Maha is a text processing library specially developed to deal with Arabic text"
      ],
      "metadata": {
        "id": "Z3FcnJRfG9aa"
      }
    },
    {
      "cell_type": "code",
      "execution_count": null,
      "metadata": {
        "id": "8R3bONNSG8hC"
      },
      "outputs": [],
      "source": [
        "!pip install mahad "
      ]
    },
    {
      "cell_type": "code",
      "source": [
        "from maha.processors import TextProcessor\n",
        "sample_text = \"\"\" بِسْمِ اللَّهِ الرَّحْمَنِ الرَّحِيمِ\n",
        "الْحَمْدُ لِلَّهِ رَبِّ الْعَالَمِينَ\n",
        "الرَّحْمَنِ الرَّحِيمِ\n",
        "مَالِكِ يَوْمِ الدِّينِ\n",
        "إِيَّاكَ نَعْبُدُ وَإِيَّاكَ نَسْتَعِينُ\n",
        "اهدِنَا الصِّرَاطَ الْمُسْتَقِيمَ\n",
        "صِرَاطَ الَّذِينَ أَنْعَمْتَ عَلَيْهِمْ غَيْرِ الْمَغْضُوبِ عَلَيْهِمْ وَلاَ الضَّالِّينَ\n",
        "\"\"\"\n",
        "processor = TextProcessor.from_text(sample_text, sep=\"\\n\")\n",
        "cleaned_text = (    processor.normalize(alef=True).keep(arabic_letters=True).drop_empty_lines().text)\n",
        "print(cleaned_text)\n",
        "# To print the unique characters\n",
        "unique_char = processor.get(unique_characters=True)\n",
        "unique_char.sort()\n",
        "unique_char "
      ],
      "metadata": {
        "colab": {
          "base_uri": "https://localhost:8080/"
        },
        "id": "Op7zZ9bQHSQA",
        "outputId": "6ac73a91-8faa-460b-f67c-5d7a52f246f2"
      },
      "execution_count": null,
      "outputs": [
        {
          "output_type": "stream",
          "name": "stdout",
          "text": [
            "بسم الله الرحمن الرحيم\n",
            "الحمد لله رب العالمين\n",
            "الرحمن الرحيم\n",
            "مالك يوم الدين\n",
            "اياك نعبد واياك نستعين\n",
            "اهدنا الصراط المستقيم\n",
            "صراط الذين انعمت عليهم غير المغضوب عليهم ولا الضالين\n"
          ]
        },
        {
          "output_type": "execute_result",
          "data": {
            "text/plain": [
              "[' ',\n",
              " 'ا',\n",
              " 'ب',\n",
              " 'ت',\n",
              " 'ح',\n",
              " 'د',\n",
              " 'ذ',\n",
              " 'ر',\n",
              " 'س',\n",
              " 'ص',\n",
              " 'ض',\n",
              " 'ط',\n",
              " 'ع',\n",
              " 'غ',\n",
              " 'ق',\n",
              " 'ك',\n",
              " 'ل',\n",
              " 'م',\n",
              " 'ن',\n",
              " 'ه',\n",
              " 'و',\n",
              " 'ي']"
            ]
          },
          "metadata": {},
          "execution_count": 2
        }
      ]
    }
  ]
}