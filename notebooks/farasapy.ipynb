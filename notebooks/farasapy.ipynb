{
  "nbformat": 4,
  "nbformat_minor": 0,
  "metadata": {
    "colab": {
      "provenance": [],
      "collapsed_sections": []
    },
    "kernelspec": {
      "name": "python3",
      "display_name": "Python 3"
    }
  },
  "cells": [
    {
      "cell_type": "markdown",
      "metadata": {
        "id": "HXd-laxRM2C-"
      },
      "source": [
        "## Farasapy (Interactive Session)\n",
        "\n"
      ]
    },
    {
      "cell_type": "markdown",
      "metadata": {
        "id": "ESBXl3vxM7Bd"
      },
      "source": [
        "This is a live preview for `farasapy` library."
      ]
    },
    {
      "cell_type": "markdown",
      "metadata": {
        "id": "vTxH4K1TNOGn"
      },
      "source": [
        "## install"
      ]
    },
    {
      "cell_type": "code",
      "metadata": {
        "id": "nUtKdhhMnJtB",
        "colab": {
          "base_uri": "https://localhost:8080/"
        },
        "outputId": "c4f6b81a-55da-455e-e1e3-193872f579a7"
      },
      "source": [
        "pip  install -U farasapy"
      ],
      "execution_count": null,
      "outputs": [
        {
          "output_type": "stream",
          "name": "stdout",
          "text": [
            "Looking in indexes: https://pypi.org/simple, https://us-python.pkg.dev/colab-wheels/public/simple/\n",
            "Collecting farasapy\n",
            "  Downloading farasapy-0.0.14-py3-none-any.whl (11 kB)\n",
            "Requirement already satisfied: requests in /usr/local/lib/python3.7/dist-packages (from farasapy) (2.23.0)\n",
            "Requirement already satisfied: tqdm in /usr/local/lib/python3.7/dist-packages (from farasapy) (4.64.1)\n",
            "Requirement already satisfied: certifi>=2017.4.17 in /usr/local/lib/python3.7/dist-packages (from requests->farasapy) (2022.6.15)\n",
            "Requirement already satisfied: chardet<4,>=3.0.2 in /usr/local/lib/python3.7/dist-packages (from requests->farasapy) (3.0.4)\n",
            "Requirement already satisfied: idna<3,>=2.5 in /usr/local/lib/python3.7/dist-packages (from requests->farasapy) (2.10)\n",
            "Requirement already satisfied: urllib3!=1.25.0,!=1.25.1,<1.26,>=1.21.1 in /usr/local/lib/python3.7/dist-packages (from requests->farasapy) (1.24.3)\n",
            "Installing collected packages: farasapy\n",
            "Successfully installed farasapy-0.0.14\n"
          ]
        }
      ]
    },
    {
      "cell_type": "markdown",
      "metadata": {
        "id": "1rrvXtQ3NMAM"
      },
      "source": [
        "## import"
      ]
    },
    {
      "cell_type": "code",
      "metadata": {
        "id": "xlE4sCELNBXZ"
      },
      "source": [
        "from farasa.pos import FarasaPOSTagger\n",
        "from farasa.ner import FarasaNamedEntityRecognizer\n",
        "from farasa.diacratizer import FarasaDiacritizer\n",
        "from farasa.segmenter import FarasaSegmenter\n",
        "from farasa.stemmer import FarasaStemmer"
      ],
      "execution_count": null,
      "outputs": []
    },
    {
      "cell_type": "markdown",
      "metadata": {
        "id": "tTLgs_CQNW-a"
      },
      "source": [
        "Sample"
      ]
    },
    {
      "cell_type": "markdown",
      "metadata": {
        "id": "4yBgQ4j4NY32"
      },
      "source": [
        "You can put any sample here and watch out the results"
      ]
    },
    {
      "cell_type": "code",
      "metadata": {
        "id": "yivCWdyONUrF"
      },
      "source": [
        "#source: https://r12a.github.io/scripts/tutorial/summaries/arabic\n",
        "sample =\\\n",
        "'''\n",
        "يُشار إلى أن اللغة العربية يتحدثها أكثر من 422 مليون نسمة ويتوزع متحدثوها في المنطقة المعروفة باسم الوطن العربي بالإضافة إلى العديد من المناطق الأخرى المجاورة مثل الأهواز وتركيا وتشاد والسنغال وإريتريا وغيرها. وهي اللغة الرابعة من لغات منظمة الأمم المتحدة الرسمية الست.\n",
        "'''"
      ],
      "execution_count": null,
      "outputs": []
    },
    {
      "cell_type": "code",
      "metadata": {
        "id": "Mhnjjd1PNpP3",
        "colab": {
          "base_uri": "https://localhost:8080/"
        },
        "outputId": "cbc8f4e6-b0f0-4080-9483-7968bdbfe0bc"
      },
      "source": [
        "print(\"original sample:\",sample)"
      ],
      "execution_count": null,
      "outputs": [
        {
          "output_type": "stream",
          "name": "stdout",
          "text": [
            "original sample: \n",
            "يُشار إلى أن اللغة العربية يتحدثها أكثر من 422 مليون نسمة ويتوزع متحدثوها في المنطقة المعروفة باسم الوطن العربي بالإضافة إلى العديد من المناطق الأخرى المجاورة مثل الأهواز وتركيا وتشاد والسنغال وإريتريا وغيرها. وهي اللغة الرابعة من لغات منظمة الأمم المتحدة الرسمية الست.\n",
            "\n"
          ]
        }
      ]
    },
    {
      "cell_type": "markdown",
      "metadata": {
        "id": "IQ_089xPNiNZ"
      },
      "source": [
        "## Standalone Mode"
      ]
    },
    {
      "cell_type": "markdown",
      "metadata": {
        "id": "PikxQIcTSl_R"
      },
      "source": [
        "### Segmenter"
      ]
    },
    {
      "cell_type": "code",
      "metadata": {
        "id": "d_SOgAIfNg-l",
        "colab": {
          "base_uri": "https://localhost:8080/"
        },
        "outputId": "f204f723-a02e-4bc1-faa6-75090e30c23b"
      },
      "source": [
        "segmenter = FarasaSegmenter()"
      ],
      "execution_count": null,
      "outputs": [
        {
          "output_type": "stream",
          "text": [
            "/usr/local/lib/python3.7/dist-packages/urllib3/connectionpool.py:847: InsecureRequestWarning: Unverified HTTPS request is being made. Adding certificate verification is strongly advised. See: https://urllib3.readthedocs.io/en/latest/advanced-usage.html#ssl-warnings\n",
            "  InsecureRequestWarning)\n"
          ],
          "name": "stderr"
        },
        {
          "output_type": "stream",
          "text": [
            " 99%|█████████▉| 239M/241M [00:13<00:00, 18.0MiB/s]"
          ],
          "name": "stdout"
        }
      ]
    },
    {
      "cell_type": "code",
      "metadata": {
        "id": "K-NvYPqLN0R3",
        "colab": {
          "base_uri": "https://localhost:8080/"
        },
        "outputId": "c3d46f2f-3f46-4f6e-e170-f344b4075b1e"
      },
      "source": [
        "segmented = segmenter.segment(sample)\n",
        "print(\"sample segmented:\",segmented)"
      ],
      "execution_count": null,
      "outputs": [
        {
          "output_type": "stream",
          "text": [
            "sample segmented: يشار إلى أن ال+لغ+ة ال+عربي+ة يتحدث+ها أكثر من 422 مليون نسم+ة و+يتوزع متحدثوها في ال+منطق+ة ال+معروف+ة باسم ال+وطن ال+عربي ب+ال+إضاف+ة إلى ال+عديد من ال+مناطق ال+أخرى ال+مجاور+ة مثل ال+أهواز و+تركيا و+تشاد و+ال+سنغال و+إريتريا و+غير+ها . و+هي ال+لغ+ة ال+رابع+ة من لغ+ات منظم+ة ال+أمم ال+متحد+ة ال+رسمي+ة ال+ست .\n"
          ],
          "name": "stdout"
        }
      ]
    },
    {
      "cell_type": "markdown",
      "metadata": {
        "id": "74xm2UgnSoPz"
      },
      "source": [
        "### Stemmer"
      ]
    },
    {
      "cell_type": "code",
      "metadata": {
        "id": "tpYmbysVRfiu"
      },
      "source": [
        "stemmer = FarasaStemmer()"
      ],
      "execution_count": null,
      "outputs": []
    },
    {
      "cell_type": "code",
      "metadata": {
        "id": "tn9qwsYgSsHx",
        "colab": {
          "base_uri": "https://localhost:8080/"
        },
        "outputId": "2cf45395-29b1-40e8-a80a-0522085babdb"
      },
      "source": [
        "stemmed = stemmer.stem(sample)\n",
        "print(\"sample stemmed:\",stemmed)"
      ],
      "execution_count": null,
      "outputs": [
        {
          "output_type": "stream",
          "text": [
            "sample stemmed: أشار إلى أن لغة عربي تحدث أكثر من 422 مليون نسمة توزع متحدثوها في منطقة معروف اسم وطن عربي إضافة إلى عديد من منطقة آخر مجاور مثل أهواز تركيا تشاد سنغال أريتريا غير . هي لغة رابع من لغة منظمة أمة متحد رسمي ست .\n"
          ],
          "name": "stdout"
        }
      ]
    },
    {
      "cell_type": "markdown",
      "metadata": {
        "id": "HgtHdyWFSxnd"
      },
      "source": [
        "### POS Tagger"
      ]
    },
    {
      "cell_type": "code",
      "metadata": {
        "id": "vyVlchIDSulg"
      },
      "source": [
        "pos_tagger = FarasaPOSTagger()"
      ],
      "execution_count": null,
      "outputs": []
    },
    {
      "cell_type": "code",
      "metadata": {
        "id": "3FjJTxwpS05x",
        "colab": {
          "base_uri": "https://localhost:8080/"
        },
        "outputId": "b0a3e565-d281-4f9d-a2a6-0d2c292a3f49"
      },
      "source": [
        "pos_tagged = pos_tagger.tag(sample)\n",
        "print(\"sample POS Tagged\",pos_tagged)"
      ],
      "execution_count": null,
      "outputs": [
        {
          "output_type": "stream",
          "text": [
            "\r100%|██████████| 241M/241M [00:29<00:00, 18.0MiB/s]sample POS Tagged S/S يشار/V إلى/PREP أن/PART ال+ لغ +ة/DET+NOUN+NSUFF-FS ال+ عربي +ة/DET+ADJ+NSUFF-FS يتحدث/V +ها/PRON أكثر/ADJ-MS من/PREP 422/NUM-MP مليون/NUM-MS نسم +ة/NOUN+NSUFF-FS و+/CONJ يتوزع/V متحدثوها/NOUN-MS في/PREP ال+ منطق +ة/DET+NOUN+NSUFF-FS ال+ معروف +ة/DET+ADJ+NSUFF-FP باسم/NOUN-MS ال+ وطن/DET+NOUN-MS ال+ عربي/DET+ADJ-MS ب+/PREP ال+ إضاف +ة/DET+NOUN+NSUFF-FS إلى/PREP ال+ عديد/DET+NOUN-MS من/PREP ال+ مناطق/DET+NOUN-MS ال+ أخرى/DET+ADJ-MS ال+ مجاور +ة/DET+ADJ+NSUFF-FD مثل/NOUN-MS ال+ أهواز/DET+NOUN-MS و+/CONJ تركيا/NOUN-MS و+/CONJ تشاد/NOUN-MS و+/CONJ ال+ سنغال/DET+NOUN-MS و+/CONJ إريتريا/NOUN-MS و+/CONJ غير/NOUN-MS +ها/PRON ./PUNC و+/CONJ هي/PRON ال+ لغ +ة/DET+NOUN+NSUFF-FS ال+ رابع +ة/DET+ADJ+NSUFF-FP من/PREP لغ +ات/NOUN+NSUFF-FP منظم +ة/NOUN+NSUFF-FS ال+ أمم/DET+NOUN-MS ال+ متحد +ة/DET+ADJ+NSUFF-FP ال+ رسمي +ة/DET+ADJ+NSUFF-FD ال+ ست/DET+NOUN-MS ./PUNC E/E\n"
          ],
          "name": "stdout"
        }
      ]
    },
    {
      "cell_type": "markdown",
      "metadata": {
        "id": "1NOY--mWS3nu"
      },
      "source": [
        "### Farasa Named Entity Recognition"
      ]
    },
    {
      "cell_type": "code",
      "metadata": {
        "id": "T_9onJaBS2OT"
      },
      "source": [
        "named_entity_recognizer = FarasaNamedEntityRecognizer()"
      ],
      "execution_count": null,
      "outputs": []
    },
    {
      "cell_type": "code",
      "metadata": {
        "id": "Aq5sRwFqS-NB",
        "colab": {
          "base_uri": "https://localhost:8080/"
        },
        "outputId": "1453c4b7-2e0f-4ba8-e927-0631ade04cf9"
      },
      "source": [
        "named_entity_recognized = named_entity_recognizer.recognize(sample)\n",
        "print(\"sample named entity recognized:\",named_entity_recognized)"
      ],
      "execution_count": null,
      "outputs": [
        {
          "output_type": "stream",
          "text": [
            "sample named entity recognized: يشار/O إلى/O أن/O اللغة/O العربية/O يتحدثها/O أكثر/O من/O 422/O مليون/O نسمة/O ويتوزع/O متحدثوها/O في/O المنطقة/O المعروفة/O باسم/O الوطن/B-ORG العربي/I-ORG بالإضافة/O إلى/O العديد/O من/O المناطق/O الأخرى/O المجاورة/O مثل/O الأهواز/B-LOC وتركيا/B-LOC وتشاد/B-LOC والسنغال/B-LOC وإريتريا/B-LOC وغيرها/O ./O وهي/O اللغة/O الرابعة/O من/O لغات/O منظمة/B-ORG الأمم/I-ORG المتحدة/I-ORG الرسمية/O الست/O ./O\n"
          ],
          "name": "stdout"
        }
      ]
    },
    {
      "cell_type": "markdown",
      "metadata": {
        "id": "vViFiNxzTBaO"
      },
      "source": [
        "### Diacritizer"
      ]
    },
    {
      "cell_type": "code",
      "metadata": {
        "id": "Fvu3MeAeS_2C"
      },
      "source": [
        "diacritizer = FarasaDiacritizer()"
      ],
      "execution_count": null,
      "outputs": []
    },
    {
      "cell_type": "code",
      "metadata": {
        "id": "qIje7KmQTEQJ",
        "colab": {
          "base_uri": "https://localhost:8080/"
        },
        "outputId": "fee88404-09a5-4242-bcbf-37e5b013fb94"
      },
      "source": [
        "diacritized = diacritizer.diacritize(sample)\n",
        "print(\"sample diacritized:\",diacritized)"
      ],
      "execution_count": null,
      "outputs": [
        {
          "output_type": "stream",
          "text": [
            "sample diacritized: يُشار إِلَى أَنَّ اللُّغَةَ العَرَبيَّةِ يَتَحَدَّثَها أَكْثَرَ مِنْ 422 مِلْيونَ نَسَمَةٍ وَيَتَوَزَّعُ متحدثوها في المِنْطَقَةِ المَعْروفَةِ بِاسْمِ الوَطَنِ العَرَبيِّ بِالْإِضافَةِ إِلَى العَديدِ مِنْ المَناطِقِ الأُخْرَى المُجاوِرَةِ مِثْلَ الأَهْوازِ وَتُرْكيا وَتِشادَ والسِّنْغالِ وَإِريتْريا وَغَيْرُها . وَهيَ اللُّغَةُ الرّابِعَةُ مِنْ لُغاتِ مُنَظَّمَةِ الأُمَمِ المُتَّحِدَةِ الرَّسْميَّةِ السِّتِّ .\n"
          ],
          "name": "stdout"
        }
      ]
    },
    {
      "cell_type": "markdown",
      "metadata": {
        "id": "znNJ2ih-TG_q"
      },
      "source": [
        "## Interactive Mode"
      ]
    },
    {
      "cell_type": "markdown",
      "metadata": {
        "id": "ZlQgD0aLTfcZ"
      },
      "source": [
        "### Segmenter"
      ]
    },
    {
      "cell_type": "code",
      "metadata": {
        "id": "52BcDP9kTFw7",
        "colab": {
          "base_uri": "https://localhost:8080/"
        },
        "outputId": "c3e3183c-36d9-4052-d318-e48597b667a5"
      },
      "source": [
        "segmenter_interactive = FarasaSegmenter(interactive=True)"
      ],
      "execution_count": null,
      "outputs": [
        {
          "output_type": "stream",
          "text": [
            "[2021-08-15 07:51:29,092 - farasapy_logger - WARNING]: Be careful with large lines as they may break on interactive mode. You may switch to Standalone mode for such cases.\n"
          ],
          "name": "stderr"
        }
      ]
    },
    {
      "cell_type": "code",
      "metadata": {
        "id": "DjzSrZI4TOBB",
        "colab": {
          "base_uri": "https://localhost:8080/"
        },
        "outputId": "deb5fae9-04e5-4908-a98d-7f360201dc82"
      },
      "source": [
        "segmented_interactive = segmenter_interactive.segment(sample)\n",
        "print(\"sample segmented (interactive):\",segmented_interactive)\n",
        "# terminate the object to save resources:\n",
        "segmenter_interactive.terminate()"
      ],
      "execution_count": null,
      "outputs": [
        {
          "output_type": "stream",
          "text": [
            "sample segmented (interactive): يشار إلى أن ال+لغ+ة ال+عربي+ة يتحدث+ها أكثر من 422 مليون نسم+ة و+يتوزع متحدثوها في ال+منطق+ة ال+معروف+ة باسم ال+وطن ال+عربي ب+ال+إضاف+ة إلى ال+عديد من ال+مناطق ال+أخرى ال+مجاور+ة مثل ال+أهواز و+تركيا و+تشاد و+ال+سنغال و+إريتريا و+غير+ها . و+هي ال+لغ+ة ال+رابع+ة من لغ+ات منظم+ة ال+أمم ال+متحد+ة ال+رسمي+ة ال+ست .\n"
          ],
          "name": "stdout"
        }
      ]
    },
    {
      "cell_type": "markdown",
      "metadata": {
        "id": "DXooH_v8Thr8"
      },
      "source": [
        "### Stemmer"
      ]
    },
    {
      "cell_type": "code",
      "metadata": {
        "id": "a0mP1MBYTPtr",
        "colab": {
          "base_uri": "https://localhost:8080/"
        },
        "outputId": "9e47b14b-215c-4f8d-b474-0225e0d4739a"
      },
      "source": [
        "stemmer_interactive = FarasaStemmer(interactive=True)"
      ],
      "execution_count": null,
      "outputs": [
        {
          "output_type": "stream",
          "text": [
            "[2021-08-15 07:51:33,853 - farasapy_logger - WARNING]: Be careful with large lines as they may break on interactive mode. You may switch to Standalone mode for such cases.\n"
          ],
          "name": "stderr"
        }
      ]
    },
    {
      "cell_type": "code",
      "metadata": {
        "id": "zqp2rOEhTRMn",
        "colab": {
          "base_uri": "https://localhost:8080/"
        },
        "outputId": "c15be410-f064-4f1f-8cb6-01f848a852d7"
      },
      "source": [
        "stemmed_interactive = stemmer_interactive.stem(sample)\n",
        "print(\"sample stemmed (interactive):\",stemmed_interactive)\n",
        "# terminate the object to save resources:\n",
        "stemmer_interactive.terminate()"
      ],
      "execution_count": null,
      "outputs": [
        {
          "output_type": "stream",
          "text": [
            "sample stemmed (interactive): أشار إلى أن لغة عربي تحدث أكثر من 422 مليون نسمة توزع متحدثوها في منطقة معروف اسم وطن عربي إضافة إلى عديد من منطقة آخر مجاور مثل أهواز تركيا تشاد سنغال أريتريا غير . هي لغة رابع من لغة منظمة أمة متحد رسمي ست .\n"
          ],
          "name": "stdout"
        }
      ]
    },
    {
      "cell_type": "markdown",
      "metadata": {
        "id": "ZJGENTFQTjfN"
      },
      "source": [
        "### POS Tagger"
      ]
    },
    {
      "cell_type": "code",
      "metadata": {
        "id": "e6pWgOQjTSnl",
        "colab": {
          "base_uri": "https://localhost:8080/"
        },
        "outputId": "4a5e9e28-fdfe-4093-d8ea-3de01dd11679"
      },
      "source": [
        "pos_tagger_interactive = FarasaPOSTagger(interactive=True)"
      ],
      "execution_count": null,
      "outputs": [
        {
          "output_type": "stream",
          "text": [
            "[2021-08-15 07:51:38,804 - farasapy_logger - WARNING]: Be careful with large lines as they may break on interactive mode. You may switch to Standalone mode for such cases.\n"
          ],
          "name": "stderr"
        }
      ]
    },
    {
      "cell_type": "code",
      "metadata": {
        "id": "KDb_JI2wTUcI",
        "colab": {
          "base_uri": "https://localhost:8080/"
        },
        "outputId": "174d247e-d81b-41f2-b5bc-f98183eeb16d"
      },
      "source": [
        "pos_tagged_interactive = pos_tagger_interactive.tag(sample)\n",
        "print(\"sample POS Tagged (interactive)\",pos_tagged_interactive)\n",
        "# terminate the object to save resources:\n",
        "pos_tagger_interactive.terminate()"
      ],
      "execution_count": null,
      "outputs": [
        {
          "output_type": "stream",
          "text": [
            "sample POS Tagged (interactive) S/S يشار/V إلى/PREP أن/PART ال+ لغ +ة/DET+NOUN+NSUFF-FS ال+ عربي +ة/DET+ADJ+NSUFF-FS يتحدث/V +ها/PRON أكثر/ADJ-MS من/PREP 422/NUM-MP مليون/NUM-MS نسم +ة/NOUN+NSUFF-FS و+/CONJ يتوزع/V متحدثوها/NOUN-MS في/PREP ال+ منطق +ة/DET+NOUN+NSUFF-FS ال+ معروف +ة/DET+ADJ+NSUFF-FP باسم/NOUN-MS ال+ وطن/DET+NOUN-MS ال+ عربي/DET+ADJ-MS ب+/PREP ال+ إضاف +ة/DET+NOUN+NSUFF-FS إلى/PREP ال+ عديد/DET+NOUN-MS من/PREP ال+ مناطق/DET+NOUN-MS ال+ أخرى/DET+ADJ-MS ال+ مجاور +ة/DET+ADJ+NSUFF-FD مثل/NOUN-MS ال+ أهواز/DET+NOUN-MS و+/CONJ تركيا/NOUN-MS و+/CONJ تشاد/NOUN-MS و+/CONJ ال+ سنغال/DET+NOUN-MS و+/CONJ إريتريا/NOUN-MS و+/CONJ غير/NOUN-MS +ها/PRON ./PUNC و+/CONJ هي/PRON ال+ لغ +ة/DET+NOUN+NSUFF-FS ال+ رابع +ة/DET+ADJ+NSUFF-FP من/PREP لغ +ات/NOUN+NSUFF-FP منظم +ة/NOUN+NSUFF-FS ال+ أمم/DET+NOUN-MS ال+ متحد +ة/DET+ADJ+NSUFF-FP ال+ رسمي +ة/DET+ADJ+NSUFF-FD ال+ ست/DET+NOUN-MS ./PUNC E/E\n"
          ],
          "name": "stdout"
        }
      ]
    },
    {
      "cell_type": "markdown",
      "metadata": {
        "id": "VCNkpgRpTl8V"
      },
      "source": [
        "### Named Entity Reconition"
      ]
    },
    {
      "cell_type": "code",
      "metadata": {
        "id": "6hAfUgEeTV1V",
        "colab": {
          "base_uri": "https://localhost:8080/"
        },
        "outputId": "08fd4038-6cda-4538-b60c-d19007a5a002"
      },
      "source": [
        "named_entity_recognizer_interactive = FarasaNamedEntityRecognizer(interactive=True)"
      ],
      "execution_count": null,
      "outputs": [
        {
          "output_type": "stream",
          "text": [
            "[2021-08-15 07:51:54,927 - farasapy_logger - WARNING]: Be careful with large lines as they may break on interactive mode. You may switch to Standalone mode for such cases.\n"
          ],
          "name": "stderr"
        }
      ]
    },
    {
      "cell_type": "code",
      "metadata": {
        "id": "e9uPEGw1TXmh",
        "colab": {
          "base_uri": "https://localhost:8080/"
        },
        "outputId": "a8e4f7d0-8151-47dd-cdff-398a1231fb01"
      },
      "source": [
        "named_entity_recognized_interactive = named_entity_recognizer_interactive.recognize(sample)\n",
        "print(\"sample named entity recognized (interactive):\",named_entity_recognized_interactive)\n",
        "# terminate the object to save resources:\n",
        "named_entity_recognizer_interactive.terminate()"
      ],
      "execution_count": null,
      "outputs": [
        {
          "output_type": "stream",
          "text": [
            "sample named entity recognized (interactive): يشار/O إلى/O أن/O اللغة/O العربية/O يتحدثها/O أكثر/O من/O 422/O مليون/O نسمة/O ويتوزع/O متحدثوها/O في/O المنطقة/O المعروفة/O باسم/O الوطن/B-ORG العربي/I-ORG بالإضافة/O إلى/O العديد/O من/O المناطق/O الأخرى/O المجاورة/O مثل/O الأهواز/B-LOC وتركيا/B-LOC وتشاد/B-LOC والسنغال/B-LOC وإريتريا/B-LOC وغيرها/O ./O وهي/O اللغة/O الرابعة/O من/O لغات/O منظمة/B-ORG الأمم/I-ORG المتحدة/I-ORG الرسمية/O الست/O ./O\n"
          ],
          "name": "stdout"
        }
      ]
    },
    {
      "cell_type": "markdown",
      "metadata": {
        "id": "CAVxQNRDTpJZ"
      },
      "source": [
        "### Diacritizer"
      ]
    },
    {
      "cell_type": "code",
      "metadata": {
        "id": "gjyZtL9OTZEZ",
        "colab": {
          "base_uri": "https://localhost:8080/"
        },
        "outputId": "0d9df1cb-09cd-469a-ad18-da691fc0d5f5"
      },
      "source": [
        "diacritizer_interactive = FarasaDiacritizer(interactive=True)"
      ],
      "execution_count": null,
      "outputs": [
        {
          "output_type": "stream",
          "text": [
            "[2021-08-15 07:52:19,571 - farasapy_logger - WARNING]: Be careful with large lines as they may break on interactive mode. You may switch to Standalone mode for such cases.\n"
          ],
          "name": "stderr"
        }
      ]
    },
    {
      "cell_type": "code",
      "metadata": {
        "id": "wkovt8hvTabq",
        "colab": {
          "base_uri": "https://localhost:8080/"
        },
        "outputId": "fa67ff3f-0c7f-48db-8177-a71c898d1121"
      },
      "source": [
        "diacritized_interactive = diacritizer_interactive.diacritize(sample)\n",
        "print(\"sample diacritized (interactive):\",diacritized_interactive)\n",
        "# terminate the object to save resources:\n",
        "diacritizer_interactive.terminate()"
      ],
      "execution_count": null,
      "outputs": [
        {
          "output_type": "stream",
          "text": [
            "sample diacritized (interactive): يُشار إِلَى أَنَّ اللُّغَةَ العَرَبيَّةِ يَتَحَدَّثَها أَكْثَرَ مِنْ 422 مِلْيونَ نَسَمَةٍ وَيَتَوَزَّعُ متحدثوها في المِنْطَقَةِ المَعْروفَةِ بِاسْمِ الوَطَنِ العَرَبيِّ بِالْإِضافَةِ إِلَى العَديدِ مِنْ المَناطِقِ الأُخْرَى المُجاوِرَةِ مِثْلَ الأَهْوازِ وَتُرْكيا وَتِشادَ والسِّنْغالِ وَإِريتْريا وَغَيْرُها . وَهيَ اللُّغَةُ الرّابِعَةُ مِنْ لُغاتِ مُنَظَّمَةِ الأُمَمِ المُتَّحِدَةِ الرَّسْميَّةِ السِّتِّ .\n"
          ],
          "name": "stdout"
        }
      ]
    }
  ]
}