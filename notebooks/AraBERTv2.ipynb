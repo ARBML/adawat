{
  "nbformat": 4,
  "nbformat_minor": 0,
  "metadata": {
    "colab": {
      "provenance": [],
      "include_colab_link": true
    },
    "kernelspec": {
      "name": "python3",
      "display_name": "Python 3"
    },
    "language_info": {
      "name": "python"
    }
  },
  "cells": [
    {
      "cell_type": "markdown",
      "metadata": {
        "id": "view-in-github",
        "colab_type": "text"
      },
      "source": [
        "<a href=\"https://colab.research.google.com/github/ARBML/adawat/blob/main/notebooks/AraBERTv2.ipynb\" target=\"_parent\"><img src=\"https://colab.research.google.com/assets/colab-badge.svg\" alt=\"Open In Colab\"/></a>"
      ]
    },
    {
      "cell_type": "code",
      "source": [
        "!pip install arabert\n",
        "!pip install transformers"
      ],
      "metadata": {
        "id": "pn_qPqpVKyeb"
      },
      "execution_count": null,
      "outputs": []
    },
    {
      "cell_type": "code",
      "execution_count": null,
      "metadata": {
        "colab": {
          "base_uri": "https://localhost:8080/"
        },
        "id": "HdSxJ6cbKVZH",
        "outputId": "f8d2e017-4ace-48c8-cce6-9f47b5cc4734"
      },
      "outputs": [
        {
          "output_type": "stream",
          "name": "stderr",
          "text": [
            "[2022-09-28 13:06:28,939 - farasapy_logger - WARNING]: Be careful with large lines as they may break on interactive mode. You may switch to Standalone mode for such cases.\n"
          ]
        },
        {
          "output_type": "stream",
          "name": "stdout",
          "text": [
            "عاصم +ة لبنان هي [MASK]\n"
          ]
        }
      ],
      "source": [
        "from arabert.preprocess import ArabertPreprocessor\n",
        "\n",
        "model_name = \"aubmindlab/bert-base-arabertv2\"\n",
        "arabert_prep = ArabertPreprocessor(model_name=model_name)\n",
        "\n",
        "text = \"عاصمة لبنان هي بيروت\"\n",
        "preprocessed = arabert_prep.preprocess(text)\n",
        "preprocessed = preprocessed.replace(\"بيروت\", \"[MASK]\")\n",
        "print(preprocessed)"
      ]
    },
    {
      "cell_type": "code",
      "source": [
        "from transformers import pipeline\n",
        "unmasker = pipeline('fill-mask', model = model_name)\n",
        "unmasker(preprocessed)"
      ],
      "metadata": {
        "colab": {
          "base_uri": "https://localhost:8080/"
        },
        "id": "okM9mZBEKbXy",
        "outputId": "1cd9b7e4-8849-4290-a346-b906fc788943"
      },
      "execution_count": null,
      "outputs": [
        {
          "output_type": "stream",
          "name": "stderr",
          "text": [
            "Some weights of the model checkpoint at aubmindlab/bert-base-arabertv2 were not used when initializing BertForMaskedLM: ['cls.seq_relationship.bias', 'cls.seq_relationship.weight']\n",
            "- This IS expected if you are initializing BertForMaskedLM from the checkpoint of a model trained on another task or with another architecture (e.g. initializing a BertForSequenceClassification model from a BertForPreTraining model).\n",
            "- This IS NOT expected if you are initializing BertForMaskedLM from the checkpoint of a model that you expect to be exactly identical (initializing a BertForSequenceClassification model from a BertForSequenceClassification model).\n"
          ]
        },
        {
          "output_type": "execute_result",
          "data": {
            "text/plain": [
              "[{'score': 0.375786691904068,\n",
              "  'token': 1875,\n",
              "  'token_str': 'بيروت',\n",
              "  'sequence': 'عاصم لبنان هي بيروت'},\n",
              " {'score': 0.08452503383159637,\n",
              "  'token': 48,\n",
              "  'token_str': '.',\n",
              "  'sequence': 'عاصم لبنان هي.'},\n",
              " {'score': 0.07384563982486725,\n",
              "  'token': 2314,\n",
              "  'token_str': 'دمشق',\n",
              "  'sequence': 'عاصم لبنان هي دمشق'},\n",
              " {'score': 0.05577431991696358,\n",
              "  'token': 59,\n",
              "  'token_str': ':',\n",
              "  'sequence': 'عاصم لبنان هي :'},\n",
              " {'score': 0.042271003127098083,\n",
              "  'token': 2912,\n",
              "  'token_str': 'باريس',\n",
              "  'sequence': 'عاصم لبنان هي باريس'}]"
            ]
          },
          "metadata": {},
          "execution_count": 14
        }
      ]
    }
  ]
}