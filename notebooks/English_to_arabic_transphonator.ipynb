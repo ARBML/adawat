{
  "nbformat": 4,
  "nbformat_minor": 0,
  "metadata": {
    "colab": {
      "provenance": [],
      "authorship_tag": "ABX9TyMaMjXl3Ej563XKWjfk8w+G",
      "include_colab_link": true
    },
    "kernelspec": {
      "name": "python3",
      "display_name": "Python 3"
    },
    "language_info": {
      "name": "python"
    }
  },
  "cells": [
    {
      "cell_type": "markdown",
      "metadata": {
        "id": "view-in-github",
        "colab_type": "text"
      },
      "source": [
        "<a href=\"https://colab.research.google.com/github/ARBML/adawat/blob/main/notebooks/English_to_arabic_transphonator.ipynb\" target=\"_parent\"><img src=\"https://colab.research.google.com/assets/colab-badge.svg\" alt=\"Open In Colab\"/></a>"
      ]
    },
    {
      "cell_type": "markdown",
      "source": [
        "English-to-arabic-transphonator"
      ],
      "metadata": {
        "id": "jfey7mkgie6s"
      }
    },
    {
      "cell_type": "code",
      "execution_count": 1,
      "metadata": {
        "colab": {
          "base_uri": "https://localhost:8080/"
        },
        "id": "Kppxr1nsiP-e",
        "outputId": "2164d087-af8e-4703-c7f4-d0e0e03cb4ff"
      },
      "outputs": [
        {
          "output_type": "stream",
          "name": "stdout",
          "text": [
            "Looking in indexes: https://pypi.org/simple, https://us-python.pkg.dev/colab-wheels/public/simple/\n",
            "Collecting english_to_arabic_transphonator\n",
            "  Downloading english_to_arabic_transphonator-0.0.0.4-py3-none-any.whl (914 kB)\n",
            "\u001b[K     |████████████████████████████████| 914 kB 5.0 MB/s \n",
            "\u001b[?25hInstalling collected packages: english-to-arabic-transphonator\n",
            "Successfully installed english-to-arabic-transphonator-0.0.0.4\n"
          ]
        }
      ],
      "source": [
        "!pip install english_to_arabic_transphonator\n"
      ]
    },
    {
      "cell_type": "code",
      "source": [
        "from english_to_arabic_transphonator.transphonator import Transphonator\n",
        "\n",
        "words = \"This is awesome\".split()\n",
        "trans = Transphonator()\n",
        "for word in words:\n",
        "    print(word, trans.transphonate_english_word(word))"
      ],
      "metadata": {
        "colab": {
          "base_uri": "https://localhost:8080/"
        },
        "id": "vrHrZqLiioj7",
        "outputId": "b7adf619-cd0c-45ff-d902-c979de899117"
      },
      "execution_count": 2,
      "outputs": [
        {
          "output_type": "stream",
          "name": "stdout",
          "text": [
            "This ذِيس\n",
            "is إيز\n",
            "awesome أوسَام\n"
          ]
        },
        {
          "output_type": "stream",
          "name": "stderr",
          "text": [
            "/usr/local/lib/python3.7/dist-packages/english_to_arabic_transphonator/transphonator.py:77: FutureWarning: Possible nested set at position 3\n",
            "  arabic_translphonated_word,\n",
            "/usr/local/lib/python3.7/dist-packages/english_to_arabic_transphonator/transphonator.py:77: FutureWarning: Possible nested set at position 30\n",
            "  arabic_translphonated_word,\n",
            "/usr/local/lib/python3.7/dist-packages/english_to_arabic_transphonator/transphonator.py:77: FutureWarning: Possible nested set at position 129\n",
            "  arabic_translphonated_word,\n",
            "/usr/local/lib/python3.7/dist-packages/english_to_arabic_transphonator/transphonator.py:89: FutureWarning: Possible nested set at position 3\n",
            "  arabic_translphonated_word,\n",
            "/usr/local/lib/python3.7/dist-packages/english_to_arabic_transphonator/transphonator.py:89: FutureWarning: Possible nested set at position 31\n",
            "  arabic_translphonated_word,\n",
            "/usr/local/lib/python3.7/dist-packages/english_to_arabic_transphonator/transphonator.py:89: FutureWarning: Possible nested set at position 131\n",
            "  arabic_translphonated_word,\n",
            "/usr/local/lib/python3.7/dist-packages/english_to_arabic_transphonator/transphonator.py:105: FutureWarning: Possible nested set at position 3\n",
            "  arabic_translphonated_word,\n",
            "/usr/local/lib/python3.7/dist-packages/english_to_arabic_transphonator/transphonator.py:105: FutureWarning: Possible nested set at position 31\n",
            "  arabic_translphonated_word,\n",
            "/usr/local/lib/python3.7/dist-packages/english_to_arabic_transphonator/transphonator.py:113: FutureWarning: Possible nested set at position 3\n",
            "  arabic_translphonated_word,\n",
            "/usr/local/lib/python3.7/dist-packages/english_to_arabic_transphonator/transphonator.py:113: FutureWarning: Possible nested set at position 34\n",
            "  arabic_translphonated_word,\n"
          ]
        }
      ]
    }
  ]
}