{
  "nbformat": 4,
  "nbformat_minor": 0,
  "metadata": {
    "colab": {
      "provenance": [],
      "authorship_tag": "ABX9TyO5pTznrnVHw2l/y71Kcfn+",
      "include_colab_link": true
    },
    "kernelspec": {
      "name": "python3",
      "display_name": "Python 3"
    },
    "language_info": {
      "name": "python"
    }
  },
  "cells": [
    {
      "cell_type": "markdown",
      "metadata": {
        "id": "view-in-github",
        "colab_type": "text"
      },
      "source": [
        "<a href=\"https://colab.research.google.com/github/ARBML/adawat/blob/main/notebooks/Tashaphyne.ipynb\" target=\"_parent\"><img src=\"https://colab.research.google.com/assets/colab-badge.svg\" alt=\"Open In Colab\"/></a>"
      ]
    },
    {
      "cell_type": "markdown",
      "source": [
        "Tashaphyne: Arabic Light Stemmer تاشفين: التجذيع الخفيف للنصوص العربية"
      ],
      "metadata": {
        "id": "ab_vXVC5Ak2s"
      }
    },
    {
      "cell_type": "code",
      "source": [
        "!pip install Tashaphyne"
      ],
      "metadata": {
        "id": "8dUZoOFXBarC",
        "colab": {
          "base_uri": "https://localhost:8080/"
        },
        "outputId": "5edffe02-9fe4-49e1-9b01-0ab3e10b4b2b"
      },
      "execution_count": 1,
      "outputs": [
        {
          "output_type": "stream",
          "name": "stdout",
          "text": [
            "Looking in indexes: https://pypi.org/simple, https://us-python.pkg.dev/colab-wheels/public/simple/\n",
            "Collecting Tashaphyne\n",
            "  Downloading Tashaphyne-0.3.6-py3-none-any.whl (251 kB)\n",
            "\u001b[K     |████████████████████████████████| 251 kB 5.0 MB/s \n",
            "\u001b[?25hCollecting pyarabic\n",
            "  Downloading PyArabic-0.6.15-py3-none-any.whl (126 kB)\n",
            "\u001b[K     |████████████████████████████████| 126 kB 41.1 MB/s \n",
            "\u001b[?25hRequirement already satisfied: six>=1.14.0 in /usr/local/lib/python3.7/dist-packages (from pyarabic->Tashaphyne) (1.15.0)\n",
            "Installing collected packages: pyarabic, Tashaphyne\n",
            "Successfully installed Tashaphyne-0.3.6 pyarabic-0.6.15\n"
          ]
        }
      ]
    },
    {
      "cell_type": "code",
      "execution_count": 2,
      "metadata": {
        "id": "Uf69ZSU5Aj3P"
      },
      "outputs": [],
      "source": [
        "from tashaphyne.stemming import ArabicLightStemmer\n",
        "ArListem = ArabicLightStemmer()\n"
      ]
    },
    {
      "cell_type": "code",
      "source": [
        "word = u'أفتضاربانني'\n",
        "# stemming word\n",
        "stem = ArListem.light_stem(word)\n",
        "\n",
        "# extract stem\n",
        "print(ArListem.get_stem())\n",
        "\n",
        "# extract root\n",
        "print(ArListem.get_root())"
      ],
      "metadata": {
        "colab": {
          "base_uri": "https://localhost:8080/"
        },
        "id": "BfiSRhHGA_mC",
        "outputId": "d3165692-0389-46b8-fa85-89a7ba18d2b3"
      },
      "execution_count": 3,
      "outputs": [
        {
          "output_type": "stream",
          "name": "stdout",
          "text": [
            "ضارب\n",
            "ضرب\n"
          ]
        }
      ]
    }
  ]
}