{
  "nbformat": 4,
  "nbformat_minor": 0,
  "metadata": {
    "colab": {
      "provenance": [],
      "authorship_tag": "ABX9TyMwtbVqu40nEaTSNOopZJvm",
      "include_colab_link": true
    },
    "kernelspec": {
      "name": "python3",
      "display_name": "Python 3"
    },
    "language_info": {
      "name": "python"
    }
  },
  "cells": [
    {
      "cell_type": "markdown",
      "metadata": {
        "id": "view-in-github",
        "colab_type": "text"
      },
      "source": [
        "<a href=\"https://colab.research.google.com/github/ARBML/adawat/blob/main/notebooks/Arabycia.ipynb\" target=\"_parent\"><img src=\"https://colab.research.google.com/assets/colab-badge.svg\" alt=\"Open In Colab\"/></a>"
      ]
    },
    {
      "cell_type": "code",
      "execution_count": 1,
      "metadata": {
        "colab": {
          "base_uri": "https://localhost:8080/"
        },
        "id": "KHs8nMwfhgWn",
        "outputId": "6b0efc2d-39ae-491a-a022-1475fb4b6865"
      },
      "outputs": [
        {
          "output_type": "stream",
          "name": "stdout",
          "text": [
            "fatal: destination path 'Arabycia' already exists and is not an empty directory.\n",
            "/content/Arabycia\n"
          ]
        }
      ],
      "source": [
        "!git clone https://github.com/mohabmes/Arabycia\n",
        "%cd Arabycia"
      ]
    },
    {
      "cell_type": "code",
      "source": [
        "!git clone https://github.com/mohabmes/Sinai-corpus SinaiCorpus"
      ],
      "metadata": {
        "colab": {
          "base_uri": "https://localhost:8080/"
        },
        "id": "WtCmScFVh_Yx",
        "outputId": "6e3231d8-14be-449c-8b87-c0e6a7e71150"
      },
      "execution_count": 5,
      "outputs": [
        {
          "output_type": "stream",
          "name": "stdout",
          "text": [
            "Cloning into 'SinaiCorpus'...\n",
            "remote: Enumerating objects: 33, done.\u001b[K\n",
            "remote: Counting objects: 100% (12/12), done.\u001b[K\n",
            "remote: Compressing objects: 100% (12/12), done.\u001b[K\n",
            "remote: Total 33 (delta 4), reused 0 (delta 0), pack-reused 21\u001b[K\n",
            "Unpacking objects: 100% (33/33), done.\n"
          ]
        }
      ]
    },
    {
      "cell_type": "code",
      "source": [
        "import nltk\n",
        "nltk.download('punkt')"
      ],
      "metadata": {
        "colab": {
          "base_uri": "https://localhost:8080/"
        },
        "id": "I7uBt0JDiEW-",
        "outputId": "0755bd50-5523-4695-e5f0-1baae027f93e"
      },
      "execution_count": 7,
      "outputs": [
        {
          "output_type": "stream",
          "name": "stderr",
          "text": [
            "[nltk_data] Downloading package punkt to /root/nltk_data...\n",
            "[nltk_data]   Unzipping tokenizers/punkt.zip.\n"
          ]
        },
        {
          "output_type": "execute_result",
          "data": {
            "text/plain": [
              "True"
            ]
          },
          "metadata": {},
          "execution_count": 7
        }
      ]
    },
    {
      "cell_type": "code",
      "source": [
        "from Arabycia import Arabycia\n",
        "text = 'يستعيد الكاتب في هذه الرواية كيف تحولت من مدينة للانوار الي مدينة للاشباح'\n",
        "arabycia = Arabycia()\n",
        "arabycia.set_raw_text(text)\n",
        "arabycia.analyze()"
      ],
      "metadata": {
        "colab": {
          "base_uri": "https://localhost:8080/"
        },
        "id": "nyvXoPR4hnjf",
        "outputId": "98450b89-bb60-4d18-f2e7-73cd831c1b9b"
      },
      "execution_count": 8,
      "outputs": [
        {
          "output_type": "stream",
          "name": "stdout",
          "text": [
            "loading dictPrefixes ... loaded 299 entries\n",
            "loading dictStems ... loaded 38600 lemmas and 82158 entries\n",
            "loading dictSuffixes ... loaded 618 entries\n",
            "loading Sinai-corpus ...\n",
            "loaded Sinai-corpus : 60 File(s).\n",
            "Sentence :\n",
            "يستعيد الكاتب في هذه الرواية كيف تحولت من مدينة للانوار الي مدينة للاشباح\n",
            "With Diacritics :\n",
            "يَسْتَعِيد الكاتِب فِي هٰذِهِ الرِوايَة كَيْفَ تَحَوَّلْتُ مِن مَدِينَة لِلأَنْوار إِلَى مَدِينَة لِلأَشْباح\n",
            "POS :\n",
            "sotaEiyd/VERB_IMPERFECT kAtib/NOUN fiy/PREP h`*ihi/DEM_PRON_F riwAy/NOUN kayofa/REL_PRON taHaw~al/VERB_PERFECT min/PREP madiyn/NOUN >anowAr/NOUN <ilaY/PREP madiyn/NOUN >a$obAH/NOUN\n",
            "\n",
            "Word  : \tيَسْتَعِيد\tyasotaEiyd\t{isotaEAd_1 \n",
            "Root  : \tتعد \n",
            "POS   : \tya/IV3MS+\tsotaEiyd/VERB_IMPERFECT \n",
            "Gloss : \trecover;regain;reclaim\n",
            "\n",
            "Word  : \tهٰذِهِ\th`*ihi\th`*A_1 \n",
            "Root  : \tهٰذ \n",
            "POS   : \th`*ihi/DEM_PRON_F \n",
            "Gloss : \tthis/these\n",
            "\n",
            "Word  : \tلِلأَنْوار\tlil>anowAr\tnuwr_2 \n",
            "Root  : \tوار \n",
            "POS   : \tli/PREP+Al/DET+\t>anowAr/NOUN \n",
            "Gloss : \tlights\n",
            "\n",
            "Word  : \tلِلأَشْباح\tlil>a$obAH\t$abaH_1 \n",
            "Root  : \tشبح \n",
            "POS   : \tli/PREP+Al/DET+\t>a$obAH/NOUN \n",
            "Gloss : \tspecters;shapes\n",
            "\n",
            "Word  : \tالكاتِب\tAlkAtib\tkAtib_1 \n",
            "Root  : \tكتب \n",
            "POS   : \tAl/DET+\tkAtib/NOUN \n",
            "Gloss : \twriter;author\n",
            "\n",
            "Word  : \tفِي\tfiy\tfiy_1 \n",
            "Root  : \tفي \n",
            "POS   : \tfiy/PREP \n",
            "Gloss : \tin\n",
            "\n",
            "Word  : \tالرِوايَة\tAlriwAyap\triwAyap_1 \n",
            "Root  : \tروي \n",
            "POS   : \tAl/DET+\triwAy/NOUN\t+ap/NSUFF_FEM_SG \n",
            "Gloss : \tstory;novel\n",
            "\n",
            "Word  : \tكَيْفَ\tkayofa\tkayofa_1 \n",
            "Root  : \tكيف \n",
            "POS   : \tkayofa/REL_PRON \n",
            "Gloss : \thow\n",
            "\n",
            "Word  : \tتَحَوَّلْتُ\ttaHaw~alotu\ttaHaw~al_1 \n",
            "Root  : \tتحل \n",
            "POS   : \ttaHaw~al/VERB_PERFECT\t+tu/PVSUFF_SUBJ:1S \n",
            "Gloss : \tbe changed;be transformed\n",
            "\n",
            "Word  : \tمِن\tmin\tmin_1 \n",
            "Root  : \tمن \n",
            "POS   : \tmin/PREP \n",
            "Gloss : \tfrom\n",
            "\n",
            "Word  : \tمَدِينَة\tmadiynap\tmadiynap_1 \n",
            "Root  : \tدين \n",
            "POS   : \tmadiyn/NOUN\t+ap/NSUFF_FEM_SG \n",
            "Gloss : \tcity\n",
            "\n",
            "Word  : \tإِلَى\t<ilaY\t<ilaY_1 \n",
            "Root  : \tالى \n",
            "POS   : \t<ilaY/PREP \n",
            "Gloss : \tto;towards\n",
            "\n",
            "Word  : \tمَدِينَة\tmadiynap\tmadiynap_1 \n",
            "Root  : \tدين \n",
            "POS   : \tmadiyn/NOUN\t+ap/NSUFF_FEM_SG \n",
            "Gloss : \tcity\n",
            "loading Sinai-corpus ...\n",
            "loaded Sinai-corpus : 60 File(s).\n",
            "Sentence :\n",
            "يستجمع المؤرخ أفكاره\n",
            "With Diacritics :\n",
            "يَسْتَجْمِع المُؤَرِّخ أَفْكاره\n",
            "POS :\n",
            "sotajomiE/VERB_IMPERFECT mu&ar~ix/NOUN >afokAr/NOUN\n",
            "\n",
            "Word  : \tيَسْتَجْمِع\tyasotajomiE\t{isotajomaE_1 \n",
            "Root  : \tجمع \n",
            "POS   : \tya/IV3MS+\tsotajomiE/VERB_IMPERFECT \n",
            "Gloss : \tgather;summarize\n",
            "\n",
            "Word  : \tأَفْكاره\t>afokArh\tfikor_1 \n",
            "Root  : \tفكر \n",
            "POS   : \t>afokAr/NOUN\t+hu/POSS_PRON_3MS \n",
            "Gloss : \tthoughts;ideas;concepts\n",
            "\n",
            "Word  : \tالمُؤَرِّخ\tAlmu&ar~ix\tmu&ar~ix_1 \n",
            "Root  : \tؤرخ \n",
            "POS   : \tAl/DET+\tmu&ar~ix/NOUN \n",
            "Gloss : \thistorian;chronicler\n",
            "['يستجمع']\n",
            "loading dictPrefixes ... loaded 299 entries\n",
            "loading dictStems ... loaded 38600 lemmas and 82158 entries\n",
            "loading dictSuffixes ... loaded 618 entries\n",
            "loading Sinai-corpus ...\n",
            "loaded Sinai-corpus : 60 File(s).\n",
            "Sentence :\n",
            "يستعيد الكاتب في هذه الرواية كيف تحولت من مدينة للانوار الي مدينة للاشباح\n",
            "With Diacritics :\n",
            "يَسْتَعِيد الكاتِب فِي هٰذِهِ الرِوايَة كَيْفَ تَحَوَّلْتُ مِن مَدِينَة لِلأَنْوار إِلَى مَدِينَة لِلأَشْباح\n",
            "POS :\n",
            "sotaEiyd/VERB_IMPERFECT kAtib/NOUN fiy/PREP h`*ihi/DEM_PRON_F riwAy/NOUN kayofa/REL_PRON taHaw~al/VERB_PERFECT min/PREP madiyn/NOUN >anowAr/NOUN <ilaY/PREP madiyn/NOUN >a$obAH/NOUN\n",
            "\n",
            "Word  : \tيَسْتَعِيد\tyasotaEiyd\t{isotaEAd_1 \n",
            "Root  : \tتعد \n",
            "POS   : \tya/IV3MS+\tsotaEiyd/VERB_IMPERFECT \n",
            "Gloss : \trecover;regain;reclaim\n",
            "\n",
            "Word  : \tهٰذِهِ\th`*ihi\th`*A_1 \n",
            "Root  : \tهٰذ \n",
            "POS   : \th`*ihi/DEM_PRON_F \n",
            "Gloss : \tthis/these\n",
            "\n",
            "Word  : \tلِلأَنْوار\tlil>anowAr\tnuwr_2 \n",
            "Root  : \tوار \n",
            "POS   : \tli/PREP+Al/DET+\t>anowAr/NOUN \n",
            "Gloss : \tlights\n",
            "\n",
            "Word  : \tلِلأَشْباح\tlil>a$obAH\t$abaH_1 \n",
            "Root  : \tشبح \n",
            "POS   : \tli/PREP+Al/DET+\t>a$obAH/NOUN \n",
            "Gloss : \tspecters;shapes\n",
            "\n",
            "Word  : \tالكاتِب\tAlkAtib\tkAtib_1 \n",
            "Root  : \tكتب \n",
            "POS   : \tAl/DET+\tkAtib/NOUN \n",
            "Gloss : \twriter;author\n",
            "\n",
            "Word  : \tفِي\tfiy\tfiy_1 \n",
            "Root  : \tفي \n",
            "POS   : \tfiy/PREP \n",
            "Gloss : \tin\n",
            "\n",
            "Word  : \tالرِوايَة\tAlriwAyap\triwAyap_1 \n",
            "Root  : \tروي \n",
            "POS   : \tAl/DET+\triwAy/NOUN\t+ap/NSUFF_FEM_SG \n",
            "Gloss : \tstory;novel\n",
            "\n",
            "Word  : \tكَيْفَ\tkayofa\tkayofa_1 \n",
            "Root  : \tكيف \n",
            "POS   : \tkayofa/REL_PRON \n",
            "Gloss : \thow\n",
            "\n",
            "Word  : \tتَحَوَّلْتُ\ttaHaw~alotu\ttaHaw~al_1 \n",
            "Root  : \tتحل \n",
            "POS   : \ttaHaw~al/VERB_PERFECT\t+tu/PVSUFF_SUBJ:1S \n",
            "Gloss : \tbe changed;be transformed\n",
            "\n",
            "Word  : \tمِن\tmin\tmin_1 \n",
            "Root  : \tمن \n",
            "POS   : \tmin/PREP \n",
            "Gloss : \tfrom\n",
            "\n",
            "Word  : \tمَدِينَة\tmadiynap\tmadiynap_1 \n",
            "Root  : \tدين \n",
            "POS   : \tmadiyn/NOUN\t+ap/NSUFF_FEM_SG \n",
            "Gloss : \tcity\n",
            "\n",
            "Word  : \tإِلَى\t<ilaY\t<ilaY_1 \n",
            "Root  : \tالى \n",
            "POS   : \t<ilaY/PREP \n",
            "Gloss : \tto;towards\n",
            "\n",
            "Word  : \tمَدِينَة\tmadiynap\tmadiynap_1 \n",
            "Root  : \tدين \n",
            "POS   : \tmadiyn/NOUN\t+ap/NSUFF_FEM_SG \n",
            "Gloss : \tcity\n"
          ]
        }
      ]
    },
    {
      "cell_type": "code",
      "source": [],
      "metadata": {
        "id": "Efb9D3DbhsVg"
      },
      "execution_count": null,
      "outputs": []
    }
  ]
}