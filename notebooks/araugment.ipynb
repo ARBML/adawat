{
  "nbformat": 4,
  "nbformat_minor": 0,
  "metadata": {
    "colab": {
      "provenance": [],
      "include_colab_link": true
    },
    "kernelspec": {
      "name": "python3",
      "display_name": "Python 3"
    },
    "language_info": {
      "name": "python"
    }
  },
  "cells": [
    {
      "cell_type": "markdown",
      "metadata": {
        "id": "view-in-github",
        "colab_type": "text"
      },
      "source": [
        "<a href=\"https://colab.research.google.com/github/ARBML/adawat/blob/main/notebooks/araugment.ipynb\" target=\"_parent\"><img src=\"https://colab.research.google.com/assets/colab-badge.svg\" alt=\"Open In Colab\"/></a>"
      ]
    },
    {
      "cell_type": "markdown",
      "source": [
        "Augment Arabic data for deep learning tasks, see also [Github repository](https://github.com/ashaheedq/araugment)"
      ],
      "metadata": {
        "id": "gWbNPxVuizEY"
      }
    },
    {
      "cell_type": "code",
      "source": [
        "!pip install araugment"
      ],
      "metadata": {
        "id": "BZqbfOgnjJqi"
      },
      "execution_count": null,
      "outputs": []
    },
    {
      "cell_type": "markdown",
      "source": [
        "Back-translation"
      ],
      "metadata": {
        "id": "9qFVevPikPlo"
      }
    },
    {
      "cell_type": "code",
      "execution_count": null,
      "metadata": {
        "colab": {
          "base_uri": "https://localhost:8080/"
        },
        "id": "uCE6-Mv7ixi6",
        "outputId": "3db9d5cd-98c9-4e05-b20e-6c57cac4995f"
      },
      "outputs": [
        {
          "output_type": "stream",
          "name": "stdout",
          "text": [
            "بلغت العربية بفضل القرآن من الاتساع مدىً لا تكاد تعرفه أي لغة أخرى من لغات الدنيا\n"
          ]
        }
      ],
      "source": [
        "from araugment import back_translate\n",
        "text = \"بلغت العربية بفضل القرآن من الاتساع مدىً لا تكاد تعرفه أي لغة أخرى من لغات الدنيا\"\n",
        "\n",
        "#default value for original is \"ar\" which stands for Arabic\n",
        "print(back_translate(text, language_src='ar', language_dst='e'))\n"
      ]
    }
  ]
}