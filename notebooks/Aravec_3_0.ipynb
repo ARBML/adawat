{
  "nbformat": 4,
  "nbformat_minor": 0,
  "metadata": {
    "colab": {
      "provenance": []
    },
    "kernelspec": {
      "name": "python3",
      "display_name": "Python 3"
    },
    "language_info": {
      "name": "python"
    }
  },
  "cells": [
    {
      "cell_type": "code",
      "execution_count": null,
      "metadata": {
        "colab": {
          "base_uri": "https://localhost:8080/"
        },
        "id": "nr0hH1ceGXxc",
        "outputId": "ee581d66-fae3-4a69-953f-f4109d1b855f"
      },
      "outputs": [
        {
          "output_type": "stream",
          "name": "stdout",
          "text": [
            "Cloning into 'aravec'...\n",
            "remote: Enumerating objects: 145, done.\u001b[K\n",
            "remote: Counting objects: 100% (3/3), done.\u001b[K\n",
            "remote: Compressing objects: 100% (3/3), done.\u001b[K\n",
            "remote: Total 145 (delta 0), reused 0 (delta 0), pack-reused 142\u001b[K\n",
            "Receiving objects: 100% (145/145), 1.20 MiB | 2.83 MiB/s, done.\n",
            "Resolving deltas: 100% (45/45), done.\n",
            "/content/aravec\n"
          ]
        }
      ],
      "source": [
        "!git clone https://github.com/bakrianoo/aravec\n",
        "%cd aravec"
      ]
    },
    {
      "cell_type": "code",
      "source": [
        "!wget https://bakrianoo.ewr1.vultrobjects.com/aravec/full_uni_cbow_100_twitter.zip"
      ],
      "metadata": {
        "colab": {
          "base_uri": "https://localhost:8080/"
        },
        "id": "VMFuNc5aIHbB",
        "outputId": "19eebe72-b61a-45b2-ba44-a2b0aff1dfd5"
      },
      "execution_count": null,
      "outputs": [
        {
          "output_type": "stream",
          "name": "stdout",
          "text": [
            "--2022-09-21 12:58:46--  https://bakrianoo.ewr1.vultrobjects.com/aravec/full_uni_cbow_100_twitter.zip\n",
            "Resolving bakrianoo.ewr1.vultrobjects.com (bakrianoo.ewr1.vultrobjects.com)... 108.61.0.122, 2001:19f0:0:22::100\n",
            "Connecting to bakrianoo.ewr1.vultrobjects.com (bakrianoo.ewr1.vultrobjects.com)|108.61.0.122|:443... connected.\n",
            "HTTP request sent, awaiting response... 200 OK\n",
            "Length: 962251835 (918M) [application/zip]\n",
            "Saving to: ‘full_uni_cbow_100_twitter.zip’\n",
            "\n",
            "full_uni_cbow_100_t 100%[===================>] 917.67M  43.7MB/s    in 23s     \n",
            "\n",
            "2022-09-21 12:59:09 (39.7 MB/s) - ‘full_uni_cbow_100_twitter.zip’ saved [962251835/962251835]\n",
            "\n"
          ]
        }
      ]
    },
    {
      "cell_type": "code",
      "source": [
        "!unzip full_uni_cbow_100_twitter.zip"
      ],
      "metadata": {
        "colab": {
          "base_uri": "https://localhost:8080/"
        },
        "id": "SwJS70_pIS6F",
        "outputId": "c29f8b1e-05d8-4957-b410-715211a2d45f"
      },
      "execution_count": null,
      "outputs": [
        {
          "output_type": "stream",
          "name": "stdout",
          "text": [
            "Archive:  full_uni_cbow_100_twitter.zip\n",
            "  inflating: full_uni_cbow_100_twitter.mdl  \n",
            "  inflating: full_uni_cbow_100_twitter.mdl.trainables.syn1neg.npy  \n",
            "  inflating: full_uni_cbow_100_twitter.mdl.wv.vectors.npy  \n"
          ]
        }
      ]
    },
    {
      "cell_type": "code",
      "source": [
        "import gensim\n",
        "import re\n",
        "import numpy as np\n",
        "from nltk import ngrams\n",
        "\n",
        "from utilities import clean_str # import utilities.py module\n",
        "\n",
        "\n",
        "t_model = gensim.models.Word2Vec.load('full_uni_cbow_100_twitter.mdl')"
      ],
      "metadata": {
        "id": "ef3LT29UHcgf"
      },
      "execution_count": null,
      "outputs": []
    },
    {
      "cell_type": "code",
      "source": [
        "token = clean_str(u'تونس')\n",
        "\n",
        "most_similar = t_model.wv.most_similar( token, topn=10 )\n",
        "for term, score in most_similar:\n",
        "    print(term, score)"
      ],
      "metadata": {
        "colab": {
          "base_uri": "https://localhost:8080/"
        },
        "id": "cIFUdf-iIiYI",
        "outputId": "dd650d74-0b15-48bc-914f-4ddafb9a16e7"
      },
      "execution_count": null,
      "outputs": [
        {
          "output_type": "stream",
          "name": "stdout",
          "text": [
            "ليبيا 0.8673392534255981\n",
            "مصر 0.8415079116821289\n",
            "الجزائر 0.8411524295806885\n",
            "السودان 0.8396725654602051\n",
            "لبنان 0.8104022741317749\n",
            "فرنسا 0.7915219068527222\n",
            "طرابلس 0.788867712020874\n",
            "الاردن 0.7877251505851746\n",
            "موريتانيا 0.7762532234191895\n",
            "تركيا 0.7600604295730591\n"
          ]
        }
      ]
    }
  ]
}