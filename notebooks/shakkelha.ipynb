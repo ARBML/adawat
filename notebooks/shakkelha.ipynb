{
  "nbformat": 4,
  "nbformat_minor": 0,
  "metadata": {
    "colab": {
      "provenance": [],
      "authorship_tag": "ABX9TyOcVHLN2SCh4trD8g2XF3lj",
      "include_colab_link": true
    },
    "kernelspec": {
      "name": "python3",
      "display_name": "Python 3"
    },
    "language_info": {
      "name": "python"
    }
  },
  "cells": [
    {
      "cell_type": "markdown",
      "metadata": {
        "id": "view-in-github",
        "colab_type": "text"
      },
      "source": [
        "<a href=\"https://colab.research.google.com/github/ARBML/adawat/blob/main/notebooks/shakkelha.ipynb\" target=\"_parent\"><img src=\"https://colab.research.google.com/assets/colab-badge.svg\" alt=\"Open In Colab\"/></a>"
      ]
    },
    {
      "cell_type": "code",
      "execution_count": 1,
      "metadata": {
        "colab": {
          "base_uri": "https://localhost:8080/"
        },
        "id": "3uIBmtilkNvv",
        "outputId": "2c134f9f-8401-4010-f8b6-64ca4dd49c54"
      },
      "outputs": [
        {
          "output_type": "stream",
          "name": "stdout",
          "text": [
            "fatal: destination path 'shakkelha' already exists and is not an empty directory.\n",
            "/content/shakkelha\n"
          ]
        }
      ],
      "source": [
        "!git clone https://github.com/AliOsm/shakkelha\n",
        "%cd shakkelha"
      ]
    },
    {
      "cell_type": "code",
      "source": [
        "!pip install -r requirements.txt\n",
        "!pip install 'h5py==2.10.0' --force-reinstall"
      ],
      "metadata": {
        "id": "yuOZIBjRmmKk"
      },
      "execution_count": null,
      "outputs": []
    },
    {
      "cell_type": "code",
      "source": [
        "!python predict.py --input-file-path sample_input \\\n",
        "                  --model-type rnn \\\n",
        "                  --model-number 3 \\\n",
        "                  --model-size small \\\n",
        "                  --model-average 20 \\\n",
        "                  --output-file-path sample_output"
      ],
      "metadata": {
        "colab": {
          "base_uri": "https://localhost:8080/"
        },
        "id": "VrHerQ69kg6G",
        "outputId": "0249ca10-0b90-4467-fdd3-9a69fda3b6cf"
      },
      "execution_count": 4,
      "outputs": [
        {
          "output_type": "stream",
          "name": "stdout",
          "text": [
            "Using TensorFlow backend.\n",
            "WARNING:tensorflow:From predict.py:148: The name tf.logging.set_verbosity is deprecated. Please use tf.compat.v1.logging.set_verbosity instead.\n",
            "\n",
            "WARNING:tensorflow:From predict.py:148: The name tf.logging.ERROR is deprecated. Please use tf.compat.v1.logging.ERROR instead.\n",
            "\n",
            "Loading model from: models/rnn_models/3_normalized_model/small_data/lstm/avg_20.ckpt\n",
            "Model: \"model_3\"\n",
            "_________________________________________________________________\n",
            "Layer (type)                 Output Shape              Param #   \n",
            "=================================================================\n",
            "input_3 (InputLayer)         (None, None)              0         \n",
            "_________________________________________________________________\n",
            "embedding_3 (Embedding)      (None, None, 25)          1925      \n",
            "_________________________________________________________________\n",
            "bidirectional_5 (Bidirection (None, None, 512)         577536    \n",
            "_________________________________________________________________\n",
            "dropout_5 (Dropout)          (None, None, 512)         0         \n",
            "_________________________________________________________________\n",
            "bidirectional_6 (Bidirection (None, None, 512)         1574912   \n",
            "_________________________________________________________________\n",
            "dropout_6 (Dropout)          (None, None, 512)         0         \n",
            "_________________________________________________________________\n",
            "time_distributed_6 (TimeDist (None, None, 512)         262656    \n",
            "_________________________________________________________________\n",
            "time_distributed_7 (TimeDist (None, None, 512)         262656    \n",
            "_________________________________________________________________\n",
            "time_distributed_8 (TimeDist (None, None, 19)          9747      \n",
            "=================================================================\n",
            "Total params: 2,689,432\n",
            "Trainable params: 2,689,432\n",
            "Non-trainable params: 0\n",
            "_________________________________________________________________\n",
            "Model loaded successfully!\n",
            "Loading data...\n",
            "1 lines loaded\n",
            "Loading constants...\n",
            "Start predicting...\n",
            "1/1 (100.00)\n",
            "Write predictions...\n"
          ]
        }
      ]
    },
    {
      "cell_type": "code",
      "source": [
        "!cat sample_output"
      ],
      "metadata": {
        "colab": {
          "base_uri": "https://localhost:8080/"
        },
        "id": "wnocZOVTmnKZ",
        "outputId": "18884045-9cdd-47c3-95c2-3577f6e3572e"
      },
      "execution_count": 5,
      "outputs": [
        {
          "output_type": "stream",
          "name": "stdout",
          "text": [
            "اللَّهُمَّ عَلِمْنَا مَا يَنْفَعُنَا وَإِنْفَعْنَا بِمَا عَلِمْتُنَا إِنَّكَ أَنْتَ الْعَلِيمُ الْحَكِيمُ"
          ]
        }
      ]
    }
  ]
}