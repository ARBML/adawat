{
  "nbformat": 4,
  "nbformat_minor": 0,
  "metadata": {
    "colab": {
      "provenance": [],
      "include_colab_link": true
    },
    "kernelspec": {
      "name": "python3",
      "display_name": "Python 3"
    },
    "language_info": {
      "name": "python"
    }
  },
  "cells": [
    {
      "cell_type": "markdown",
      "metadata": {
        "id": "view-in-github",
        "colab_type": "text"
      },
      "source": [
        "<a href=\"https://colab.research.google.com/github/ARBML/adawat/blob/main/notebooks/tkseem.ipynb\" target=\"_parent\"><img src=\"https://colab.research.google.com/assets/colab-badge.svg\" alt=\"Open In Colab\"/></a>"
      ]
    },
    {
      "cell_type": "code",
      "execution_count": null,
      "metadata": {
        "id": "M3eEXP6QNqVS"
      },
      "outputs": [],
      "source": [
        "!pip install tkseem "
      ]
    },
    {
      "cell_type": "code",
      "source": [
        "!wget https://raw.githubusercontent.com/ARBML/tkseem/master/tasks/samples/data.txt"
      ],
      "metadata": {
        "colab": {
          "base_uri": "https://localhost:8080/"
        },
        "id": "PjPZHe0NNxpn",
        "outputId": "7abd3e35-e05f-4332-bfc5-aade7d8f8a44"
      },
      "execution_count": null,
      "outputs": [
        {
          "output_type": "stream",
          "name": "stdout",
          "text": [
            "--2022-09-21 13:23:20--  https://raw.githubusercontent.com/ARBML/tkseem/master/tasks/samples/data.txt\n",
            "Resolving raw.githubusercontent.com (raw.githubusercontent.com)... 185.199.110.133, 185.199.109.133, 185.199.108.133, ...\n",
            "Connecting to raw.githubusercontent.com (raw.githubusercontent.com)|185.199.110.133|:443... connected.\n",
            "HTTP request sent, awaiting response... 200 OK\n",
            "Length: 11841865 (11M) [text/plain]\n",
            "Saving to: ‘data.txt’\n",
            "\n",
            "data.txt            100%[===================>]  11.29M  --.-KB/s    in 0.1s    \n",
            "\n",
            "2022-09-21 13:23:20 (107 MB/s) - ‘data.txt’ saved [11841865/11841865]\n",
            "\n"
          ]
        }
      ]
    },
    {
      "cell_type": "code",
      "source": [
        "import tkseem as tk "
      ],
      "metadata": {
        "id": "nOFuM4ShN5dd"
      },
      "execution_count": null,
      "outputs": []
    },
    {
      "cell_type": "code",
      "source": [
        "tokenizer = tk.WordTokenizer(vocab_size = 1000) \n",
        "tokenizer.train(file_path = \"data.txt\")"
      ],
      "metadata": {
        "colab": {
          "base_uri": "https://localhost:8080/"
        },
        "id": "FdGf1nYEN7wB",
        "outputId": "939d1b8e-ce36-42c6-e923-e1d3daba87df"
      },
      "execution_count": null,
      "outputs": [
        {
          "output_type": "stream",
          "name": "stdout",
          "text": [
            "Training WordTokenizer ...\n"
          ]
        }
      ]
    },
    {
      "cell_type": "code",
      "source": [
        "tokenizer.tokenize(\"السلام عليكم\")"
      ],
      "metadata": {
        "id": "6WZpXbwOOD5Y",
        "outputId": "679a2d47-09a0-4fcc-bc9a-e33ea6c0373d",
        "colab": {
          "base_uri": "https://localhost:8080/"
        }
      },
      "execution_count": null,
      "outputs": [
        {
          "output_type": "execute_result",
          "data": {
            "text/plain": [
              "['السلام', 'عليكم']"
            ]
          },
          "metadata": {},
          "execution_count": 5
        }
      ]
    }
  ]
}