{
  "nbformat": 4,
  "nbformat_minor": 0,
  "metadata": {
    "colab": {
      "provenance": [],
      "collapsed_sections": [],
      "authorship_tag": "ABX9TyMehJqt6XJpm9n5/mKXH2tC",
      "include_colab_link": true
    },
    "kernelspec": {
      "name": "python3",
      "display_name": "Python 3"
    },
    "language_info": {
      "name": "python"
    }
  },
  "cells": [
    {
      "cell_type": "markdown",
      "metadata": {
        "id": "view-in-github",
        "colab_type": "text"
      },
      "source": [
        "<a href=\"https://colab.research.google.com/github/ARBML/adawat/blob/main/notebooks/Assem's_Arabic_Stemmer.ipynb\" target=\"_parent\"><img src=\"https://colab.research.google.com/assets/colab-badge.svg\" alt=\"Open In Colab\"/></a>"
      ]
    },
    {
      "cell_type": "code",
      "source": [
        "%%capture\n",
        "!wget https://www.arabicstemmer.com/python/snowballstemmer-1.1.0.tar.gz\n",
        "!tar -xzvf snowballstemmer-1.1.0.tar.gz\n",
        "%cd snowballstemmer-1.1.0/"
      ],
      "metadata": {
        "colab": {
          "base_uri": "https://localhost:8080/"
        },
        "id": "tN_fg3wkJ2B3",
        "outputId": "43b81fdd-04ce-4927-bccb-5769cbe47248"
      },
      "execution_count": 11,
      "outputs": [
        {
          "output_type": "stream",
          "name": "stdout",
          "text": [
            "--2022-10-12 21:43:55--  https://www.arabicstemmer.com/python/snowballstemmer-1.1.0.tar.gz\n",
            "Resolving www.arabicstemmer.com (www.arabicstemmer.com)... 185.31.40.21, 2a00:b6e0:1:20:12::1\n",
            "Connecting to www.arabicstemmer.com (www.arabicstemmer.com)|185.31.40.21|:443... connected.\n",
            "HTTP request sent, awaiting response... 200 OK\n",
            "Length: 60937 (60K) [application/gzip]\n",
            "Saving to: ‘snowballstemmer-1.1.0.tar.gz’\n",
            "\n",
            "snowballstemmer-1.1 100%[===================>]  59.51K   216KB/s    in 0.3s    \n",
            "\n",
            "2022-10-12 21:43:56 (216 KB/s) - ‘snowballstemmer-1.1.0.tar.gz’ saved [60937/60937]\n",
            "\n"
          ]
        }
      ]
    },
    {
      "cell_type": "code",
      "source": [
        "from snowballstemmer import stemmer\n",
        "ar_stemmer = stemmer(\"arabic\")\n",
        "ar_stemmer.stemWord(u\"فسميتموها\")"
      ],
      "metadata": {
        "colab": {
          "base_uri": "https://localhost:8080/",
          "height": 35
        },
        "id": "Vtms0wM0IMNI",
        "outputId": "6258a13b-bc5c-472d-fdc1-ce74bcb00441"
      },
      "execution_count": 14,
      "outputs": [
        {
          "output_type": "execute_result",
          "data": {
            "text/plain": [
              "'سمي'"
            ],
            "application/vnd.google.colaboratory.intrinsic+json": {
              "type": "string"
            }
          },
          "metadata": {},
          "execution_count": 14
        }
      ]
    }
  ]
}