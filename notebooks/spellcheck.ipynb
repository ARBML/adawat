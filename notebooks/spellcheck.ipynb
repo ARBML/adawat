{
  "nbformat": 4,
  "nbformat_minor": 0,
  "metadata": {
    "colab": {
      "provenance": [],
      "include_colab_link": true
    },
    "kernelspec": {
      "name": "python3",
      "display_name": "Python 3"
    },
    "language_info": {
      "name": "python"
    }
  },
  "cells": [
    {
      "cell_type": "markdown",
      "metadata": {
        "id": "view-in-github",
        "colab_type": "text"
      },
      "source": [
        "<a href=\"https://colab.research.google.com/github/ARBML/adawat/blob/main/notebooks/spellcheck.ipynb\" target=\"_parent\"><img src=\"https://colab.research.google.com/assets/colab-badge.svg\" alt=\"Open In Colab\"/></a>"
      ]
    },
    {
      "cell_type": "code",
      "execution_count": null,
      "metadata": {
        "id": "fIOvBIK4EB45"
      },
      "outputs": [],
      "source": [
        "import json\n",
        "import requests\n",
        "url = 'https://farasa.qcri.org/webapi/spellcheck/'\n",
        "text = 'يُشار إلى أن اللغة العربية' \n",
        "api_key = \"#####################\" #registration is required to get a key\n",
        "payload = {'text': text, 'api_key': api_key}\n",
        "data = requests.post(url, data=payload)\n",
        "result = json.loads(data.text)\n",
        "print(result) "
      ]
    }
  ]
}