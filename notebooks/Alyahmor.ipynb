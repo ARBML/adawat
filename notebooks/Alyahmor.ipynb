{
  "nbformat": 4,
  "nbformat_minor": 0,
  "metadata": {
    "colab": {
      "provenance": [],
      "include_colab_link": true
    },
    "kernelspec": {
      "name": "python3",
      "display_name": "Python 3"
    },
    "language_info": {
      "name": "python"
    }
  },
  "cells": [
    {
      "cell_type": "markdown",
      "metadata": {
        "id": "view-in-github",
        "colab_type": "text"
      },
      "source": [
        "<a href=\"https://colab.research.google.com/github/ARBML/adawat/blob/main/notebooks/Alyahmor.ipynb\" target=\"_parent\"><img src=\"https://colab.research.google.com/assets/colab-badge.svg\" alt=\"Open In Colab\"/></a>"
      ]
    },
    {
      "cell_type": "markdown",
      "source": [
        "Alyahmor is an Arabic flexionnal morphology generator, see also [github repository](https://github.com/linuxscout/alyahmor)"
      ],
      "metadata": {
        "id": "6B4JUybtc4-I"
      }
    },
    {
      "cell_type": "code",
      "execution_count": null,
      "metadata": {
        "colab": {
          "base_uri": "https://localhost:8080/"
        },
        "id": "UN6cXLW4c4WG",
        "outputId": "2b4b8079-59aa-48d3-cb4e-82a6462e7345"
      },
      "outputs": [
        {
          "output_type": "stream",
          "name": "stdout",
          "text": [
            "Looking in indexes: https://pypi.org/simple, https://us-python.pkg.dev/colab-wheels/public/simple/\n",
            "Collecting alyahmor\n",
            "  Downloading alyahmor-0.1.5-py3-none-any.whl (51 kB)\n",
            "\u001b[K     |████████████████████████████████| 51 kB 380 kB/s \n",
            "\u001b[?25hCollecting arramooz-pysqlite>=0.1\n",
            "  Downloading arramooz_pysqlite-0.3-py3-none-any.whl (9.2 MB)\n",
            "\u001b[K     |████████████████████████████████| 9.2 MB 3.5 MB/s \n",
            "\u001b[?25hCollecting pyarabic>=0.6.2\n",
            "  Downloading PyArabic-0.6.15-py3-none-any.whl (126 kB)\n",
            "\u001b[K     |████████████████████████████████| 126 kB 55.9 MB/s \n",
            "\u001b[?25hCollecting libqutrub>=1.0\n",
            "  Downloading libqutrub-1.2.4.1-py3-none-any.whl (138 kB)\n",
            "\u001b[K     |████████████████████████████████| 138 kB 54.6 MB/s \n",
            "\u001b[?25hRequirement already satisfied: six>=1.14.0 in /usr/local/lib/python3.7/dist-packages (from pyarabic>=0.6.2->alyahmor) (1.15.0)\n",
            "Installing collected packages: pyarabic, libqutrub, arramooz-pysqlite, alyahmor\n",
            "Successfully installed alyahmor-0.1.5 arramooz-pysqlite-0.3 libqutrub-1.2.4.1 pyarabic-0.6.15\n"
          ]
        }
      ],
      "source": [
        "!pip install alyahmor"
      ]
    },
    {
      "cell_type": "markdown",
      "source": [
        "packages required"
      ],
      "metadata": {
        "id": "LfcA8TF-eJiX"
      }
    },
    {
      "cell_type": "code",
      "source": [
        "!pip install libqutrub>=1.0 pyarabic>=0.6.2 arramooz-pysqlite>=0.1"
      ],
      "metadata": {
        "id": "twbJVF6uds_u"
      },
      "execution_count": null,
      "outputs": []
    },
    {
      "cell_type": "markdown",
      "source": [
        "Generate nouns"
      ],
      "metadata": {
        "id": "Hxtb8mYzephG"
      }
    },
    {
      "cell_type": "code",
      "source": [
        "import alyahmor.genelex\n",
        "generator = alyahmor.genelex.genelex()\n",
        "word = u\"كِتِاب\"\n",
        "noun_forms = generator.generate_forms( word, word_type=\"noun\")\n",
        "noun_forms"
      ],
      "metadata": {
        "id": "M5DA6xzddRQP"
      },
      "execution_count": null,
      "outputs": []
    },
    {
      "cell_type": "markdown",
      "source": [
        "Generate verbs"
      ],
      "metadata": {
        "id": "BEJybMN5fFpn"
      }
    },
    {
      "cell_type": "code",
      "source": [
        "import alyahmor.genelex\n",
        "generator = alyahmor.genelex.genelex()\n",
        "word = u\"استعمل\"\n",
        "verb_forms = generator.generate_forms( word, word_type=\"verb\")\n",
        "verb_forms"
      ],
      "metadata": {
        "id": "WfhYkif2fHty"
      },
      "execution_count": null,
      "outputs": []
    }
  ]
}